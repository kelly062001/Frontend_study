{
  "cells": [
    {
      "cell_type": "markdown",
      "metadata": {
        "id": "LKJcXqGWooxz"
      },
      "source": [
        "# 1. 라이브러리 및 데이터"
      ]
    },
    {
      "cell_type": "code",
      "execution_count": 6,
      "metadata": {
        "id": "jevUHLWWLNJe"
      },
      "outputs": [],
      "source": [
        "import numpy as np\n",
        "import pandas as pd\n",
        "\n",
        "import seaborn as sns\n",
        "sns.set(style='whitegrid')\n",
        "\n",
        "# warning 표시 무시\n",
        "import warnings\n",
        "warnings.filterwarnings('ignore')"
      ]
    },
    {
      "cell_type": "markdown",
      "metadata": {
        "id": "B2fcyx8ueZIE"
      },
      "source": [
        "데이터 출처: https://www.kaggle.com/datasets/mysarahmadbhat/hyundai-used-car-listing"
      ]
    },
    {
      "cell_type": "markdown",
      "metadata": {
        "id": "tPagP30u955l"
      },
      "source": [
        "한글 사용 위해 코드 실행"
      ]
    },
    {
      "cell_type": "code",
      "execution_count": 7,
      "metadata": {
        "colab": {
          "base_uri": "https://localhost:8080/"
        },
        "id": "kIxOeBQZ7baD",
        "outputId": "0cbfcafa-3a3a-4dbb-f2a0-1fbbfa824a31"
      },
      "outputs": [
        {
          "name": "stderr",
          "output_type": "stream",
          "text": [
            "'sudo'��(��) ���� �Ǵ� �ܺ� ����, ������ �� �ִ� ���α׷�, �Ǵ�\n",
            "��ġ ������ �ƴմϴ�.\n",
            "'sudo'��(��) ���� �Ǵ� �ܺ� ����, ������ �� �ִ� ���α׷�, �Ǵ�\n",
            "��ġ ������ �ƴմϴ�.\n",
            "'rm'��(��) ���� �Ǵ� �ܺ� ����, ������ �� �ִ� ���α׷�, �Ǵ�\n",
            "��ġ ������ �ƴմϴ�.\n"
          ]
        }
      ],
      "source": [
        "!sudo apt-get install -y fonts-nanum\n",
        "!sudo fc-cache -fv\n",
        "!rm ~/.cache/matplotlib -rf"
      ]
    },
    {
      "cell_type": "markdown",
      "metadata": {
        "id": "I2mGK1Ig8soZ"
      },
      "source": [
        "# 다운 후 런타임 다시 시작"
      ]
    },
    {
      "cell_type": "code",
      "execution_count": 8,
      "metadata": {
        "id": "-EH9Wyfj7iDU"
      },
      "outputs": [],
      "source": [
        "import matplotlib.pyplot as plt # 맷플롯립 import 하기\n",
        "plt.rcParams['font.family'] = 'NanumBarunGothic' # 나눔바른고딕 적용하기"
      ]
    },
    {
      "cell_type": "code",
      "execution_count": 9,
      "metadata": {
        "colab": {
          "base_uri": "https://localhost:8080/",
          "height": 476
        },
        "id": "lFOulNno-Fgy",
        "outputId": "89adb57c-f0e1-4cfa-9342-8c8b82a05fa9"
      },
      "outputs": [
        {
          "data": {
            "text/plain": [
              "Text(0.5, 1.0, '한글')"
            ]
          },
          "execution_count": 9,
          "metadata": {},
          "output_type": "execute_result"
        },
        {
          "data": {
            "image/png": "[encoded data removed]",
            "text/plain": [
              "<Figure size 432x288 with 1 Axes>"
            ]
          },
          "metadata": {},
          "output_type": "display_data"
        }
      ],
      "source": [
        "plt.plot([1,2])\n",
        "plt.title('한글')"
      ]
    },
    {
      "cell_type": "code",
      "execution_count": 11,
      "metadata": {
        "id": "g3ny9ont-dxD"
      },
      "outputs": [],
      "source": [
        "df = pd.read_csv('./hyundi.csv')"
      ]
    },
    {
      "cell_type": "code",
      "execution_count": null,
      "metadata": {
        "id": "LgkHe65Kolqy"
      },
      "outputs": [],
      "source": [
        "df = pd.read_csv('/content/sample_data/hyundi.csv')"
      ]
    },
    {
      "cell_type": "code",
      "execution_count": 12,
      "metadata": {
        "colab": {
          "base_uri": "https://localhost:8080/",
          "height": 424
        },
        "id": "GouahZGDoyM1",
        "outputId": "b8b6ec5d-87bd-49a4-920d-1ca2a0cb4bc9"
      },
      "outputs": [
        {
          "data": {
            "text/html": [
              "<div>\n",
              "<style scoped>\n",
              "    .dataframe tbody tr th:only-of-type {\n",
              "        vertical-align: middle;\n",
              "    }\n",
              "\n",
              "    .dataframe tbody tr th {\n",
              "        vertical-align: top;\n",
              "    }\n",
              "\n",
              "    .dataframe thead th {\n",
              "        text-align: right;\n",
              "    }\n",
              "</style>\n",
              "<table border=\"1\" class=\"dataframe\">\n",
              "  <thead>\n",
              "    <tr style=\"text-align: right;\">\n",
              "      <th></th>\n",
              "      <th>model</th>\n",
              "      <th>year</th>\n",
              "      <th>price</th>\n",
              "      <th>transmission</th>\n",
              "      <th>mileage</th>\n",
              "      <th>fuelType</th>\n",
              "      <th>tax(£)</th>\n",
              "      <th>mpg</th>\n",
              "      <th>engineSize</th>\n",
              "    </tr>\n",
              "  </thead>\n",
              "  <tbody>\n",
              "    <tr>\n",
              "      <th>0</th>\n",
              "      <td>I20</td>\n",
              "      <td>2017</td>\n",
              "      <td>7999</td>\n",
              "      <td>Manual</td>\n",
              "      <td>17307</td>\n",
              "      <td>Petrol</td>\n",
              "      <td>145</td>\n",
              "      <td>58.9</td>\n",
              "      <td>1.2</td>\n",
              "    </tr>\n",
              "    <tr>\n",
              "      <th>1</th>\n",
              "      <td>Tucson</td>\n",
              "      <td>2016</td>\n",
              "      <td>14499</td>\n",
              "      <td>Automatic</td>\n",
              "      <td>25233</td>\n",
              "      <td>Diesel</td>\n",
              "      <td>235</td>\n",
              "      <td>43.5</td>\n",
              "      <td>2.0</td>\n",
              "    </tr>\n",
              "    <tr>\n",
              "      <th>2</th>\n",
              "      <td>Tucson</td>\n",
              "      <td>2016</td>\n",
              "      <td>11399</td>\n",
              "      <td>Manual</td>\n",
              "      <td>37877</td>\n",
              "      <td>Diesel</td>\n",
              "      <td>30</td>\n",
              "      <td>61.7</td>\n",
              "      <td>1.7</td>\n",
              "    </tr>\n",
              "    <tr>\n",
              "      <th>3</th>\n",
              "      <td>I10</td>\n",
              "      <td>2016</td>\n",
              "      <td>6499</td>\n",
              "      <td>Manual</td>\n",
              "      <td>23789</td>\n",
              "      <td>Petrol</td>\n",
              "      <td>20</td>\n",
              "      <td>60.1</td>\n",
              "      <td>1.0</td>\n",
              "    </tr>\n",
              "    <tr>\n",
              "      <th>4</th>\n",
              "      <td>IX35</td>\n",
              "      <td>2015</td>\n",
              "      <td>10199</td>\n",
              "      <td>Manual</td>\n",
              "      <td>33177</td>\n",
              "      <td>Diesel</td>\n",
              "      <td>160</td>\n",
              "      <td>51.4</td>\n",
              "      <td>2.0</td>\n",
              "    </tr>\n",
              "    <tr>\n",
              "      <th>...</th>\n",
              "      <td>...</td>\n",
              "      <td>...</td>\n",
              "      <td>...</td>\n",
              "      <td>...</td>\n",
              "      <td>...</td>\n",
              "      <td>...</td>\n",
              "      <td>...</td>\n",
              "      <td>...</td>\n",
              "      <td>...</td>\n",
              "    </tr>\n",
              "    <tr>\n",
              "      <th>4855</th>\n",
              "      <td>I30</td>\n",
              "      <td>2016</td>\n",
              "      <td>8680</td>\n",
              "      <td>Manual</td>\n",
              "      <td>25906</td>\n",
              "      <td>Diesel</td>\n",
              "      <td>0</td>\n",
              "      <td>78.4</td>\n",
              "      <td>1.6</td>\n",
              "    </tr>\n",
              "    <tr>\n",
              "      <th>4856</th>\n",
              "      <td>I40</td>\n",
              "      <td>2015</td>\n",
              "      <td>7830</td>\n",
              "      <td>Manual</td>\n",
              "      <td>59508</td>\n",
              "      <td>Diesel</td>\n",
              "      <td>30</td>\n",
              "      <td>65.7</td>\n",
              "      <td>1.7</td>\n",
              "    </tr>\n",
              "    <tr>\n",
              "      <th>4857</th>\n",
              "      <td>I10</td>\n",
              "      <td>2017</td>\n",
              "      <td>6830</td>\n",
              "      <td>Manual</td>\n",
              "      <td>13810</td>\n",
              "      <td>Petrol</td>\n",
              "      <td>20</td>\n",
              "      <td>60.1</td>\n",
              "      <td>1.0</td>\n",
              "    </tr>\n",
              "    <tr>\n",
              "      <th>4858</th>\n",
              "      <td>Tucson</td>\n",
              "      <td>2018</td>\n",
              "      <td>13994</td>\n",
              "      <td>Manual</td>\n",
              "      <td>23313</td>\n",
              "      <td>Petrol</td>\n",
              "      <td>145</td>\n",
              "      <td>44.8</td>\n",
              "      <td>1.6</td>\n",
              "    </tr>\n",
              "    <tr>\n",
              "      <th>4859</th>\n",
              "      <td>Tucson</td>\n",
              "      <td>2016</td>\n",
              "      <td>15999</td>\n",
              "      <td>Automatic</td>\n",
              "      <td>11472</td>\n",
              "      <td>Diesel</td>\n",
              "      <td>125</td>\n",
              "      <td>57.6</td>\n",
              "      <td>1.7</td>\n",
              "    </tr>\n",
              "  </tbody>\n",
              "</table>\n",
              "<p>4860 rows × 9 columns</p>\n",
              "</div>"
            ],
            "text/plain": [
              "        model  year  price transmission  mileage fuelType  tax(£)   mpg  \\\n",
              "0         I20  2017   7999       Manual    17307   Petrol     145  58.9   \n",
              "1      Tucson  2016  14499    Automatic    25233   Diesel     235  43.5   \n",
              "2      Tucson  2016  11399       Manual    37877   Diesel      30  61.7   \n",
              "3         I10  2016   6499       Manual    23789   Petrol      20  60.1   \n",
              "4        IX35  2015  10199       Manual    33177   Diesel     160  51.4   \n",
              "...       ...   ...    ...          ...      ...      ...     ...   ...   \n",
              "4855      I30  2016   8680       Manual    25906   Diesel       0  78.4   \n",
              "4856      I40  2015   7830       Manual    59508   Diesel      30  65.7   \n",
              "4857      I10  2017   6830       Manual    13810   Petrol      20  60.1   \n",
              "4858   Tucson  2018  13994       Manual    23313   Petrol     145  44.8   \n",
              "4859   Tucson  2016  15999    Automatic    11472   Diesel     125  57.6   \n",
              "\n",
              "      engineSize  \n",
              "0            1.2  \n",
              "1            2.0  \n",
              "2            1.7  \n",
              "3            1.0  \n",
              "4            2.0  \n",
              "...          ...  \n",
              "4855         1.6  \n",
              "4856         1.7  \n",
              "4857         1.0  \n",
              "4858         1.6  \n",
              "4859         1.7  \n",
              "\n",
              "[4860 rows x 9 columns]"
            ]
          },
          "execution_count": 12,
          "metadata": {},
          "output_type": "execute_result"
        }
      ],
      "source": [
        "df"
      ]
    },
    {
      "cell_type": "markdown",
      "metadata": {
        "id": "dncHgntasV_2"
      },
      "source": [
        "#2. 데이터 전처리"
      ]
    },
    {
      "cell_type": "markdown",
      "metadata": {
        "id": "vy1NCkdqpbVW"
      },
      "source": [
        "### 현대 중고 자동차 가격을 예측하기\n",
        "가격 단위는 유로, tax는 파운드로 kaggle에서 단위 통일이 이루어지지 않음. tax는 price를 예측하는 하나의 지표 정도로만 이해하기"
      ]
    },
    {
      "cell_type": "markdown",
      "metadata": {
        "id": "S8X2eMK5oykr"
      },
      "source": [
        "![image.png](data:image/png;base64,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)"
      ]
    },
    {
      "cell_type": "code",
      "execution_count": 13,
      "metadata": {
        "colab": {
          "base_uri": "https://localhost:8080/"
        },
        "id": "lQqS7WSzo3f7",
        "outputId": "23eea22c-1805-41f8-b141-4dd23425f5e8"
      },
      "outputs": [
        {
          "name": "stdout",
          "output_type": "stream",
          "text": [
            "<class 'pandas.core.frame.DataFrame'>\n",
            "RangeIndex: 4860 entries, 0 to 4859\n",
            "Data columns (total 9 columns):\n",
            " #   Column        Non-Null Count  Dtype  \n",
            "---  ------        --------------  -----  \n",
            " 0   model         4860 non-null   object \n",
            " 1   year          4860 non-null   int64  \n",
            " 2   price         4860 non-null   int64  \n",
            " 3   transmission  4860 non-null   object \n",
            " 4   mileage       4860 non-null   int64  \n",
            " 5   fuelType      4860 non-null   object \n",
            " 6   tax(£)        4860 non-null   int64  \n",
            " 7   mpg           4860 non-null   float64\n",
            " 8   engineSize    4860 non-null   float64\n",
            "dtypes: float64(2), int64(4), object(3)\n",
            "memory usage: 341.8+ KB\n"
          ]
        }
      ],
      "source": [
        "df.info()"
      ]
    },
    {
      "cell_type": "code",
      "execution_count": 14,
      "metadata": {
        "colab": {
          "base_uri": "https://localhost:8080/",
          "height": 300
        },
        "id": "I_UKh7rHpkiQ",
        "outputId": "3ece7f7a-d97a-41b8-c95e-f80c5a92b6ac"
      },
      "outputs": [
        {
          "data": {
            "text/html": [
              "<div>\n",
              "<style scoped>\n",
              "    .dataframe tbody tr th:only-of-type {\n",
              "        vertical-align: middle;\n",
              "    }\n",
              "\n",
              "    .dataframe tbody tr th {\n",
              "        vertical-align: top;\n",
              "    }\n",
              "\n",
              "    .dataframe thead th {\n",
              "        text-align: right;\n",
              "    }\n",
              "</style>\n",
              "<table border=\"1\" class=\"dataframe\">\n",
              "  <thead>\n",
              "    <tr style=\"text-align: right;\">\n",
              "      <th></th>\n",
              "      <th>year</th>\n",
              "      <th>price</th>\n",
              "      <th>mileage</th>\n",
              "      <th>tax(£)</th>\n",
              "      <th>mpg</th>\n",
              "      <th>engineSize</th>\n",
              "    </tr>\n",
              "  </thead>\n",
              "  <tbody>\n",
              "    <tr>\n",
              "      <th>count</th>\n",
              "      <td>4860.000000</td>\n",
              "      <td>4860.00000</td>\n",
              "      <td>4860.000000</td>\n",
              "      <td>4860.000000</td>\n",
              "      <td>4860.000000</td>\n",
              "      <td>4860.000000</td>\n",
              "    </tr>\n",
              "    <tr>\n",
              "      <th>mean</th>\n",
              "      <td>2017.107613</td>\n",
              "      <td>12750.13107</td>\n",
              "      <td>21486.049588</td>\n",
              "      <td>121.147119</td>\n",
              "      <td>53.827798</td>\n",
              "      <td>1.457922</td>\n",
              "    </tr>\n",
              "    <tr>\n",
              "      <th>std</th>\n",
              "      <td>1.920456</td>\n",
              "      <td>5992.92231</td>\n",
              "      <td>17710.196964</td>\n",
              "      <td>58.003289</td>\n",
              "      <td>12.736042</td>\n",
              "      <td>0.400788</td>\n",
              "    </tr>\n",
              "    <tr>\n",
              "      <th>min</th>\n",
              "      <td>2000.000000</td>\n",
              "      <td>1200.00000</td>\n",
              "      <td>1.000000</td>\n",
              "      <td>0.000000</td>\n",
              "      <td>1.100000</td>\n",
              "      <td>0.000000</td>\n",
              "    </tr>\n",
              "    <tr>\n",
              "      <th>25%</th>\n",
              "      <td>2016.000000</td>\n",
              "      <td>8000.00000</td>\n",
              "      <td>8339.250000</td>\n",
              "      <td>125.000000</td>\n",
              "      <td>44.800000</td>\n",
              "      <td>1.200000</td>\n",
              "    </tr>\n",
              "    <tr>\n",
              "      <th>50%</th>\n",
              "      <td>2017.000000</td>\n",
              "      <td>11990.00000</td>\n",
              "      <td>17462.000000</td>\n",
              "      <td>145.000000</td>\n",
              "      <td>55.400000</td>\n",
              "      <td>1.600000</td>\n",
              "    </tr>\n",
              "    <tr>\n",
              "      <th>75%</th>\n",
              "      <td>2019.000000</td>\n",
              "      <td>15733.75000</td>\n",
              "      <td>30967.000000</td>\n",
              "      <td>145.000000</td>\n",
              "      <td>60.100000</td>\n",
              "      <td>1.700000</td>\n",
              "    </tr>\n",
              "    <tr>\n",
              "      <th>max</th>\n",
              "      <td>2020.000000</td>\n",
              "      <td>92000.00000</td>\n",
              "      <td>138000.000000</td>\n",
              "      <td>555.000000</td>\n",
              "      <td>256.800000</td>\n",
              "      <td>2.900000</td>\n",
              "    </tr>\n",
              "  </tbody>\n",
              "</table>\n",
              "</div>"
            ],
            "text/plain": [
              "              year        price        mileage       tax(£)          mpg  \\\n",
              "count  4860.000000   4860.00000    4860.000000  4860.000000  4860.000000   \n",
              "mean   2017.107613  12750.13107   21486.049588   121.147119    53.827798   \n",
              "std       1.920456   5992.92231   17710.196964    58.003289    12.736042   \n",
              "min    2000.000000   1200.00000       1.000000     0.000000     1.100000   \n",
              "25%    2016.000000   8000.00000    8339.250000   125.000000    44.800000   \n",
              "50%    2017.000000  11990.00000   17462.000000   145.000000    55.400000   \n",
              "75%    2019.000000  15733.75000   30967.000000   145.000000    60.100000   \n",
              "max    2020.000000  92000.00000  138000.000000   555.000000   256.800000   \n",
              "\n",
              "        engineSize  \n",
              "count  4860.000000  \n",
              "mean      1.457922  \n",
              "std       0.400788  \n",
              "min       0.000000  \n",
              "25%       1.200000  \n",
              "50%       1.600000  \n",
              "75%       1.700000  \n",
              "max       2.900000  "
            ]
          },
          "execution_count": 14,
          "metadata": {},
          "output_type": "execute_result"
        }
      ],
      "source": [
        "# 개수, 평균, 표준편차, 사분위수 조회\n",
        "df.describe()"
      ]
    },
    {
      "cell_type": "code",
      "execution_count": 15,
      "metadata": {
        "colab": {
          "base_uri": "https://localhost:8080/",
          "height": 424
        },
        "id": "0XCWPMSa_HW6",
        "outputId": "aab2c6ec-1955-4420-824e-4f8798e9277b"
      },
      "outputs": [
        {
          "data": {
            "text/html": [
              "<div>\n",
              "<style scoped>\n",
              "    .dataframe tbody tr th:only-of-type {\n",
              "        vertical-align: middle;\n",
              "    }\n",
              "\n",
              "    .dataframe tbody tr th {\n",
              "        vertical-align: top;\n",
              "    }\n",
              "\n",
              "    .dataframe thead th {\n",
              "        text-align: right;\n",
              "    }\n",
              "</style>\n",
              "<table border=\"1\" class=\"dataframe\">\n",
              "  <thead>\n",
              "    <tr style=\"text-align: right;\">\n",
              "      <th></th>\n",
              "      <th>model</th>\n",
              "      <th>year</th>\n",
              "      <th>price</th>\n",
              "      <th>transmission</th>\n",
              "      <th>mileage</th>\n",
              "      <th>fuelType</th>\n",
              "      <th>tax(£)</th>\n",
              "      <th>mpg</th>\n",
              "      <th>engineSize</th>\n",
              "    </tr>\n",
              "  </thead>\n",
              "  <tbody>\n",
              "    <tr>\n",
              "      <th>0</th>\n",
              "      <td>False</td>\n",
              "      <td>False</td>\n",
              "      <td>False</td>\n",
              "      <td>False</td>\n",
              "      <td>False</td>\n",
              "      <td>False</td>\n",
              "      <td>False</td>\n",
              "      <td>False</td>\n",
              "      <td>False</td>\n",
              "    </tr>\n",
              "    <tr>\n",
              "      <th>1</th>\n",
              "      <td>False</td>\n",
              "      <td>False</td>\n",
              "      <td>False</td>\n",
              "      <td>False</td>\n",
              "      <td>False</td>\n",
              "      <td>False</td>\n",
              "      <td>False</td>\n",
              "      <td>False</td>\n",
              "      <td>False</td>\n",
              "    </tr>\n",
              "    <tr>\n",
              "      <th>2</th>\n",
              "      <td>False</td>\n",
              "      <td>False</td>\n",
              "      <td>False</td>\n",
              "      <td>False</td>\n",
              "      <td>False</td>\n",
              "      <td>False</td>\n",
              "      <td>False</td>\n",
              "      <td>False</td>\n",
              "      <td>False</td>\n",
              "    </tr>\n",
              "    <tr>\n",
              "      <th>3</th>\n",
              "      <td>False</td>\n",
              "      <td>False</td>\n",
              "      <td>False</td>\n",
              "      <td>False</td>\n",
              "      <td>False</td>\n",
              "      <td>False</td>\n",
              "      <td>False</td>\n",
              "      <td>False</td>\n",
              "      <td>False</td>\n",
              "    </tr>\n",
              "    <tr>\n",
              "      <th>4</th>\n",
              "      <td>False</td>\n",
              "      <td>False</td>\n",
              "      <td>False</td>\n",
              "      <td>False</td>\n",
              "      <td>False</td>\n",
              "      <td>False</td>\n",
              "      <td>False</td>\n",
              "      <td>False</td>\n",
              "      <td>False</td>\n",
              "    </tr>\n",
              "    <tr>\n",
              "      <th>...</th>\n",
              "      <td>...</td>\n",
              "      <td>...</td>\n",
              "      <td>...</td>\n",
              "      <td>...</td>\n",
              "      <td>...</td>\n",
              "      <td>...</td>\n",
              "      <td>...</td>\n",
              "      <td>...</td>\n",
              "      <td>...</td>\n",
              "    </tr>\n",
              "    <tr>\n",
              "      <th>4855</th>\n",
              "      <td>False</td>\n",
              "      <td>False</td>\n",
              "      <td>False</td>\n",
              "      <td>False</td>\n",
              "      <td>False</td>\n",
              "      <td>False</td>\n",
              "      <td>False</td>\n",
              "      <td>False</td>\n",
              "      <td>False</td>\n",
              "    </tr>\n",
              "    <tr>\n",
              "      <th>4856</th>\n",
              "      <td>False</td>\n",
              "      <td>False</td>\n",
              "      <td>False</td>\n",
              "      <td>False</td>\n",
              "      <td>False</td>\n",
              "      <td>False</td>\n",
              "      <td>False</td>\n",
              "      <td>False</td>\n",
              "      <td>False</td>\n",
              "    </tr>\n",
              "    <tr>\n",
              "      <th>4857</th>\n",
              "      <td>False</td>\n",
              "      <td>False</td>\n",
              "      <td>False</td>\n",
              "      <td>False</td>\n",
              "      <td>False</td>\n",
              "      <td>False</td>\n",
              "      <td>False</td>\n",
              "      <td>False</td>\n",
              "      <td>False</td>\n",
              "    </tr>\n",
              "    <tr>\n",
              "      <th>4858</th>\n",
              "      <td>False</td>\n",
              "      <td>False</td>\n",
              "      <td>False</td>\n",
              "      <td>False</td>\n",
              "      <td>False</td>\n",
              "      <td>False</td>\n",
              "      <td>False</td>\n",
              "      <td>False</td>\n",
              "      <td>False</td>\n",
              "    </tr>\n",
              "    <tr>\n",
              "      <th>4859</th>\n",
              "      <td>False</td>\n",
              "      <td>False</td>\n",
              "      <td>False</td>\n",
              "      <td>False</td>\n",
              "      <td>False</td>\n",
              "      <td>False</td>\n",
              "      <td>False</td>\n",
              "      <td>False</td>\n",
              "      <td>False</td>\n",
              "    </tr>\n",
              "  </tbody>\n",
              "</table>\n",
              "<p>4860 rows × 9 columns</p>\n",
              "</div>"
            ],
            "text/plain": [
              "      model   year  price  transmission  mileage  fuelType  tax(£)    mpg  \\\n",
              "0     False  False  False         False    False     False   False  False   \n",
              "1     False  False  False         False    False     False   False  False   \n",
              "2     False  False  False         False    False     False   False  False   \n",
              "3     False  False  False         False    False     False   False  False   \n",
              "4     False  False  False         False    False     False   False  False   \n",
              "...     ...    ...    ...           ...      ...       ...     ...    ...   \n",
              "4855  False  False  False         False    False     False   False  False   \n",
              "4856  False  False  False         False    False     False   False  False   \n",
              "4857  False  False  False         False    False     False   False  False   \n",
              "4858  False  False  False         False    False     False   False  False   \n",
              "4859  False  False  False         False    False     False   False  False   \n",
              "\n",
              "      engineSize  \n",
              "0          False  \n",
              "1          False  \n",
              "2          False  \n",
              "3          False  \n",
              "4          False  \n",
              "...          ...  \n",
              "4855       False  \n",
              "4856       False  \n",
              "4857       False  \n",
              "4858       False  \n",
              "4859       False  \n",
              "\n",
              "[4860 rows x 9 columns]"
            ]
          },
          "execution_count": 15,
          "metadata": {},
          "output_type": "execute_result"
        }
      ],
      "source": [
        "df.isnull()"
      ]
    },
    {
      "cell_type": "code",
      "execution_count": 16,
      "metadata": {
        "colab": {
          "base_uri": "https://localhost:8080/"
        },
        "id": "iUYEt3j6o8sL",
        "outputId": "2612fa34-fd54-4b82-c97a-45cbe86331fa"
      },
      "outputs": [
        {
          "data": {
            "text/plain": [
              "model           0\n",
              "year            0\n",
              "price           0\n",
              "transmission    0\n",
              "mileage         0\n",
              "fuelType        0\n",
              "tax(£)          0\n",
              "mpg             0\n",
              "engineSize      0\n",
              "dtype: int64"
            ]
          },
          "execution_count": 16,
          "metadata": {},
          "output_type": "execute_result"
        }
      ],
      "source": [
        "df.isnull().sum()"
      ]
    },
    {
      "cell_type": "markdown",
      "metadata": {
        "id": "QslmTz2Yp2RE"
      },
      "source": [
        "* year(연도): 2000년 ~ 2020년까지 분포(2001년은 데이터 없음)\n",
        "* mileage(운행거리): 1마일 ~ 138,000마일까지 분포\n",
        "* null 값 존재하지 않음\n",
        "* tax와 engineSize 에서 각각 0 값이 존재 -> 전처리필요"
      ]
    },
    {
      "cell_type": "code",
      "execution_count": 17,
      "metadata": {
        "id": "WwhMN2oErsk1"
      },
      "outputs": [],
      "source": [
        "# 칼럼이름을 다루기 쉽게 tax(£) -> tax 로 변경\n",
        "df = df.rename(columns={'tax(£)':'tax'})"
      ]
    },
    {
      "cell_type": "code",
      "execution_count": 18,
      "metadata": {
        "colab": {
          "base_uri": "https://localhost:8080/",
          "height": 206
        },
        "id": "5sHhUFH-_mpH",
        "outputId": "c69d71f1-fab1-41cd-9db4-2a707f709ff9"
      },
      "outputs": [
        {
          "data": {
            "text/html": [
              "<div>\n",
              "<style scoped>\n",
              "    .dataframe tbody tr th:only-of-type {\n",
              "        vertical-align: middle;\n",
              "    }\n",
              "\n",
              "    .dataframe tbody tr th {\n",
              "        vertical-align: top;\n",
              "    }\n",
              "\n",
              "    .dataframe thead th {\n",
              "        text-align: right;\n",
              "    }\n",
              "</style>\n",
              "<table border=\"1\" class=\"dataframe\">\n",
              "  <thead>\n",
              "    <tr style=\"text-align: right;\">\n",
              "      <th></th>\n",
              "      <th>model</th>\n",
              "      <th>year</th>\n",
              "      <th>price</th>\n",
              "      <th>transmission</th>\n",
              "      <th>mileage</th>\n",
              "      <th>fuelType</th>\n",
              "      <th>tax</th>\n",
              "      <th>mpg</th>\n",
              "      <th>engineSize</th>\n",
              "    </tr>\n",
              "  </thead>\n",
              "  <tbody>\n",
              "    <tr>\n",
              "      <th>0</th>\n",
              "      <td>I20</td>\n",
              "      <td>2017</td>\n",
              "      <td>7999</td>\n",
              "      <td>Manual</td>\n",
              "      <td>17307</td>\n",
              "      <td>Petrol</td>\n",
              "      <td>145</td>\n",
              "      <td>58.9</td>\n",
              "      <td>1.2</td>\n",
              "    </tr>\n",
              "    <tr>\n",
              "      <th>1</th>\n",
              "      <td>Tucson</td>\n",
              "      <td>2016</td>\n",
              "      <td>14499</td>\n",
              "      <td>Automatic</td>\n",
              "      <td>25233</td>\n",
              "      <td>Diesel</td>\n",
              "      <td>235</td>\n",
              "      <td>43.5</td>\n",
              "      <td>2.0</td>\n",
              "    </tr>\n",
              "    <tr>\n",
              "      <th>2</th>\n",
              "      <td>Tucson</td>\n",
              "      <td>2016</td>\n",
              "      <td>11399</td>\n",
              "      <td>Manual</td>\n",
              "      <td>37877</td>\n",
              "      <td>Diesel</td>\n",
              "      <td>30</td>\n",
              "      <td>61.7</td>\n",
              "      <td>1.7</td>\n",
              "    </tr>\n",
              "    <tr>\n",
              "      <th>3</th>\n",
              "      <td>I10</td>\n",
              "      <td>2016</td>\n",
              "      <td>6499</td>\n",
              "      <td>Manual</td>\n",
              "      <td>23789</td>\n",
              "      <td>Petrol</td>\n",
              "      <td>20</td>\n",
              "      <td>60.1</td>\n",
              "      <td>1.0</td>\n",
              "    </tr>\n",
              "    <tr>\n",
              "      <th>4</th>\n",
              "      <td>IX35</td>\n",
              "      <td>2015</td>\n",
              "      <td>10199</td>\n",
              "      <td>Manual</td>\n",
              "      <td>33177</td>\n",
              "      <td>Diesel</td>\n",
              "      <td>160</td>\n",
              "      <td>51.4</td>\n",
              "      <td>2.0</td>\n",
              "    </tr>\n",
              "  </tbody>\n",
              "</table>\n",
              "</div>"
            ],
            "text/plain": [
              "     model  year  price transmission  mileage fuelType  tax   mpg  engineSize\n",
              "0      I20  2017   7999       Manual    17307   Petrol  145  58.9         1.2\n",
              "1   Tucson  2016  14499    Automatic    25233   Diesel  235  43.5         2.0\n",
              "2   Tucson  2016  11399       Manual    37877   Diesel   30  61.7         1.7\n",
              "3      I10  2016   6499       Manual    23789   Petrol   20  60.1         1.0\n",
              "4     IX35  2015  10199       Manual    33177   Diesel  160  51.4         2.0"
            ]
          },
          "execution_count": 18,
          "metadata": {},
          "output_type": "execute_result"
        }
      ],
      "source": [
        "df.head()"
      ]
    },
    {
      "cell_type": "code",
      "execution_count": 19,
      "metadata": {
        "colab": {
          "base_uri": "https://localhost:8080/",
          "height": 1000
        },
        "id": "cB8DTvd3_3li",
        "outputId": "9c7363bb-05ed-4123-950f-1af7f1170ce1"
      },
      "outputs": [
        {
          "data": {
            "text/html": [
              "<div>\n",
              "<style scoped>\n",
              "    .dataframe tbody tr th:only-of-type {\n",
              "        vertical-align: middle;\n",
              "    }\n",
              "\n",
              "    .dataframe tbody tr th {\n",
              "        vertical-align: top;\n",
              "    }\n",
              "\n",
              "    .dataframe thead th {\n",
              "        text-align: right;\n",
              "    }\n",
              "</style>\n",
              "<table border=\"1\" class=\"dataframe\">\n",
              "  <thead>\n",
              "    <tr style=\"text-align: right;\">\n",
              "      <th></th>\n",
              "      <th>model</th>\n",
              "      <th>year</th>\n",
              "      <th>price</th>\n",
              "      <th>transmission</th>\n",
              "      <th>mileage</th>\n",
              "      <th>fuelType</th>\n",
              "      <th>tax</th>\n",
              "      <th>mpg</th>\n",
              "      <th>engineSize</th>\n",
              "    </tr>\n",
              "  </thead>\n",
              "  <tbody>\n",
              "    <tr>\n",
              "      <th>31</th>\n",
              "      <td>Tucson</td>\n",
              "      <td>2015</td>\n",
              "      <td>15200</td>\n",
              "      <td>Automatic</td>\n",
              "      <td>28904</td>\n",
              "      <td>Diesel</td>\n",
              "      <td>200</td>\n",
              "      <td>46.3</td>\n",
              "      <td>0.0</td>\n",
              "    </tr>\n",
              "    <tr>\n",
              "      <th>32</th>\n",
              "      <td>I10</td>\n",
              "      <td>2014</td>\n",
              "      <td>7700</td>\n",
              "      <td>Automatic</td>\n",
              "      <td>8646</td>\n",
              "      <td>Petrol</td>\n",
              "      <td>160</td>\n",
              "      <td>45.6</td>\n",
              "      <td>0.0</td>\n",
              "    </tr>\n",
              "    <tr>\n",
              "      <th>33</th>\n",
              "      <td>I30</td>\n",
              "      <td>2017</td>\n",
              "      <td>10500</td>\n",
              "      <td>Automatic</td>\n",
              "      <td>17663</td>\n",
              "      <td>Diesel</td>\n",
              "      <td>20</td>\n",
              "      <td>72.4</td>\n",
              "      <td>0.0</td>\n",
              "    </tr>\n",
              "    <tr>\n",
              "      <th>34</th>\n",
              "      <td>I20</td>\n",
              "      <td>2017</td>\n",
              "      <td>11400</td>\n",
              "      <td>Automatic</td>\n",
              "      <td>12661</td>\n",
              "      <td>Petrol</td>\n",
              "      <td>145</td>\n",
              "      <td>44.1</td>\n",
              "      <td>0.0</td>\n",
              "    </tr>\n",
              "    <tr>\n",
              "      <th>37</th>\n",
              "      <td>I10</td>\n",
              "      <td>2018</td>\n",
              "      <td>9000</td>\n",
              "      <td>Manual</td>\n",
              "      <td>7126</td>\n",
              "      <td>Petrol</td>\n",
              "      <td>145</td>\n",
              "      <td>60.1</td>\n",
              "      <td>0.0</td>\n",
              "    </tr>\n",
              "    <tr>\n",
              "      <th>39</th>\n",
              "      <td>I10</td>\n",
              "      <td>2018</td>\n",
              "      <td>8500</td>\n",
              "      <td>Manual</td>\n",
              "      <td>12948</td>\n",
              "      <td>Petrol</td>\n",
              "      <td>145</td>\n",
              "      <td>60.1</td>\n",
              "      <td>0.0</td>\n",
              "    </tr>\n",
              "    <tr>\n",
              "      <th>40</th>\n",
              "      <td>I30</td>\n",
              "      <td>2019</td>\n",
              "      <td>14500</td>\n",
              "      <td>Manual</td>\n",
              "      <td>2481</td>\n",
              "      <td>Petrol</td>\n",
              "      <td>145</td>\n",
              "      <td>41.5</td>\n",
              "      <td>0.0</td>\n",
              "    </tr>\n",
              "    <tr>\n",
              "      <th>41</th>\n",
              "      <td>Tucson</td>\n",
              "      <td>2016</td>\n",
              "      <td>13800</td>\n",
              "      <td>Manual</td>\n",
              "      <td>27311</td>\n",
              "      <td>Diesel</td>\n",
              "      <td>30</td>\n",
              "      <td>61.7</td>\n",
              "      <td>0.0</td>\n",
              "    </tr>\n",
              "    <tr>\n",
              "      <th>42</th>\n",
              "      <td>I30</td>\n",
              "      <td>2016</td>\n",
              "      <td>9000</td>\n",
              "      <td>Manual</td>\n",
              "      <td>34443</td>\n",
              "      <td>Diesel</td>\n",
              "      <td>0</td>\n",
              "      <td>78.4</td>\n",
              "      <td>0.0</td>\n",
              "    </tr>\n",
              "    <tr>\n",
              "      <th>43</th>\n",
              "      <td>Tucson</td>\n",
              "      <td>2017</td>\n",
              "      <td>13800</td>\n",
              "      <td>Manual</td>\n",
              "      <td>16961</td>\n",
              "      <td>Diesel</td>\n",
              "      <td>30</td>\n",
              "      <td>61.7</td>\n",
              "      <td>0.0</td>\n",
              "    </tr>\n",
              "    <tr>\n",
              "      <th>45</th>\n",
              "      <td>I10</td>\n",
              "      <td>2013</td>\n",
              "      <td>5000</td>\n",
              "      <td>Manual</td>\n",
              "      <td>45230</td>\n",
              "      <td>Petrol</td>\n",
              "      <td>20</td>\n",
              "      <td>61.4</td>\n",
              "      <td>0.0</td>\n",
              "    </tr>\n",
              "    <tr>\n",
              "      <th>46</th>\n",
              "      <td>I10</td>\n",
              "      <td>2018</td>\n",
              "      <td>10300</td>\n",
              "      <td>Manual</td>\n",
              "      <td>6349</td>\n",
              "      <td>Petrol</td>\n",
              "      <td>145</td>\n",
              "      <td>57.6</td>\n",
              "      <td>0.0</td>\n",
              "    </tr>\n",
              "    <tr>\n",
              "      <th>47</th>\n",
              "      <td>I40</td>\n",
              "      <td>2015</td>\n",
              "      <td>11500</td>\n",
              "      <td>Manual</td>\n",
              "      <td>13268</td>\n",
              "      <td>Diesel</td>\n",
              "      <td>30</td>\n",
              "      <td>65.7</td>\n",
              "      <td>0.0</td>\n",
              "    </tr>\n",
              "    <tr>\n",
              "      <th>48</th>\n",
              "      <td>I30</td>\n",
              "      <td>2016</td>\n",
              "      <td>9000</td>\n",
              "      <td>Manual</td>\n",
              "      <td>29610</td>\n",
              "      <td>Diesel</td>\n",
              "      <td>0</td>\n",
              "      <td>78.4</td>\n",
              "      <td>0.0</td>\n",
              "    </tr>\n",
              "    <tr>\n",
              "      <th>49</th>\n",
              "      <td>IX35</td>\n",
              "      <td>2015</td>\n",
              "      <td>11400</td>\n",
              "      <td>Manual</td>\n",
              "      <td>23041</td>\n",
              "      <td>Diesel</td>\n",
              "      <td>165</td>\n",
              "      <td>51.4</td>\n",
              "      <td>0.0</td>\n",
              "    </tr>\n",
              "    <tr>\n",
              "      <th>50</th>\n",
              "      <td>I20</td>\n",
              "      <td>2017</td>\n",
              "      <td>10000</td>\n",
              "      <td>Manual</td>\n",
              "      <td>21821</td>\n",
              "      <td>Petrol</td>\n",
              "      <td>145</td>\n",
              "      <td>61.4</td>\n",
              "      <td>0.0</td>\n",
              "    </tr>\n",
              "    <tr>\n",
              "      <th>51</th>\n",
              "      <td>I10</td>\n",
              "      <td>2018</td>\n",
              "      <td>7800</td>\n",
              "      <td>Manual</td>\n",
              "      <td>17397</td>\n",
              "      <td>Petrol</td>\n",
              "      <td>150</td>\n",
              "      <td>60.1</td>\n",
              "      <td>0.0</td>\n",
              "    </tr>\n",
              "    <tr>\n",
              "      <th>52</th>\n",
              "      <td>I10</td>\n",
              "      <td>2016</td>\n",
              "      <td>6300</td>\n",
              "      <td>Manual</td>\n",
              "      <td>31854</td>\n",
              "      <td>Petrol</td>\n",
              "      <td>20</td>\n",
              "      <td>60.1</td>\n",
              "      <td>0.0</td>\n",
              "    </tr>\n",
              "    <tr>\n",
              "      <th>53</th>\n",
              "      <td>Tucson</td>\n",
              "      <td>2016</td>\n",
              "      <td>11300</td>\n",
              "      <td>Manual</td>\n",
              "      <td>37993</td>\n",
              "      <td>Diesel</td>\n",
              "      <td>30</td>\n",
              "      <td>61.7</td>\n",
              "      <td>0.0</td>\n",
              "    </tr>\n",
              "    <tr>\n",
              "      <th>54</th>\n",
              "      <td>I800</td>\n",
              "      <td>2018</td>\n",
              "      <td>15500</td>\n",
              "      <td>Manual</td>\n",
              "      <td>30305</td>\n",
              "      <td>Diesel</td>\n",
              "      <td>145</td>\n",
              "      <td>31.7</td>\n",
              "      <td>0.0</td>\n",
              "    </tr>\n",
              "    <tr>\n",
              "      <th>55</th>\n",
              "      <td>I20</td>\n",
              "      <td>2018</td>\n",
              "      <td>11700</td>\n",
              "      <td>Manual</td>\n",
              "      <td>3920</td>\n",
              "      <td>Petrol</td>\n",
              "      <td>150</td>\n",
              "      <td>46.3</td>\n",
              "      <td>0.0</td>\n",
              "    </tr>\n",
              "    <tr>\n",
              "      <th>61</th>\n",
              "      <td>Tucson</td>\n",
              "      <td>2017</td>\n",
              "      <td>15000</td>\n",
              "      <td>Manual</td>\n",
              "      <td>23310</td>\n",
              "      <td>Diesel</td>\n",
              "      <td>30</td>\n",
              "      <td>61.7</td>\n",
              "      <td>0.0</td>\n",
              "    </tr>\n",
              "    <tr>\n",
              "      <th>62</th>\n",
              "      <td>Tucson</td>\n",
              "      <td>2019</td>\n",
              "      <td>15000</td>\n",
              "      <td>Manual</td>\n",
              "      <td>22397</td>\n",
              "      <td>Petrol</td>\n",
              "      <td>150</td>\n",
              "      <td>34.9</td>\n",
              "      <td>0.0</td>\n",
              "    </tr>\n",
              "    <tr>\n",
              "      <th>63</th>\n",
              "      <td>Tucson</td>\n",
              "      <td>2019</td>\n",
              "      <td>16300</td>\n",
              "      <td>Manual</td>\n",
              "      <td>10066</td>\n",
              "      <td>Petrol</td>\n",
              "      <td>150</td>\n",
              "      <td>34.9</td>\n",
              "      <td>0.0</td>\n",
              "    </tr>\n",
              "    <tr>\n",
              "      <th>64</th>\n",
              "      <td>I10</td>\n",
              "      <td>2018</td>\n",
              "      <td>8300</td>\n",
              "      <td>Manual</td>\n",
              "      <td>13148</td>\n",
              "      <td>Petrol</td>\n",
              "      <td>150</td>\n",
              "      <td>60.1</td>\n",
              "      <td>0.0</td>\n",
              "    </tr>\n",
              "    <tr>\n",
              "      <th>65</th>\n",
              "      <td>I800</td>\n",
              "      <td>2019</td>\n",
              "      <td>18500</td>\n",
              "      <td>Manual</td>\n",
              "      <td>7691</td>\n",
              "      <td>Diesel</td>\n",
              "      <td>150</td>\n",
              "      <td>31.7</td>\n",
              "      <td>0.0</td>\n",
              "    </tr>\n",
              "    <tr>\n",
              "      <th>72</th>\n",
              "      <td>I10</td>\n",
              "      <td>2017</td>\n",
              "      <td>7300</td>\n",
              "      <td>Manual</td>\n",
              "      <td>15594</td>\n",
              "      <td>Petrol</td>\n",
              "      <td>20</td>\n",
              "      <td>60.1</td>\n",
              "      <td>0.0</td>\n",
              "    </tr>\n",
              "    <tr>\n",
              "      <th>73</th>\n",
              "      <td>I20</td>\n",
              "      <td>2015</td>\n",
              "      <td>7500</td>\n",
              "      <td>Manual</td>\n",
              "      <td>28123</td>\n",
              "      <td>Petrol</td>\n",
              "      <td>30</td>\n",
              "      <td>56.5</td>\n",
              "      <td>0.0</td>\n",
              "    </tr>\n",
              "    <tr>\n",
              "      <th>75</th>\n",
              "      <td>I10</td>\n",
              "      <td>2015</td>\n",
              "      <td>7500</td>\n",
              "      <td>Manual</td>\n",
              "      <td>13637</td>\n",
              "      <td>Petrol</td>\n",
              "      <td>30</td>\n",
              "      <td>57.6</td>\n",
              "      <td>0.0</td>\n",
              "    </tr>\n",
              "    <tr>\n",
              "      <th>76</th>\n",
              "      <td>Tucson</td>\n",
              "      <td>2017</td>\n",
              "      <td>15700</td>\n",
              "      <td>Automatic</td>\n",
              "      <td>7457</td>\n",
              "      <td>Diesel</td>\n",
              "      <td>125</td>\n",
              "      <td>57.6</td>\n",
              "      <td>0.0</td>\n",
              "    </tr>\n",
              "    <tr>\n",
              "      <th>77</th>\n",
              "      <td>I20</td>\n",
              "      <td>2017</td>\n",
              "      <td>8500</td>\n",
              "      <td>Manual</td>\n",
              "      <td>16708</td>\n",
              "      <td>Petrol</td>\n",
              "      <td>145</td>\n",
              "      <td>58.9</td>\n",
              "      <td>0.0</td>\n",
              "    </tr>\n",
              "    <tr>\n",
              "      <th>82</th>\n",
              "      <td>I10</td>\n",
              "      <td>2017</td>\n",
              "      <td>8000</td>\n",
              "      <td>Manual</td>\n",
              "      <td>16636</td>\n",
              "      <td>Petrol</td>\n",
              "      <td>145</td>\n",
              "      <td>60.1</td>\n",
              "      <td>0.0</td>\n",
              "    </tr>\n",
              "    <tr>\n",
              "      <th>83</th>\n",
              "      <td>I20</td>\n",
              "      <td>2017</td>\n",
              "      <td>8600</td>\n",
              "      <td>Manual</td>\n",
              "      <td>19398</td>\n",
              "      <td>Petrol</td>\n",
              "      <td>30</td>\n",
              "      <td>58.9</td>\n",
              "      <td>0.0</td>\n",
              "    </tr>\n",
              "    <tr>\n",
              "      <th>108</th>\n",
              "      <td>I10</td>\n",
              "      <td>2014</td>\n",
              "      <td>6600</td>\n",
              "      <td>Manual</td>\n",
              "      <td>31090</td>\n",
              "      <td>Petrol</td>\n",
              "      <td>30</td>\n",
              "      <td>57.6</td>\n",
              "      <td>0.0</td>\n",
              "    </tr>\n",
              "    <tr>\n",
              "      <th>119</th>\n",
              "      <td>IX35</td>\n",
              "      <td>2015</td>\n",
              "      <td>9700</td>\n",
              "      <td>Manual</td>\n",
              "      <td>26564</td>\n",
              "      <td>Petrol</td>\n",
              "      <td>200</td>\n",
              "      <td>41.5</td>\n",
              "      <td>0.0</td>\n",
              "    </tr>\n",
              "    <tr>\n",
              "      <th>120</th>\n",
              "      <td>IX35</td>\n",
              "      <td>2014</td>\n",
              "      <td>8700</td>\n",
              "      <td>Manual</td>\n",
              "      <td>54304</td>\n",
              "      <td>Diesel</td>\n",
              "      <td>145</td>\n",
              "      <td>53.3</td>\n",
              "      <td>0.0</td>\n",
              "    </tr>\n",
              "    <tr>\n",
              "      <th>121</th>\n",
              "      <td>I20</td>\n",
              "      <td>2016</td>\n",
              "      <td>7500</td>\n",
              "      <td>Manual</td>\n",
              "      <td>41496</td>\n",
              "      <td>Petrol</td>\n",
              "      <td>30</td>\n",
              "      <td>56.5</td>\n",
              "      <td>0.0</td>\n",
              "    </tr>\n",
              "    <tr>\n",
              "      <th>122</th>\n",
              "      <td>IX20</td>\n",
              "      <td>2014</td>\n",
              "      <td>6500</td>\n",
              "      <td>Manual</td>\n",
              "      <td>38601</td>\n",
              "      <td>Petrol</td>\n",
              "      <td>125</td>\n",
              "      <td>50.4</td>\n",
              "      <td>0.0</td>\n",
              "    </tr>\n",
              "    <tr>\n",
              "      <th>123</th>\n",
              "      <td>I10</td>\n",
              "      <td>2017</td>\n",
              "      <td>7000</td>\n",
              "      <td>Manual</td>\n",
              "      <td>31232</td>\n",
              "      <td>Petrol</td>\n",
              "      <td>145</td>\n",
              "      <td>57.7</td>\n",
              "      <td>0.0</td>\n",
              "    </tr>\n",
              "    <tr>\n",
              "      <th>4243</th>\n",
              "      <td>Tucson</td>\n",
              "      <td>2018</td>\n",
              "      <td>13000</td>\n",
              "      <td>Manual</td>\n",
              "      <td>37079</td>\n",
              "      <td>Petrol</td>\n",
              "      <td>145</td>\n",
              "      <td>44.8</td>\n",
              "      <td>0.0</td>\n",
              "    </tr>\n",
              "    <tr>\n",
              "      <th>4244</th>\n",
              "      <td>I10</td>\n",
              "      <td>2016</td>\n",
              "      <td>6300</td>\n",
              "      <td>Manual</td>\n",
              "      <td>17272</td>\n",
              "      <td>Petrol</td>\n",
              "      <td>20</td>\n",
              "      <td>61.4</td>\n",
              "      <td>0.0</td>\n",
              "    </tr>\n",
              "    <tr>\n",
              "      <th>4246</th>\n",
              "      <td>I10</td>\n",
              "      <td>2013</td>\n",
              "      <td>5000</td>\n",
              "      <td>Manual</td>\n",
              "      <td>28520</td>\n",
              "      <td>Petrol</td>\n",
              "      <td>20</td>\n",
              "      <td>61.4</td>\n",
              "      <td>0.0</td>\n",
              "    </tr>\n",
              "    <tr>\n",
              "      <th>4286</th>\n",
              "      <td>Tucson</td>\n",
              "      <td>2016</td>\n",
              "      <td>11500</td>\n",
              "      <td>Manual</td>\n",
              "      <td>52455</td>\n",
              "      <td>Diesel</td>\n",
              "      <td>30</td>\n",
              "      <td>61.7</td>\n",
              "      <td>0.0</td>\n",
              "    </tr>\n",
              "    <tr>\n",
              "      <th>4290</th>\n",
              "      <td>I800</td>\n",
              "      <td>2018</td>\n",
              "      <td>15500</td>\n",
              "      <td>Manual</td>\n",
              "      <td>31312</td>\n",
              "      <td>Diesel</td>\n",
              "      <td>145</td>\n",
              "      <td>31.7</td>\n",
              "      <td>0.0</td>\n",
              "    </tr>\n",
              "    <tr>\n",
              "      <th>4292</th>\n",
              "      <td>I10</td>\n",
              "      <td>2015</td>\n",
              "      <td>5300</td>\n",
              "      <td>Manual</td>\n",
              "      <td>47660</td>\n",
              "      <td>Petrol</td>\n",
              "      <td>20</td>\n",
              "      <td>60.1</td>\n",
              "      <td>0.0</td>\n",
              "    </tr>\n",
              "    <tr>\n",
              "      <th>4293</th>\n",
              "      <td>I10</td>\n",
              "      <td>2019</td>\n",
              "      <td>9400</td>\n",
              "      <td>Manual</td>\n",
              "      <td>4419</td>\n",
              "      <td>Petrol</td>\n",
              "      <td>145</td>\n",
              "      <td>60.1</td>\n",
              "      <td>0.0</td>\n",
              "    </tr>\n",
              "    <tr>\n",
              "      <th>4570</th>\n",
              "      <td>I20</td>\n",
              "      <td>2018</td>\n",
              "      <td>7698</td>\n",
              "      <td>Manual</td>\n",
              "      <td>30012</td>\n",
              "      <td>Petrol</td>\n",
              "      <td>145</td>\n",
              "      <td>55.4</td>\n",
              "      <td>0.0</td>\n",
              "    </tr>\n",
              "  </tbody>\n",
              "</table>\n",
              "</div>"
            ],
            "text/plain": [
              "        model  year  price transmission  mileage fuelType  tax   mpg  \\\n",
              "31     Tucson  2015  15200    Automatic    28904   Diesel  200  46.3   \n",
              "32        I10  2014   7700    Automatic     8646   Petrol  160  45.6   \n",
              "33        I30  2017  10500    Automatic    17663   Diesel   20  72.4   \n",
              "34        I20  2017  11400    Automatic    12661   Petrol  145  44.1   \n",
              "37        I10  2018   9000       Manual     7126   Petrol  145  60.1   \n",
              "39        I10  2018   8500       Manual    12948   Petrol  145  60.1   \n",
              "40        I30  2019  14500       Manual     2481   Petrol  145  41.5   \n",
              "41     Tucson  2016  13800       Manual    27311   Diesel   30  61.7   \n",
              "42        I30  2016   9000       Manual    34443   Diesel    0  78.4   \n",
              "43     Tucson  2017  13800       Manual    16961   Diesel   30  61.7   \n",
              "45        I10  2013   5000       Manual    45230   Petrol   20  61.4   \n",
              "46        I10  2018  10300       Manual     6349   Petrol  145  57.6   \n",
              "47        I40  2015  11500       Manual    13268   Diesel   30  65.7   \n",
              "48        I30  2016   9000       Manual    29610   Diesel    0  78.4   \n",
              "49       IX35  2015  11400       Manual    23041   Diesel  165  51.4   \n",
              "50        I20  2017  10000       Manual    21821   Petrol  145  61.4   \n",
              "51        I10  2018   7800       Manual    17397   Petrol  150  60.1   \n",
              "52        I10  2016   6300       Manual    31854   Petrol   20  60.1   \n",
              "53     Tucson  2016  11300       Manual    37993   Diesel   30  61.7   \n",
              "54       I800  2018  15500       Manual    30305   Diesel  145  31.7   \n",
              "55        I20  2018  11700       Manual     3920   Petrol  150  46.3   \n",
              "61     Tucson  2017  15000       Manual    23310   Diesel   30  61.7   \n",
              "62     Tucson  2019  15000       Manual    22397   Petrol  150  34.9   \n",
              "63     Tucson  2019  16300       Manual    10066   Petrol  150  34.9   \n",
              "64        I10  2018   8300       Manual    13148   Petrol  150  60.1   \n",
              "65       I800  2019  18500       Manual     7691   Diesel  150  31.7   \n",
              "72        I10  2017   7300       Manual    15594   Petrol   20  60.1   \n",
              "73        I20  2015   7500       Manual    28123   Petrol   30  56.5   \n",
              "75        I10  2015   7500       Manual    13637   Petrol   30  57.6   \n",
              "76     Tucson  2017  15700    Automatic     7457   Diesel  125  57.6   \n",
              "77        I20  2017   8500       Manual    16708   Petrol  145  58.9   \n",
              "82        I10  2017   8000       Manual    16636   Petrol  145  60.1   \n",
              "83        I20  2017   8600       Manual    19398   Petrol   30  58.9   \n",
              "108       I10  2014   6600       Manual    31090   Petrol   30  57.6   \n",
              "119      IX35  2015   9700       Manual    26564   Petrol  200  41.5   \n",
              "120      IX35  2014   8700       Manual    54304   Diesel  145  53.3   \n",
              "121       I20  2016   7500       Manual    41496   Petrol   30  56.5   \n",
              "122      IX20  2014   6500       Manual    38601   Petrol  125  50.4   \n",
              "123       I10  2017   7000       Manual    31232   Petrol  145  57.7   \n",
              "4243   Tucson  2018  13000       Manual    37079   Petrol  145  44.8   \n",
              "4244      I10  2016   6300       Manual    17272   Petrol   20  61.4   \n",
              "4246      I10  2013   5000       Manual    28520   Petrol   20  61.4   \n",
              "4286   Tucson  2016  11500       Manual    52455   Diesel   30  61.7   \n",
              "4290     I800  2018  15500       Manual    31312   Diesel  145  31.7   \n",
              "4292      I10  2015   5300       Manual    47660   Petrol   20  60.1   \n",
              "4293      I10  2019   9400       Manual     4419   Petrol  145  60.1   \n",
              "4570      I20  2018   7698       Manual    30012   Petrol  145  55.4   \n",
              "\n",
              "      engineSize  \n",
              "31           0.0  \n",
              "32           0.0  \n",
              "33           0.0  \n",
              "34           0.0  \n",
              "37           0.0  \n",
              "39           0.0  \n",
              "40           0.0  \n",
              "41           0.0  \n",
              "42           0.0  \n",
              "43           0.0  \n",
              "45           0.0  \n",
              "46           0.0  \n",
              "47           0.0  \n",
              "48           0.0  \n",
              "49           0.0  \n",
              "50           0.0  \n",
              "51           0.0  \n",
              "52           0.0  \n",
              "53           0.0  \n",
              "54           0.0  \n",
              "55           0.0  \n",
              "61           0.0  \n",
              "62           0.0  \n",
              "63           0.0  \n",
              "64           0.0  \n",
              "65           0.0  \n",
              "72           0.0  \n",
              "73           0.0  \n",
              "75           0.0  \n",
              "76           0.0  \n",
              "77           0.0  \n",
              "82           0.0  \n",
              "83           0.0  \n",
              "108          0.0  \n",
              "119          0.0  \n",
              "120          0.0  \n",
              "121          0.0  \n",
              "122          0.0  \n",
              "123          0.0  \n",
              "4243         0.0  \n",
              "4244         0.0  \n",
              "4246         0.0  \n",
              "4286         0.0  \n",
              "4290         0.0  \n",
              "4292         0.0  \n",
              "4293         0.0  \n",
              "4570         0.0  "
            ]
          },
          "execution_count": 19,
          "metadata": {},
          "output_type": "execute_result"
        }
      ],
      "source": [
        "df[df[\"engineSize\"] == 0]"
      ]
    },
    {
      "cell_type": "markdown",
      "metadata": {},
      "source": [
        "#### np.nan -> 결측값으로 한다 0이 아니라 없는 값"
      ]
    },
    {
      "cell_type": "code",
      "execution_count": 20,
      "metadata": {
        "id": "GFrYeQdrqbjy"
      },
      "outputs": [],
      "source": [
        "# tax와 enginSize에서 0인 값을 nan으로 바꾸고 삭제\n",
        "df[\"engineSize\"]=df[\"engineSize\"].replace(0,np.nan)\n",
        "df[\"tax\"]=df[\"tax\"].replace(0,np.nan)\n",
        "\n",
        "df.dropna(inplace = True) #결측값으로 한다"
      ]
    },
    {
      "cell_type": "code",
      "execution_count": 21,
      "metadata": {
        "colab": {
          "base_uri": "https://localhost:8080/",
          "height": 424
        },
        "id": "A0tExpbQrXHz",
        "outputId": "a8bcdfc9-0d48-4538-de02-0a513dc0e60b"
      },
      "outputs": [
        {
          "data": {
            "text/html": [
              "<div>\n",
              "<style scoped>\n",
              "    .dataframe tbody tr th:only-of-type {\n",
              "        vertical-align: middle;\n",
              "    }\n",
              "\n",
              "    .dataframe tbody tr th {\n",
              "        vertical-align: top;\n",
              "    }\n",
              "\n",
              "    .dataframe thead th {\n",
              "        text-align: right;\n",
              "    }\n",
              "</style>\n",
              "<table border=\"1\" class=\"dataframe\">\n",
              "  <thead>\n",
              "    <tr style=\"text-align: right;\">\n",
              "      <th></th>\n",
              "      <th>model</th>\n",
              "      <th>year</th>\n",
              "      <th>price</th>\n",
              "      <th>transmission</th>\n",
              "      <th>mileage</th>\n",
              "      <th>fuelType</th>\n",
              "      <th>tax</th>\n",
              "      <th>mpg</th>\n",
              "      <th>engineSize</th>\n",
              "    </tr>\n",
              "  </thead>\n",
              "  <tbody>\n",
              "    <tr>\n",
              "      <th>0</th>\n",
              "      <td>I20</td>\n",
              "      <td>2017</td>\n",
              "      <td>7999</td>\n",
              "      <td>Manual</td>\n",
              "      <td>17307</td>\n",
              "      <td>Petrol</td>\n",
              "      <td>145.0</td>\n",
              "      <td>58.9</td>\n",
              "      <td>1.2</td>\n",
              "    </tr>\n",
              "    <tr>\n",
              "      <th>1</th>\n",
              "      <td>Tucson</td>\n",
              "      <td>2016</td>\n",
              "      <td>14499</td>\n",
              "      <td>Automatic</td>\n",
              "      <td>25233</td>\n",
              "      <td>Diesel</td>\n",
              "      <td>235.0</td>\n",
              "      <td>43.5</td>\n",
              "      <td>2.0</td>\n",
              "    </tr>\n",
              "    <tr>\n",
              "      <th>2</th>\n",
              "      <td>Tucson</td>\n",
              "      <td>2016</td>\n",
              "      <td>11399</td>\n",
              "      <td>Manual</td>\n",
              "      <td>37877</td>\n",
              "      <td>Diesel</td>\n",
              "      <td>30.0</td>\n",
              "      <td>61.7</td>\n",
              "      <td>1.7</td>\n",
              "    </tr>\n",
              "    <tr>\n",
              "      <th>3</th>\n",
              "      <td>I10</td>\n",
              "      <td>2016</td>\n",
              "      <td>6499</td>\n",
              "      <td>Manual</td>\n",
              "      <td>23789</td>\n",
              "      <td>Petrol</td>\n",
              "      <td>20.0</td>\n",
              "      <td>60.1</td>\n",
              "      <td>1.0</td>\n",
              "    </tr>\n",
              "    <tr>\n",
              "      <th>4</th>\n",
              "      <td>IX35</td>\n",
              "      <td>2015</td>\n",
              "      <td>10199</td>\n",
              "      <td>Manual</td>\n",
              "      <td>33177</td>\n",
              "      <td>Diesel</td>\n",
              "      <td>160.0</td>\n",
              "      <td>51.4</td>\n",
              "      <td>2.0</td>\n",
              "    </tr>\n",
              "    <tr>\n",
              "      <th>...</th>\n",
              "      <td>...</td>\n",
              "      <td>...</td>\n",
              "      <td>...</td>\n",
              "      <td>...</td>\n",
              "      <td>...</td>\n",
              "      <td>...</td>\n",
              "      <td>...</td>\n",
              "      <td>...</td>\n",
              "      <td>...</td>\n",
              "    </tr>\n",
              "    <tr>\n",
              "      <th>4854</th>\n",
              "      <td>Santa Fe</td>\n",
              "      <td>2019</td>\n",
              "      <td>29995</td>\n",
              "      <td>Semi-Auto</td>\n",
              "      <td>1567</td>\n",
              "      <td>Diesel</td>\n",
              "      <td>145.0</td>\n",
              "      <td>39.8</td>\n",
              "      <td>2.2</td>\n",
              "    </tr>\n",
              "    <tr>\n",
              "      <th>4856</th>\n",
              "      <td>I40</td>\n",
              "      <td>2015</td>\n",
              "      <td>7830</td>\n",
              "      <td>Manual</td>\n",
              "      <td>59508</td>\n",
              "      <td>Diesel</td>\n",
              "      <td>30.0</td>\n",
              "      <td>65.7</td>\n",
              "      <td>1.7</td>\n",
              "    </tr>\n",
              "    <tr>\n",
              "      <th>4857</th>\n",
              "      <td>I10</td>\n",
              "      <td>2017</td>\n",
              "      <td>6830</td>\n",
              "      <td>Manual</td>\n",
              "      <td>13810</td>\n",
              "      <td>Petrol</td>\n",
              "      <td>20.0</td>\n",
              "      <td>60.1</td>\n",
              "      <td>1.0</td>\n",
              "    </tr>\n",
              "    <tr>\n",
              "      <th>4858</th>\n",
              "      <td>Tucson</td>\n",
              "      <td>2018</td>\n",
              "      <td>13994</td>\n",
              "      <td>Manual</td>\n",
              "      <td>23313</td>\n",
              "      <td>Petrol</td>\n",
              "      <td>145.0</td>\n",
              "      <td>44.8</td>\n",
              "      <td>1.6</td>\n",
              "    </tr>\n",
              "    <tr>\n",
              "      <th>4859</th>\n",
              "      <td>Tucson</td>\n",
              "      <td>2016</td>\n",
              "      <td>15999</td>\n",
              "      <td>Automatic</td>\n",
              "      <td>11472</td>\n",
              "      <td>Diesel</td>\n",
              "      <td>125.0</td>\n",
              "      <td>57.6</td>\n",
              "      <td>1.7</td>\n",
              "    </tr>\n",
              "  </tbody>\n",
              "</table>\n",
              "<p>4679 rows × 9 columns</p>\n",
              "</div>"
            ],
            "text/plain": [
              "          model  year  price transmission  mileage fuelType    tax   mpg  \\\n",
              "0           I20  2017   7999       Manual    17307   Petrol  145.0  58.9   \n",
              "1        Tucson  2016  14499    Automatic    25233   Diesel  235.0  43.5   \n",
              "2        Tucson  2016  11399       Manual    37877   Diesel   30.0  61.7   \n",
              "3           I10  2016   6499       Manual    23789   Petrol   20.0  60.1   \n",
              "4          IX35  2015  10199       Manual    33177   Diesel  160.0  51.4   \n",
              "...         ...   ...    ...          ...      ...      ...    ...   ...   \n",
              "4854   Santa Fe  2019  29995    Semi-Auto     1567   Diesel  145.0  39.8   \n",
              "4856        I40  2015   7830       Manual    59508   Diesel   30.0  65.7   \n",
              "4857        I10  2017   6830       Manual    13810   Petrol   20.0  60.1   \n",
              "4858     Tucson  2018  13994       Manual    23313   Petrol  145.0  44.8   \n",
              "4859     Tucson  2016  15999    Automatic    11472   Diesel  125.0  57.6   \n",
              "\n",
              "      engineSize  \n",
              "0            1.2  \n",
              "1            2.0  \n",
              "2            1.7  \n",
              "3            1.0  \n",
              "4            2.0  \n",
              "...          ...  \n",
              "4854         2.2  \n",
              "4856         1.7  \n",
              "4857         1.0  \n",
              "4858         1.6  \n",
              "4859         1.7  \n",
              "\n",
              "[4679 rows x 9 columns]"
            ]
          },
          "execution_count": 21,
          "metadata": {},
          "output_type": "execute_result"
        }
      ],
      "source": [
        "df"
      ]
    },
    {
      "cell_type": "code",
      "execution_count": 23,
      "metadata": {
        "colab": {
          "base_uri": "https://localhost:8080/"
        },
        "id": "JUbqOR8YAm55",
        "outputId": "d2fb2595-dff6-4e84-abf3-4964b47827aa"
      },
      "outputs": [
        {
          "data": {
            "text/plain": [
              "85"
            ]
          },
          "execution_count": 23,
          "metadata": {},
          "output_type": "execute_result"
        }
      ],
      "source": [
        "df.duplicated().sum()"
      ]
    },
    {
      "cell_type": "code",
      "execution_count": 24,
      "metadata": {
        "colab": {
          "base_uri": "https://localhost:8080/",
          "height": 424
        },
        "id": "djYqLBuVsDMa",
        "outputId": "db2a233b-f3b5-46b6-b78f-36a1877caba1"
      },
      "outputs": [
        {
          "data": {
            "text/html": [
              "<div>\n",
              "<style scoped>\n",
              "    .dataframe tbody tr th:only-of-type {\n",
              "        vertical-align: middle;\n",
              "    }\n",
              "\n",
              "    .dataframe tbody tr th {\n",
              "        vertical-align: top;\n",
              "    }\n",
              "\n",
              "    .dataframe thead th {\n",
              "        text-align: right;\n",
              "    }\n",
              "</style>\n",
              "<table border=\"1\" class=\"dataframe\">\n",
              "  <thead>\n",
              "    <tr style=\"text-align: right;\">\n",
              "      <th></th>\n",
              "      <th>model</th>\n",
              "      <th>year</th>\n",
              "      <th>price</th>\n",
              "      <th>transmission</th>\n",
              "      <th>mileage</th>\n",
              "      <th>fuelType</th>\n",
              "      <th>tax</th>\n",
              "      <th>mpg</th>\n",
              "      <th>engineSize</th>\n",
              "    </tr>\n",
              "  </thead>\n",
              "  <tbody>\n",
              "    <tr>\n",
              "      <th>282</th>\n",
              "      <td>Kona</td>\n",
              "      <td>2019</td>\n",
              "      <td>15498</td>\n",
              "      <td>Manual</td>\n",
              "      <td>10</td>\n",
              "      <td>Petrol</td>\n",
              "      <td>145.0</td>\n",
              "      <td>44.1</td>\n",
              "      <td>1.0</td>\n",
              "    </tr>\n",
              "    <tr>\n",
              "      <th>291</th>\n",
              "      <td>Kona</td>\n",
              "      <td>2019</td>\n",
              "      <td>15498</td>\n",
              "      <td>Manual</td>\n",
              "      <td>10</td>\n",
              "      <td>Petrol</td>\n",
              "      <td>145.0</td>\n",
              "      <td>44.1</td>\n",
              "      <td>1.0</td>\n",
              "    </tr>\n",
              "    <tr>\n",
              "      <th>505</th>\n",
              "      <td>I10</td>\n",
              "      <td>2014</td>\n",
              "      <td>5916</td>\n",
              "      <td>Manual</td>\n",
              "      <td>13281</td>\n",
              "      <td>Petrol</td>\n",
              "      <td>20.0</td>\n",
              "      <td>60.1</td>\n",
              "      <td>1.0</td>\n",
              "    </tr>\n",
              "    <tr>\n",
              "      <th>506</th>\n",
              "      <td>I10</td>\n",
              "      <td>2017</td>\n",
              "      <td>7101</td>\n",
              "      <td>Manual</td>\n",
              "      <td>1847</td>\n",
              "      <td>Petrol</td>\n",
              "      <td>20.0</td>\n",
              "      <td>60.1</td>\n",
              "      <td>1.0</td>\n",
              "    </tr>\n",
              "    <tr>\n",
              "      <th>714</th>\n",
              "      <td>I10</td>\n",
              "      <td>2014</td>\n",
              "      <td>5450</td>\n",
              "      <td>Manual</td>\n",
              "      <td>42346</td>\n",
              "      <td>Petrol</td>\n",
              "      <td>20.0</td>\n",
              "      <td>60.1</td>\n",
              "      <td>1.0</td>\n",
              "    </tr>\n",
              "    <tr>\n",
              "      <th>...</th>\n",
              "      <td>...</td>\n",
              "      <td>...</td>\n",
              "      <td>...</td>\n",
              "      <td>...</td>\n",
              "      <td>...</td>\n",
              "      <td>...</td>\n",
              "      <td>...</td>\n",
              "      <td>...</td>\n",
              "      <td>...</td>\n",
              "    </tr>\n",
              "    <tr>\n",
              "      <th>4157</th>\n",
              "      <td>Kona</td>\n",
              "      <td>2019</td>\n",
              "      <td>22995</td>\n",
              "      <td>Semi-Auto</td>\n",
              "      <td>10</td>\n",
              "      <td>Petrol</td>\n",
              "      <td>145.0</td>\n",
              "      <td>37.7</td>\n",
              "      <td>1.6</td>\n",
              "    </tr>\n",
              "    <tr>\n",
              "      <th>4227</th>\n",
              "      <td>Santa Fe</td>\n",
              "      <td>2019</td>\n",
              "      <td>32995</td>\n",
              "      <td>Semi-Auto</td>\n",
              "      <td>30</td>\n",
              "      <td>Diesel</td>\n",
              "      <td>145.0</td>\n",
              "      <td>40.9</td>\n",
              "      <td>2.2</td>\n",
              "    </tr>\n",
              "    <tr>\n",
              "      <th>4377</th>\n",
              "      <td>Tucson</td>\n",
              "      <td>2016</td>\n",
              "      <td>10991</td>\n",
              "      <td>Manual</td>\n",
              "      <td>108000</td>\n",
              "      <td>Diesel</td>\n",
              "      <td>125.0</td>\n",
              "      <td>58.9</td>\n",
              "      <td>2.0</td>\n",
              "    </tr>\n",
              "    <tr>\n",
              "      <th>4841</th>\n",
              "      <td>I40</td>\n",
              "      <td>2017</td>\n",
              "      <td>11485</td>\n",
              "      <td>Manual</td>\n",
              "      <td>17393</td>\n",
              "      <td>Diesel</td>\n",
              "      <td>145.0</td>\n",
              "      <td>65.7</td>\n",
              "      <td>1.7</td>\n",
              "    </tr>\n",
              "    <tr>\n",
              "      <th>4846</th>\n",
              "      <td>I20</td>\n",
              "      <td>2018</td>\n",
              "      <td>9985</td>\n",
              "      <td>Automatic</td>\n",
              "      <td>20796</td>\n",
              "      <td>Petrol</td>\n",
              "      <td>145.0</td>\n",
              "      <td>45.6</td>\n",
              "      <td>1.4</td>\n",
              "    </tr>\n",
              "  </tbody>\n",
              "</table>\n",
              "<p>85 rows × 9 columns</p>\n",
              "</div>"
            ],
            "text/plain": [
              "          model  year  price transmission  mileage fuelType    tax   mpg  \\\n",
              "282        Kona  2019  15498       Manual       10   Petrol  145.0  44.1   \n",
              "291        Kona  2019  15498       Manual       10   Petrol  145.0  44.1   \n",
              "505         I10  2014   5916       Manual    13281   Petrol   20.0  60.1   \n",
              "506         I10  2017   7101       Manual     1847   Petrol   20.0  60.1   \n",
              "714         I10  2014   5450       Manual    42346   Petrol   20.0  60.1   \n",
              "...         ...   ...    ...          ...      ...      ...    ...   ...   \n",
              "4157       Kona  2019  22995    Semi-Auto       10   Petrol  145.0  37.7   \n",
              "4227   Santa Fe  2019  32995    Semi-Auto       30   Diesel  145.0  40.9   \n",
              "4377     Tucson  2016  10991       Manual   108000   Diesel  125.0  58.9   \n",
              "4841        I40  2017  11485       Manual    17393   Diesel  145.0  65.7   \n",
              "4846        I20  2018   9985    Automatic    20796   Petrol  145.0  45.6   \n",
              "\n",
              "      engineSize  \n",
              "282          1.0  \n",
              "291          1.0  \n",
              "505          1.0  \n",
              "506          1.0  \n",
              "714          1.0  \n",
              "...          ...  \n",
              "4157         1.6  \n",
              "4227         2.2  \n",
              "4377         2.0  \n",
              "4841         1.7  \n",
              "4846         1.4  \n",
              "\n",
              "[85 rows x 9 columns]"
            ]
          },
          "execution_count": 24,
          "metadata": {},
          "output_type": "execute_result"
        }
      ],
      "source": [
        "# 중복값\n",
        "df[df.duplicated()]"
      ]
    },
    {
      "cell_type": "code",
      "execution_count": 25,
      "metadata": {
        "id": "L1Q3t9yksH0b"
      },
      "outputs": [],
      "source": [
        "# 중복값 제거\n",
        "df.drop_duplicates(inplace=True)"
      ]
    },
    {
      "cell_type": "code",
      "execution_count": 26,
      "metadata": {
        "colab": {
          "base_uri": "https://localhost:8080/",
          "height": 424
        },
        "id": "-28-vHsnAskm",
        "outputId": "052733cc-adb7-43ca-d2d0-2aff4d129358"
      },
      "outputs": [
        {
          "data": {
            "text/html": [
              "<div>\n",
              "<style scoped>\n",
              "    .dataframe tbody tr th:only-of-type {\n",
              "        vertical-align: middle;\n",
              "    }\n",
              "\n",
              "    .dataframe tbody tr th {\n",
              "        vertical-align: top;\n",
              "    }\n",
              "\n",
              "    .dataframe thead th {\n",
              "        text-align: right;\n",
              "    }\n",
              "</style>\n",
              "<table border=\"1\" class=\"dataframe\">\n",
              "  <thead>\n",
              "    <tr style=\"text-align: right;\">\n",
              "      <th></th>\n",
              "      <th>model</th>\n",
              "      <th>year</th>\n",
              "      <th>price</th>\n",
              "      <th>transmission</th>\n",
              "      <th>mileage</th>\n",
              "      <th>fuelType</th>\n",
              "      <th>tax</th>\n",
              "      <th>mpg</th>\n",
              "      <th>engineSize</th>\n",
              "    </tr>\n",
              "  </thead>\n",
              "  <tbody>\n",
              "    <tr>\n",
              "      <th>0</th>\n",
              "      <td>I20</td>\n",
              "      <td>2017</td>\n",
              "      <td>7999</td>\n",
              "      <td>Manual</td>\n",
              "      <td>17307</td>\n",
              "      <td>Petrol</td>\n",
              "      <td>145.0</td>\n",
              "      <td>58.9</td>\n",
              "      <td>1.2</td>\n",
              "    </tr>\n",
              "    <tr>\n",
              "      <th>1</th>\n",
              "      <td>Tucson</td>\n",
              "      <td>2016</td>\n",
              "      <td>14499</td>\n",
              "      <td>Automatic</td>\n",
              "      <td>25233</td>\n",
              "      <td>Diesel</td>\n",
              "      <td>235.0</td>\n",
              "      <td>43.5</td>\n",
              "      <td>2.0</td>\n",
              "    </tr>\n",
              "    <tr>\n",
              "      <th>2</th>\n",
              "      <td>Tucson</td>\n",
              "      <td>2016</td>\n",
              "      <td>11399</td>\n",
              "      <td>Manual</td>\n",
              "      <td>37877</td>\n",
              "      <td>Diesel</td>\n",
              "      <td>30.0</td>\n",
              "      <td>61.7</td>\n",
              "      <td>1.7</td>\n",
              "    </tr>\n",
              "    <tr>\n",
              "      <th>3</th>\n",
              "      <td>I10</td>\n",
              "      <td>2016</td>\n",
              "      <td>6499</td>\n",
              "      <td>Manual</td>\n",
              "      <td>23789</td>\n",
              "      <td>Petrol</td>\n",
              "      <td>20.0</td>\n",
              "      <td>60.1</td>\n",
              "      <td>1.0</td>\n",
              "    </tr>\n",
              "    <tr>\n",
              "      <th>4</th>\n",
              "      <td>IX35</td>\n",
              "      <td>2015</td>\n",
              "      <td>10199</td>\n",
              "      <td>Manual</td>\n",
              "      <td>33177</td>\n",
              "      <td>Diesel</td>\n",
              "      <td>160.0</td>\n",
              "      <td>51.4</td>\n",
              "      <td>2.0</td>\n",
              "    </tr>\n",
              "    <tr>\n",
              "      <th>...</th>\n",
              "      <td>...</td>\n",
              "      <td>...</td>\n",
              "      <td>...</td>\n",
              "      <td>...</td>\n",
              "      <td>...</td>\n",
              "      <td>...</td>\n",
              "      <td>...</td>\n",
              "      <td>...</td>\n",
              "      <td>...</td>\n",
              "    </tr>\n",
              "    <tr>\n",
              "      <th>4854</th>\n",
              "      <td>Santa Fe</td>\n",
              "      <td>2019</td>\n",
              "      <td>29995</td>\n",
              "      <td>Semi-Auto</td>\n",
              "      <td>1567</td>\n",
              "      <td>Diesel</td>\n",
              "      <td>145.0</td>\n",
              "      <td>39.8</td>\n",
              "      <td>2.2</td>\n",
              "    </tr>\n",
              "    <tr>\n",
              "      <th>4856</th>\n",
              "      <td>I40</td>\n",
              "      <td>2015</td>\n",
              "      <td>7830</td>\n",
              "      <td>Manual</td>\n",
              "      <td>59508</td>\n",
              "      <td>Diesel</td>\n",
              "      <td>30.0</td>\n",
              "      <td>65.7</td>\n",
              "      <td>1.7</td>\n",
              "    </tr>\n",
              "    <tr>\n",
              "      <th>4857</th>\n",
              "      <td>I10</td>\n",
              "      <td>2017</td>\n",
              "      <td>6830</td>\n",
              "      <td>Manual</td>\n",
              "      <td>13810</td>\n",
              "      <td>Petrol</td>\n",
              "      <td>20.0</td>\n",
              "      <td>60.1</td>\n",
              "      <td>1.0</td>\n",
              "    </tr>\n",
              "    <tr>\n",
              "      <th>4858</th>\n",
              "      <td>Tucson</td>\n",
              "      <td>2018</td>\n",
              "      <td>13994</td>\n",
              "      <td>Manual</td>\n",
              "      <td>23313</td>\n",
              "      <td>Petrol</td>\n",
              "      <td>145.0</td>\n",
              "      <td>44.8</td>\n",
              "      <td>1.6</td>\n",
              "    </tr>\n",
              "    <tr>\n",
              "      <th>4859</th>\n",
              "      <td>Tucson</td>\n",
              "      <td>2016</td>\n",
              "      <td>15999</td>\n",
              "      <td>Automatic</td>\n",
              "      <td>11472</td>\n",
              "      <td>Diesel</td>\n",
              "      <td>125.0</td>\n",
              "      <td>57.6</td>\n",
              "      <td>1.7</td>\n",
              "    </tr>\n",
              "  </tbody>\n",
              "</table>\n",
              "<p>4594 rows × 9 columns</p>\n",
              "</div>"
            ],
            "text/plain": [
              "          model  year  price transmission  mileage fuelType    tax   mpg  \\\n",
              "0           I20  2017   7999       Manual    17307   Petrol  145.0  58.9   \n",
              "1        Tucson  2016  14499    Automatic    25233   Diesel  235.0  43.5   \n",
              "2        Tucson  2016  11399       Manual    37877   Diesel   30.0  61.7   \n",
              "3           I10  2016   6499       Manual    23789   Petrol   20.0  60.1   \n",
              "4          IX35  2015  10199       Manual    33177   Diesel  160.0  51.4   \n",
              "...         ...   ...    ...          ...      ...      ...    ...   ...   \n",
              "4854   Santa Fe  2019  29995    Semi-Auto     1567   Diesel  145.0  39.8   \n",
              "4856        I40  2015   7830       Manual    59508   Diesel   30.0  65.7   \n",
              "4857        I10  2017   6830       Manual    13810   Petrol   20.0  60.1   \n",
              "4858     Tucson  2018  13994       Manual    23313   Petrol  145.0  44.8   \n",
              "4859     Tucson  2016  15999    Automatic    11472   Diesel  125.0  57.6   \n",
              "\n",
              "      engineSize  \n",
              "0            1.2  \n",
              "1            2.0  \n",
              "2            1.7  \n",
              "3            1.0  \n",
              "4            2.0  \n",
              "...          ...  \n",
              "4854         2.2  \n",
              "4856         1.7  \n",
              "4857         1.0  \n",
              "4858         1.6  \n",
              "4859         1.7  \n",
              "\n",
              "[4594 rows x 9 columns]"
            ]
          },
          "execution_count": 26,
          "metadata": {},
          "output_type": "execute_result"
        }
      ],
      "source": [
        "df"
      ]
    },
    {
      "cell_type": "markdown",
      "metadata": {
        "id": "My5Z5JsSsNbM"
      },
      "source": [
        "#3. 데이터 시각화"
      ]
    },
    {
      "cell_type": "markdown",
      "metadata": {
        "id": "VGbSGydusm81"
      },
      "source": [
        "### 상관계수\n",
        "상관계수는 숫자 datatype만 계산 가능하므로 model, transmission, fuel type는 제외됨"
      ]
    },
    {
      "cell_type": "code",
      "execution_count": 27,
      "metadata": {
        "colab": {
          "base_uri": "https://localhost:8080/",
          "height": 238
        },
        "id": "sLLRzadQscdG",
        "outputId": "3d8d10ff-45f6-4f24-95cb-ca1e6904c7e9"
      },
      "outputs": [
        {
          "data": {
            "text/html": [
              "<div>\n",
              "<style scoped>\n",
              "    .dataframe tbody tr th:only-of-type {\n",
              "        vertical-align: middle;\n",
              "    }\n",
              "\n",
              "    .dataframe tbody tr th {\n",
              "        vertical-align: top;\n",
              "    }\n",
              "\n",
              "    .dataframe thead th {\n",
              "        text-align: right;\n",
              "    }\n",
              "</style>\n",
              "<table border=\"1\" class=\"dataframe\">\n",
              "  <thead>\n",
              "    <tr style=\"text-align: right;\">\n",
              "      <th></th>\n",
              "      <th>year</th>\n",
              "      <th>price</th>\n",
              "      <th>mileage</th>\n",
              "      <th>tax</th>\n",
              "      <th>mpg</th>\n",
              "      <th>engineSize</th>\n",
              "    </tr>\n",
              "  </thead>\n",
              "  <tbody>\n",
              "    <tr>\n",
              "      <th>year</th>\n",
              "      <td>1.000000</td>\n",
              "      <td>0.568002</td>\n",
              "      <td>-0.718656</td>\n",
              "      <td>0.234692</td>\n",
              "      <td>-0.145975</td>\n",
              "      <td>-0.042597</td>\n",
              "    </tr>\n",
              "    <tr>\n",
              "      <th>price</th>\n",
              "      <td>0.568002</td>\n",
              "      <td>1.000000</td>\n",
              "      <td>-0.436268</td>\n",
              "      <td>0.304096</td>\n",
              "      <td>-0.310004</td>\n",
              "      <td>0.555559</td>\n",
              "    </tr>\n",
              "    <tr>\n",
              "      <th>mileage</th>\n",
              "      <td>-0.718656</td>\n",
              "      <td>-0.436268</td>\n",
              "      <td>1.000000</td>\n",
              "      <td>-0.158413</td>\n",
              "      <td>0.139329</td>\n",
              "      <td>0.192463</td>\n",
              "    </tr>\n",
              "    <tr>\n",
              "      <th>tax</th>\n",
              "      <td>0.234692</td>\n",
              "      <td>0.304096</td>\n",
              "      <td>-0.158413</td>\n",
              "      <td>1.000000</td>\n",
              "      <td>-0.382185</td>\n",
              "      <td>0.260533</td>\n",
              "    </tr>\n",
              "    <tr>\n",
              "      <th>mpg</th>\n",
              "      <td>-0.145975</td>\n",
              "      <td>-0.310004</td>\n",
              "      <td>0.139329</td>\n",
              "      <td>-0.382185</td>\n",
              "      <td>1.000000</td>\n",
              "      <td>-0.258397</td>\n",
              "    </tr>\n",
              "    <tr>\n",
              "      <th>engineSize</th>\n",
              "      <td>-0.042597</td>\n",
              "      <td>0.555559</td>\n",
              "      <td>0.192463</td>\n",
              "      <td>0.260533</td>\n",
              "      <td>-0.258397</td>\n",
              "      <td>1.000000</td>\n",
              "    </tr>\n",
              "  </tbody>\n",
              "</table>\n",
              "</div>"
            ],
            "text/plain": [
              "                year     price   mileage       tax       mpg  engineSize\n",
              "year        1.000000  0.568002 -0.718656  0.234692 -0.145975   -0.042597\n",
              "price       0.568002  1.000000 -0.436268  0.304096 -0.310004    0.555559\n",
              "mileage    -0.718656 -0.436268  1.000000 -0.158413  0.139329    0.192463\n",
              "tax         0.234692  0.304096 -0.158413  1.000000 -0.382185    0.260533\n",
              "mpg        -0.145975 -0.310004  0.139329 -0.382185  1.000000   -0.258397\n",
              "engineSize -0.042597  0.555559  0.192463  0.260533 -0.258397    1.000000"
            ]
          },
          "execution_count": 27,
          "metadata": {},
          "output_type": "execute_result"
        }
      ],
      "source": [
        "corr = df.corr()\n",
        "corr"
      ]
    },
    {
      "cell_type": "code",
      "execution_count": 28,
      "metadata": {
        "id": "4BcWvY1-Bums"
      },
      "outputs": [],
      "source": [
        "import matplotlib\n",
        "matplotlib.rcParams['axes.unicode_minus'] = False"
      ]
    },
    {
      "cell_type": "code",
      "execution_count": 29,
      "metadata": {
        "colab": {
          "base_uri": "https://localhost:8080/",
          "height": 703
        },
        "id": "kUiSUff4smIE",
        "outputId": "9059abf0-82e0-4116-c17e-29ccb32d15cd"
      },
      "outputs": [
        {
          "data": {
            "image/png": "[encoded data removed]",
            "text/plain": [
              "<Figure size 720x576 with 2 Axes>"
            ]
          },
          "metadata": {},
          "output_type": "display_data"
        }
      ],
      "source": [
        "plt.figure(figsize=(10, 8))\n",
        "sns.heatmap(corr, xticklabels=corr.columns, yticklabels=corr.columns, cmap='Reds')\n",
        "plt.title(\"correlation heatmap\")\n",
        "plt.show()"
      ]
    },
    {
      "cell_type": "markdown",
      "metadata": {
        "id": "8Ys1ZZWms07d"
      },
      "source": [
        "* price와 양의 상관관계: year, engine size\n",
        "* price와 음의 상관관계: mileage, mpg"
      ]
    },
    {
      "cell_type": "markdown",
      "metadata": {
        "id": "JYRxL4U7zL88"
      },
      "source": [
        "### 차종"
      ]
    },
    {
      "cell_type": "code",
      "execution_count": 30,
      "metadata": {
        "colab": {
          "base_uri": "https://localhost:8080/",
          "height": 424
        },
        "id": "herjDvZICOCa",
        "outputId": "4b94623b-93d2-4984-83e7-0353f92e78a0"
      },
      "outputs": [
        {
          "data": {
            "text/html": [
              "<div>\n",
              "<style scoped>\n",
              "    .dataframe tbody tr th:only-of-type {\n",
              "        vertical-align: middle;\n",
              "    }\n",
              "\n",
              "    .dataframe tbody tr th {\n",
              "        vertical-align: top;\n",
              "    }\n",
              "\n",
              "    .dataframe thead th {\n",
              "        text-align: right;\n",
              "    }\n",
              "</style>\n",
              "<table border=\"1\" class=\"dataframe\">\n",
              "  <thead>\n",
              "    <tr style=\"text-align: right;\">\n",
              "      <th></th>\n",
              "      <th>model</th>\n",
              "      <th>year</th>\n",
              "      <th>price</th>\n",
              "      <th>transmission</th>\n",
              "      <th>mileage</th>\n",
              "      <th>fuelType</th>\n",
              "      <th>tax</th>\n",
              "      <th>mpg</th>\n",
              "      <th>engineSize</th>\n",
              "    </tr>\n",
              "  </thead>\n",
              "  <tbody>\n",
              "    <tr>\n",
              "      <th>0</th>\n",
              "      <td>I20</td>\n",
              "      <td>2017</td>\n",
              "      <td>7999</td>\n",
              "      <td>Manual</td>\n",
              "      <td>17307</td>\n",
              "      <td>Petrol</td>\n",
              "      <td>145.0</td>\n",
              "      <td>58.9</td>\n",
              "      <td>1.2</td>\n",
              "    </tr>\n",
              "    <tr>\n",
              "      <th>1</th>\n",
              "      <td>Tucson</td>\n",
              "      <td>2016</td>\n",
              "      <td>14499</td>\n",
              "      <td>Automatic</td>\n",
              "      <td>25233</td>\n",
              "      <td>Diesel</td>\n",
              "      <td>235.0</td>\n",
              "      <td>43.5</td>\n",
              "      <td>2.0</td>\n",
              "    </tr>\n",
              "    <tr>\n",
              "      <th>2</th>\n",
              "      <td>Tucson</td>\n",
              "      <td>2016</td>\n",
              "      <td>11399</td>\n",
              "      <td>Manual</td>\n",
              "      <td>37877</td>\n",
              "      <td>Diesel</td>\n",
              "      <td>30.0</td>\n",
              "      <td>61.7</td>\n",
              "      <td>1.7</td>\n",
              "    </tr>\n",
              "    <tr>\n",
              "      <th>3</th>\n",
              "      <td>I10</td>\n",
              "      <td>2016</td>\n",
              "      <td>6499</td>\n",
              "      <td>Manual</td>\n",
              "      <td>23789</td>\n",
              "      <td>Petrol</td>\n",
              "      <td>20.0</td>\n",
              "      <td>60.1</td>\n",
              "      <td>1.0</td>\n",
              "    </tr>\n",
              "    <tr>\n",
              "      <th>4</th>\n",
              "      <td>IX35</td>\n",
              "      <td>2015</td>\n",
              "      <td>10199</td>\n",
              "      <td>Manual</td>\n",
              "      <td>33177</td>\n",
              "      <td>Diesel</td>\n",
              "      <td>160.0</td>\n",
              "      <td>51.4</td>\n",
              "      <td>2.0</td>\n",
              "    </tr>\n",
              "    <tr>\n",
              "      <th>...</th>\n",
              "      <td>...</td>\n",
              "      <td>...</td>\n",
              "      <td>...</td>\n",
              "      <td>...</td>\n",
              "      <td>...</td>\n",
              "      <td>...</td>\n",
              "      <td>...</td>\n",
              "      <td>...</td>\n",
              "      <td>...</td>\n",
              "    </tr>\n",
              "    <tr>\n",
              "      <th>4854</th>\n",
              "      <td>Santa Fe</td>\n",
              "      <td>2019</td>\n",
              "      <td>29995</td>\n",
              "      <td>Semi-Auto</td>\n",
              "      <td>1567</td>\n",
              "      <td>Diesel</td>\n",
              "      <td>145.0</td>\n",
              "      <td>39.8</td>\n",
              "      <td>2.2</td>\n",
              "    </tr>\n",
              "    <tr>\n",
              "      <th>4856</th>\n",
              "      <td>I40</td>\n",
              "      <td>2015</td>\n",
              "      <td>7830</td>\n",
              "      <td>Manual</td>\n",
              "      <td>59508</td>\n",
              "      <td>Diesel</td>\n",
              "      <td>30.0</td>\n",
              "      <td>65.7</td>\n",
              "      <td>1.7</td>\n",
              "    </tr>\n",
              "    <tr>\n",
              "      <th>4857</th>\n",
              "      <td>I10</td>\n",
              "      <td>2017</td>\n",
              "      <td>6830</td>\n",
              "      <td>Manual</td>\n",
              "      <td>13810</td>\n",
              "      <td>Petrol</td>\n",
              "      <td>20.0</td>\n",
              "      <td>60.1</td>\n",
              "      <td>1.0</td>\n",
              "    </tr>\n",
              "    <tr>\n",
              "      <th>4858</th>\n",
              "      <td>Tucson</td>\n",
              "      <td>2018</td>\n",
              "      <td>13994</td>\n",
              "      <td>Manual</td>\n",
              "      <td>23313</td>\n",
              "      <td>Petrol</td>\n",
              "      <td>145.0</td>\n",
              "      <td>44.8</td>\n",
              "      <td>1.6</td>\n",
              "    </tr>\n",
              "    <tr>\n",
              "      <th>4859</th>\n",
              "      <td>Tucson</td>\n",
              "      <td>2016</td>\n",
              "      <td>15999</td>\n",
              "      <td>Automatic</td>\n",
              "      <td>11472</td>\n",
              "      <td>Diesel</td>\n",
              "      <td>125.0</td>\n",
              "      <td>57.6</td>\n",
              "      <td>1.7</td>\n",
              "    </tr>\n",
              "  </tbody>\n",
              "</table>\n",
              "<p>4594 rows × 9 columns</p>\n",
              "</div>"
            ],
            "text/plain": [
              "          model  year  price transmission  mileage fuelType    tax   mpg  \\\n",
              "0           I20  2017   7999       Manual    17307   Petrol  145.0  58.9   \n",
              "1        Tucson  2016  14499    Automatic    25233   Diesel  235.0  43.5   \n",
              "2        Tucson  2016  11399       Manual    37877   Diesel   30.0  61.7   \n",
              "3           I10  2016   6499       Manual    23789   Petrol   20.0  60.1   \n",
              "4          IX35  2015  10199       Manual    33177   Diesel  160.0  51.4   \n",
              "...         ...   ...    ...          ...      ...      ...    ...   ...   \n",
              "4854   Santa Fe  2019  29995    Semi-Auto     1567   Diesel  145.0  39.8   \n",
              "4856        I40  2015   7830       Manual    59508   Diesel   30.0  65.7   \n",
              "4857        I10  2017   6830       Manual    13810   Petrol   20.0  60.1   \n",
              "4858     Tucson  2018  13994       Manual    23313   Petrol  145.0  44.8   \n",
              "4859     Tucson  2016  15999    Automatic    11472   Diesel  125.0  57.6   \n",
              "\n",
              "      engineSize  \n",
              "0            1.2  \n",
              "1            2.0  \n",
              "2            1.7  \n",
              "3            1.0  \n",
              "4            2.0  \n",
              "...          ...  \n",
              "4854         2.2  \n",
              "4856         1.7  \n",
              "4857         1.0  \n",
              "4858         1.6  \n",
              "4859         1.7  \n",
              "\n",
              "[4594 rows x 9 columns]"
            ]
          },
          "execution_count": 30,
          "metadata": {},
          "output_type": "execute_result"
        }
      ],
      "source": [
        "df"
      ]
    },
    {
      "cell_type": "code",
      "execution_count": 31,
      "metadata": {
        "colab": {
          "base_uri": "https://localhost:8080/"
        },
        "id": "izKsalFvCITH",
        "outputId": "e3fff23a-eb9d-4de8-b73c-b5c1064942b9"
      },
      "outputs": [
        {
          "data": {
            "text/plain": [
              "model\n",
              " Accent       1295.000000\n",
              " Amica        1750.000000\n",
              " Getz         1927.500000\n",
              " I10          7723.844828\n",
              " I20          8848.288421\n",
              " I30         12550.097902\n",
              " I40         10657.714286\n",
              " I800        16663.263158\n",
              " IX20         8833.731343\n",
              " IX35         8265.582609\n",
              " Ioniq       18181.379032\n",
              " Kona        15634.257764\n",
              " Santa Fe    24189.258197\n",
              " Terracan     3092.500000\n",
              " Tucson      15769.978740\n",
              " Veloster     7031.666667\n",
              "Name: price, dtype: float64"
            ]
          },
          "execution_count": 31,
          "metadata": {},
          "output_type": "execute_result"
        }
      ],
      "source": [
        "df.groupby('model')['price'].mean()"
      ]
    },
    {
      "cell_type": "code",
      "execution_count": 32,
      "metadata": {
        "colab": {
          "base_uri": "https://localhost:8080/",
          "height": 601
        },
        "id": "GIGGe_Tqt3Lu",
        "outputId": "76fcc3a9-ec8a-498d-d22d-74444cfc86b1"
      },
      "outputs": [
        {
          "data": {
            "image/png": "[encoded data removed]",
            "text/plain": [
              "<Figure size 792x432 with 1 Axes>"
            ]
          },
          "metadata": {},
          "output_type": "display_data"
        }
      ],
      "source": [
        "# 차종에 따른 평균가격\n",
        "model_price = df.groupby('model')['price'].mean().sort_values()\n",
        "\n",
        "plt.figure(figsize=(11,6))\n",
        "plt.title(\"차종에 따른 차량 평균가격\")\n",
        "pal = sns.color_palette(\"Blues_d\", len(model_price))\n",
        "\n",
        "sns.barplot(x=model_price.index, y=model_price.values, palette=pal)\n",
        "\n",
        "plt.xlabel(\"Model\")\n",
        "plt.ylabel(\"Price (Euros)\")\n",
        "plt.tight_layout()"
      ]
    },
    {
      "cell_type": "code",
      "execution_count": 33,
      "metadata": {
        "colab": {
          "base_uri": "https://localhost:8080/",
          "height": 501
        },
        "id": "DV_nhK6azII_",
        "outputId": "7a097091-472e-49b5-97a4-679caebc0279"
      },
      "outputs": [
        {
          "data": {
            "image/png": "[encoded data removed]",
            "text/plain": [
              "<Figure size 576x360 with 1 Axes>"
            ]
          },
          "metadata": {},
          "output_type": "display_data"
        }
      ],
      "source": [
        "plt.figure(figsize=(8,5))\n",
        "plt.title(\"모델별 차량 대수\")\n",
        "sns.countplot(y='model', data=df)\n",
        "plt.tight_layout()"
      ]
    },
    {
      "cell_type": "markdown",
      "metadata": {
        "id": "QTuxGtvxzlAO"
      },
      "source": [
        "### 출시연도"
      ]
    },
    {
      "cell_type": "code",
      "execution_count": 34,
      "metadata": {
        "colab": {
          "base_uri": "https://localhost:8080/",
          "height": 601
        },
        "id": "ulGKvyhCuBTM",
        "outputId": "9f2fe55d-b430-420b-f244-cbd73693f987"
      },
      "outputs": [
        {
          "data": {
            "image/png": "[encoded data removed]",
            "text/plain": [
              "<Figure size 720x432 with 1 Axes>"
            ]
          },
          "metadata": {},
          "output_type": "display_data"
        }
      ],
      "source": [
        "# 출시연도에 따른 평균가격\n",
        "year_price = df.groupby('year')['price'].mean().sort_values()\n",
        "\n",
        "plt.figure(figsize=(10,6))\n",
        "plt.title(\"출시연도에 따른 차량 평균가격\")\n",
        "pal = sns.color_palette(\"Blues_d\", len(year_price))\n",
        "\n",
        "sns.barplot(x=year_price.index, y=year_price.values, palette=pal)\n",
        "\n",
        "plt.xlabel(\"Year\")\n",
        "plt.ylabel(\"Price (Euros)\")\n",
        "plt.tight_layout()"
      ]
    },
    {
      "cell_type": "markdown",
      "metadata": {
        "id": "dLv-lzYe0pje"
      },
      "source": [
        "### 변속기"
      ]
    },
    {
      "cell_type": "code",
      "execution_count": 35,
      "metadata": {
        "colab": {
          "base_uri": "https://localhost:8080/",
          "height": 522
        },
        "id": "vIsHiTHbvok7",
        "outputId": "22bdfe8c-f0df-459a-fbf6-c604b6025ee9"
      },
      "outputs": [
        {
          "data": {
            "image/png": "[encoded data removed]",
            "text/plain": [
              "<Figure size 360x360 with 1 Axes>"
            ]
          },
          "metadata": {},
          "output_type": "display_data"
        }
      ],
      "source": [
        "sns.catplot(x='transmission', y='price', kind='bar', data=df)\n",
        "plt.title(\"변속기에 따른 차량 평균가격\")\n",
        "plt.show()"
      ]
    },
    {
      "cell_type": "markdown",
      "metadata": {
        "id": "Bd__s9bx0CxG"
      },
      "source": [
        "### 주행거리"
      ]
    },
    {
      "cell_type": "code",
      "execution_count": 36,
      "metadata": {
        "colab": {
          "base_uri": "https://localhost:8080/",
          "height": 419
        },
        "id": "b2vfp6MpuETC",
        "outputId": "ca50c40b-1eb6-4c0b-b62c-779077913b17"
      },
      "outputs": [
        {
          "data": {
            "image/png": "[encoded data removed]",
            "text/plain": [
              "<Figure size 504x288 with 1 Axes>"
            ]
          },
          "metadata": {},
          "output_type": "display_data"
        }
      ],
      "source": [
        "plt.figure(figsize=(7,4))\n",
        "plt.title(\"주행거리에 따른 차량가격\")\n",
        "sns.scatterplot(x=df['mileage'], y=df['price'])\n",
        "plt.show()"
      ]
    },
    {
      "cell_type": "code",
      "execution_count": 37,
      "metadata": {
        "colab": {
          "base_uri": "https://localhost:8080/",
          "height": 500
        },
        "id": "ybyxnbqk0KYQ",
        "outputId": "a76ef3a4-12c9-40ac-87e9-62cfc3897057"
      },
      "outputs": [
        {
          "data": {
            "image/png": "[encoded data removed]",
            "text/plain": [
              "<Figure size 432x288 with 1 Axes>"
            ]
          },
          "metadata": {},
          "output_type": "display_data"
        }
      ],
      "source": [
        "df.groupby('year')['mileage'].mean().plot.bar(cmap='Pastel1');\n",
        "plt.title(\"출시연도에 따른 주행거리\")\n",
        "plt.show()"
      ]
    },
    {
      "cell_type": "markdown",
      "metadata": {
        "id": "p8V9n3S-1A_H"
      },
      "source": [
        "### 연료종류"
      ]
    },
    {
      "cell_type": "code",
      "execution_count": 38,
      "metadata": {
        "colab": {
          "base_uri": "https://localhost:8080/",
          "height": 522
        },
        "id": "b3egHPCo1CAC",
        "outputId": "a58ec255-1e97-4c1e-f8ab-03b744b013b1"
      },
      "outputs": [
        {
          "data": {
            "image/png": "[encoded data removed]",
            "text/plain": [
              "<Figure size 360x360 with 1 Axes>"
            ]
          },
          "metadata": {},
          "output_type": "display_data"
        }
      ],
      "source": [
        "sns.catplot(x='fuelType', y='price', kind='bar', data=df)\n",
        "plt.title(\"연료종류에 따른 차량 평균가격\")\n",
        "plt.show()"
      ]
    },
    {
      "cell_type": "markdown",
      "metadata": {
        "id": "rnr4e2GY1Hrj"
      },
      "source": [
        "### 세금"
      ]
    },
    {
      "cell_type": "code",
      "execution_count": 39,
      "metadata": {
        "colab": {
          "base_uri": "https://localhost:8080/",
          "height": 480
        },
        "id": "NNB3KMU71Hvk",
        "outputId": "e29dae57-fae9-4a83-d8ad-c4fd3c4c6058"
      },
      "outputs": [
        {
          "data": {
            "image/png": "[encoded data removed]",
            "text/plain": [
              "<Figure size 432x288 with 1 Axes>"
            ]
          },
          "metadata": {},
          "output_type": "display_data"
        }
      ],
      "source": [
        "sns.scatterplot(x='tax', y='price', data=df)\n",
        "plt.title(\"세금에 따른 차량 평균가격\")\n",
        "plt.show()"
      ]
    },
    {
      "cell_type": "markdown",
      "metadata": {
        "id": "AmszQZuh0X3H"
      },
      "source": [
        "### 연비(mpg)"
      ]
    },
    {
      "cell_type": "code",
      "execution_count": 40,
      "metadata": {
        "colab": {
          "base_uri": "https://localhost:8080/",
          "height": 419
        },
        "id": "WlSNn4iNvKnN",
        "outputId": "77e541a0-7784-4f0d-b485-bdfc28b68620"
      },
      "outputs": [
        {
          "data": {
            "image/png": "[encoded data removed]",
            "text/plain": [
              "<Figure size 504x288 with 1 Axes>"
            ]
          },
          "metadata": {},
          "output_type": "display_data"
        }
      ],
      "source": [
        "plt.figure(figsize=(7,4))\n",
        "plt.title(\"연비에 따른 차량가격\")\n",
        "sns.scatterplot(x=df['mpg'], y=df['price'])\n",
        "plt.show()"
      ]
    },
    {
      "cell_type": "markdown",
      "metadata": {
        "id": "TEzaKMnp1Jze"
      },
      "source": [
        "### 엔진크기"
      ]
    },
    {
      "cell_type": "code",
      "execution_count": 41,
      "metadata": {
        "colab": {
          "base_uri": "https://localhost:8080/",
          "height": 419
        },
        "id": "3jYqkY-x2AqO",
        "outputId": "04ba9bb2-16c8-40df-d516-58af93d52a69"
      },
      "outputs": [
        {
          "data": {
            "image/png": "[encoded data removed]",
            "text/plain": [
              "<Figure size 504x288 with 1 Axes>"
            ]
          },
          "metadata": {},
          "output_type": "display_data"
        }
      ],
      "source": [
        "plt.figure(figsize=(7,4))\n",
        "plt.title(\"엔진크기에 따른 차량가격\")\n",
        "sns.scatterplot(x=df['engineSize'], y=df['price'])\n",
        "plt.show()"
      ]
    },
    {
      "cell_type": "markdown",
      "metadata": {
        "id": "O9SOafTR2DRS"
      },
      "source": [
        "# 4. 시각화 내용 정리"
      ]
    },
    {
      "cell_type": "markdown",
      "metadata": {
        "id": "yxZERwdQ2Oe5"
      },
      "source": [
        "mpg와 tax는 price와 약한 상관관계를 보인다.\n",
        "이외의 변수 year, mileage, engineSize는 유의할만한 상관관계를 보인다.\n",
        "\n",
        "주행거리, 세금, 연비, 엔진크기에 각각 outlier가 존재하므로 확인해야 한다."
      ]
    },
    {
      "cell_type": "markdown",
      "metadata": {
        "id": "vfUvimm-3m3d"
      },
      "source": [
        "데이터 크기가 작은 경우 엑셀로 빠르게 outlier을 체크하는 것이 좋다"
      ]
    },
    {
      "cell_type": "markdown",
      "metadata": {
        "id": "1Hvn9Z9x4Fnv"
      },
      "source": [
        "![image.png](data:image/png;base64,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)"
      ]
    },
    {
      "cell_type": "markdown",
      "metadata": {
        "id": "RmQ5X8rC5hs8"
      },
      "source": [
        "엑셀에서 outlier를 확인한 데이터로 노란색 부분이 outlier가 된 원인이다. 이 값을 모델에 넣을지 안 넣을지에 따라서 모델 성능이 달라질 수 있으므로 유의해야 한다.\n",
        "\n",
        "Santa Fe와 I10은 제거를 하고 Ioniq은 값을 변경해 줄 예정이다. Ioniq은 전기차로 2020년 mpg는 62.8, 2019,2018년은 78.5로 변경할 것이다."
      ]
    },
    {
      "cell_type": "markdown",
      "metadata": {
        "id": "ovlN9BovpoUH"
      },
      "source": [
        "# 5. 이상치 제거 및 변환"
      ]
    },
    {
      "cell_type": "markdown",
      "metadata": {
        "id": "PVUcID8YpO1y"
      },
      "source": [
        "### 행 제거"
      ]
    },
    {
      "cell_type": "code",
      "execution_count": 42,
      "metadata": {
        "colab": {
          "base_uri": "https://localhost:8080/"
        },
        "id": "-hQJhkfrkkaZ",
        "outputId": "5b32a8d8-db32-4d73-c9f8-90ed5bc53ca2"
      },
      "outputs": [
        {
          "data": {
            "text/plain": [
              "4594"
            ]
          },
          "execution_count": 42,
          "metadata": {},
          "output_type": "execute_result"
        }
      ],
      "source": [
        "len(df)"
      ]
    },
    {
      "cell_type": "code",
      "execution_count": 43,
      "metadata": {
        "colab": {
          "base_uri": "https://localhost:8080/",
          "height": 81
        },
        "id": "ohMCyXpRk53A",
        "outputId": "7eb2a188-7a3b-4359-ea7f-f952c17e35c0"
      },
      "outputs": [
        {
          "data": {
            "text/html": [
              "<div>\n",
              "<style scoped>\n",
              "    .dataframe tbody tr th:only-of-type {\n",
              "        vertical-align: middle;\n",
              "    }\n",
              "\n",
              "    .dataframe tbody tr th {\n",
              "        vertical-align: top;\n",
              "    }\n",
              "\n",
              "    .dataframe thead th {\n",
              "        text-align: right;\n",
              "    }\n",
              "</style>\n",
              "<table border=\"1\" class=\"dataframe\">\n",
              "  <thead>\n",
              "    <tr style=\"text-align: right;\">\n",
              "      <th></th>\n",
              "      <th>model</th>\n",
              "      <th>year</th>\n",
              "      <th>price</th>\n",
              "      <th>transmission</th>\n",
              "      <th>mileage</th>\n",
              "      <th>fuelType</th>\n",
              "      <th>tax</th>\n",
              "      <th>mpg</th>\n",
              "      <th>engineSize</th>\n",
              "    </tr>\n",
              "  </thead>\n",
              "  <tbody>\n",
              "    <tr>\n",
              "      <th>4756</th>\n",
              "      <td>Santa Fe</td>\n",
              "      <td>2006</td>\n",
              "      <td>3490</td>\n",
              "      <td>Manual</td>\n",
              "      <td>71000</td>\n",
              "      <td>Petrol</td>\n",
              "      <td>555.0</td>\n",
              "      <td>28.8</td>\n",
              "      <td>2.4</td>\n",
              "    </tr>\n",
              "  </tbody>\n",
              "</table>\n",
              "</div>"
            ],
            "text/plain": [
              "          model  year  price transmission  mileage fuelType    tax   mpg  \\\n",
              "4756   Santa Fe  2006   3490       Manual    71000   Petrol  555.0  28.8   \n",
              "\n",
              "      engineSize  \n",
              "4756         2.4  "
            ]
          },
          "execution_count": 43,
          "metadata": {},
          "output_type": "execute_result"
        }
      ],
      "source": [
        "# 행 삭제하기 위해 조회\n",
        "df[df['year'] == 2006]"
      ]
    },
    {
      "cell_type": "code",
      "execution_count": 44,
      "metadata": {
        "colab": {
          "base_uri": "https://localhost:8080/"
        },
        "id": "rUXjIB_ZhJoK",
        "outputId": "979dab45-5247-4579-fbb6-8bb06b5ed84b"
      },
      "outputs": [
        {
          "data": {
            "text/plain": [
              "4593"
            ]
          },
          "execution_count": 44,
          "metadata": {},
          "output_type": "execute_result"
        }
      ],
      "source": [
        "# 찾은 행에서 index로 이동해 그 index에 속한 값만 지우기\n",
        "df.drop(df[df['year'] == 2006].index, axis=0, inplace=True)\n",
        "len(df)"
      ]
    },
    {
      "cell_type": "code",
      "execution_count": 45,
      "metadata": {
        "colab": {
          "base_uri": "https://localhost:8080/",
          "height": 81
        },
        "id": "LrTmy7hshBcJ",
        "outputId": "a4e76021-7d44-4134-8f40-b0f57e9ab4d4"
      },
      "outputs": [
        {
          "data": {
            "text/html": [
              "<div>\n",
              "<style scoped>\n",
              "    .dataframe tbody tr th:only-of-type {\n",
              "        vertical-align: middle;\n",
              "    }\n",
              "\n",
              "    .dataframe tbody tr th {\n",
              "        vertical-align: top;\n",
              "    }\n",
              "\n",
              "    .dataframe thead th {\n",
              "        text-align: right;\n",
              "    }\n",
              "</style>\n",
              "<table border=\"1\" class=\"dataframe\">\n",
              "  <thead>\n",
              "    <tr style=\"text-align: right;\">\n",
              "      <th></th>\n",
              "      <th>model</th>\n",
              "      <th>year</th>\n",
              "      <th>price</th>\n",
              "      <th>transmission</th>\n",
              "      <th>mileage</th>\n",
              "      <th>fuelType</th>\n",
              "      <th>tax</th>\n",
              "      <th>mpg</th>\n",
              "      <th>engineSize</th>\n",
              "    </tr>\n",
              "  </thead>\n",
              "  <tbody>\n",
              "    <tr>\n",
              "      <th>4247</th>\n",
              "      <td>I10</td>\n",
              "      <td>2017</td>\n",
              "      <td>92000</td>\n",
              "      <td>Automatic</td>\n",
              "      <td>35460</td>\n",
              "      <td>Petrol</td>\n",
              "      <td>150.0</td>\n",
              "      <td>47.9</td>\n",
              "      <td>1.2</td>\n",
              "    </tr>\n",
              "  </tbody>\n",
              "</table>\n",
              "</div>"
            ],
            "text/plain": [
              "     model  year  price transmission  mileage fuelType    tax   mpg  \\\n",
              "4247   I10  2017  92000    Automatic    35460   Petrol  150.0  47.9   \n",
              "\n",
              "      engineSize  \n",
              "4247         1.2  "
            ]
          },
          "execution_count": 45,
          "metadata": {},
          "output_type": "execute_result"
        }
      ],
      "source": [
        "df[df['price'] == 92000]"
      ]
    },
    {
      "cell_type": "code",
      "execution_count": 46,
      "metadata": {
        "colab": {
          "base_uri": "https://localhost:8080/"
        },
        "id": "8yFA0fDDlJEY",
        "outputId": "2e99e90e-cfc2-4dd1-fa7a-a9c4f7b11122"
      },
      "outputs": [
        {
          "data": {
            "text/plain": [
              "4592"
            ]
          },
          "execution_count": 46,
          "metadata": {},
          "output_type": "execute_result"
        }
      ],
      "source": [
        "df.drop(df[df['price'] == 92000].index, axis=0, inplace=True)\n",
        "len(df)"
      ]
    },
    {
      "cell_type": "markdown",
      "metadata": {
        "id": "aiuqgdPMlO9J"
      },
      "source": [
        "### 데이터 값 변환\n",
        "Ioniq행을 변경하기 위해 동일한 방식으로 조회해보지만 되지 않아 str.contains 사용함 (모델명 앞에 공백 존재함)"
      ]
    },
    {
      "cell_type": "code",
      "execution_count": 47,
      "metadata": {
        "colab": {
          "base_uri": "https://localhost:8080/",
          "height": 50
        },
        "id": "Tdlxv16viz4z",
        "outputId": "9fd3c7a5-11c5-4d1c-b05c-c38ce1e2458a"
      },
      "outputs": [
        {
          "data": {
            "text/html": [
              "<div>\n",
              "<style scoped>\n",
              "    .dataframe tbody tr th:only-of-type {\n",
              "        vertical-align: middle;\n",
              "    }\n",
              "\n",
              "    .dataframe tbody tr th {\n",
              "        vertical-align: top;\n",
              "    }\n",
              "\n",
              "    .dataframe thead th {\n",
              "        text-align: right;\n",
              "    }\n",
              "</style>\n",
              "<table border=\"1\" class=\"dataframe\">\n",
              "  <thead>\n",
              "    <tr style=\"text-align: right;\">\n",
              "      <th></th>\n",
              "      <th>model</th>\n",
              "      <th>year</th>\n",
              "      <th>price</th>\n",
              "      <th>transmission</th>\n",
              "      <th>mileage</th>\n",
              "      <th>fuelType</th>\n",
              "      <th>tax</th>\n",
              "      <th>mpg</th>\n",
              "      <th>engineSize</th>\n",
              "    </tr>\n",
              "  </thead>\n",
              "  <tbody>\n",
              "  </tbody>\n",
              "</table>\n",
              "</div>"
            ],
            "text/plain": [
              "Empty DataFrame\n",
              "Columns: [model, year, price, transmission, mileage, fuelType, tax, mpg, engineSize]\n",
              "Index: []"
            ]
          },
          "execution_count": 47,
          "metadata": {},
          "output_type": "execute_result"
        }
      ],
      "source": [
        "df[df['model'] == 'Ioniq']"
      ]
    },
    {
      "cell_type": "code",
      "execution_count": 48,
      "metadata": {
        "colab": {
          "base_uri": "https://localhost:8080/",
          "height": 144
        },
        "id": "j1Pl0mPsh1dv",
        "outputId": "a5a35e2b-a651-454e-96b5-b8b07366bff7"
      },
      "outputs": [
        {
          "data": {
            "text/html": [
              "<div>\n",
              "<style scoped>\n",
              "    .dataframe tbody tr th:only-of-type {\n",
              "        vertical-align: middle;\n",
              "    }\n",
              "\n",
              "    .dataframe tbody tr th {\n",
              "        vertical-align: top;\n",
              "    }\n",
              "\n",
              "    .dataframe thead th {\n",
              "        text-align: right;\n",
              "    }\n",
              "</style>\n",
              "<table border=\"1\" class=\"dataframe\">\n",
              "  <thead>\n",
              "    <tr style=\"text-align: right;\">\n",
              "      <th></th>\n",
              "      <th>model</th>\n",
              "      <th>year</th>\n",
              "      <th>price</th>\n",
              "      <th>transmission</th>\n",
              "      <th>mileage</th>\n",
              "      <th>fuelType</th>\n",
              "      <th>tax</th>\n",
              "      <th>mpg</th>\n",
              "      <th>engineSize</th>\n",
              "    </tr>\n",
              "  </thead>\n",
              "  <tbody>\n",
              "    <tr>\n",
              "      <th>1213</th>\n",
              "      <td>Ioniq</td>\n",
              "      <td>2018</td>\n",
              "      <td>18970</td>\n",
              "      <td>Automatic</td>\n",
              "      <td>14886</td>\n",
              "      <td>Hybrid</td>\n",
              "      <td>135.0</td>\n",
              "      <td>256.8</td>\n",
              "      <td>1.6</td>\n",
              "    </tr>\n",
              "    <tr>\n",
              "      <th>2088</th>\n",
              "      <td>Ioniq</td>\n",
              "      <td>2019</td>\n",
              "      <td>19995</td>\n",
              "      <td>Automatic</td>\n",
              "      <td>7386</td>\n",
              "      <td>Hybrid</td>\n",
              "      <td>135.0</td>\n",
              "      <td>256.8</td>\n",
              "      <td>1.6</td>\n",
              "    </tr>\n",
              "    <tr>\n",
              "      <th>2215</th>\n",
              "      <td>Ioniq</td>\n",
              "      <td>2018</td>\n",
              "      <td>18999</td>\n",
              "      <td>Automatic</td>\n",
              "      <td>12045</td>\n",
              "      <td>Hybrid</td>\n",
              "      <td>135.0</td>\n",
              "      <td>256.8</td>\n",
              "      <td>1.6</td>\n",
              "    </tr>\n",
              "  </tbody>\n",
              "</table>\n",
              "</div>"
            ],
            "text/plain": [
              "       model  year  price transmission  mileage fuelType    tax    mpg  \\\n",
              "1213   Ioniq  2018  18970    Automatic    14886   Hybrid  135.0  256.8   \n",
              "2088   Ioniq  2019  19995    Automatic     7386   Hybrid  135.0  256.8   \n",
              "2215   Ioniq  2018  18999    Automatic    12045   Hybrid  135.0  256.8   \n",
              "\n",
              "      engineSize  \n",
              "1213         1.6  \n",
              "2088         1.6  \n",
              "2215         1.6  "
            ]
          },
          "execution_count": 48,
          "metadata": {},
          "output_type": "execute_result"
        }
      ],
      "source": [
        "df[(df['model'].str.contains('Ioniq')) & (df['mpg'] == 256.8)]"
      ]
    },
    {
      "cell_type": "code",
      "execution_count": 49,
      "metadata": {
        "colab": {
          "base_uri": "https://localhost:8080/",
          "height": 144
        },
        "id": "5MBOuODNlxXJ",
        "outputId": "b5277f42-8bba-4c11-962f-eeec887f4b28"
      },
      "outputs": [
        {
          "data": {
            "text/html": [
              "<div>\n",
              "<style scoped>\n",
              "    .dataframe tbody tr th:only-of-type {\n",
              "        vertical-align: middle;\n",
              "    }\n",
              "\n",
              "    .dataframe tbody tr th {\n",
              "        vertical-align: top;\n",
              "    }\n",
              "\n",
              "    .dataframe thead th {\n",
              "        text-align: right;\n",
              "    }\n",
              "</style>\n",
              "<table border=\"1\" class=\"dataframe\">\n",
              "  <thead>\n",
              "    <tr style=\"text-align: right;\">\n",
              "      <th></th>\n",
              "      <th>model</th>\n",
              "      <th>year</th>\n",
              "      <th>price</th>\n",
              "      <th>transmission</th>\n",
              "      <th>mileage</th>\n",
              "      <th>fuelType</th>\n",
              "      <th>tax</th>\n",
              "      <th>mpg</th>\n",
              "      <th>engineSize</th>\n",
              "    </tr>\n",
              "  </thead>\n",
              "  <tbody>\n",
              "    <tr>\n",
              "      <th>1213</th>\n",
              "      <td>Ioniq</td>\n",
              "      <td>2018</td>\n",
              "      <td>18970</td>\n",
              "      <td>Automatic</td>\n",
              "      <td>14886</td>\n",
              "      <td>Hybrid</td>\n",
              "      <td>135.0</td>\n",
              "      <td>256.8</td>\n",
              "      <td>1.6</td>\n",
              "    </tr>\n",
              "    <tr>\n",
              "      <th>2088</th>\n",
              "      <td>Ioniq</td>\n",
              "      <td>2019</td>\n",
              "      <td>19995</td>\n",
              "      <td>Automatic</td>\n",
              "      <td>7386</td>\n",
              "      <td>Hybrid</td>\n",
              "      <td>135.0</td>\n",
              "      <td>256.8</td>\n",
              "      <td>1.6</td>\n",
              "    </tr>\n",
              "    <tr>\n",
              "      <th>2215</th>\n",
              "      <td>Ioniq</td>\n",
              "      <td>2018</td>\n",
              "      <td>18999</td>\n",
              "      <td>Automatic</td>\n",
              "      <td>12045</td>\n",
              "      <td>Hybrid</td>\n",
              "      <td>135.0</td>\n",
              "      <td>256.8</td>\n",
              "      <td>1.6</td>\n",
              "    </tr>\n",
              "  </tbody>\n",
              "</table>\n",
              "</div>"
            ],
            "text/plain": [
              "       model  year  price transmission  mileage fuelType    tax    mpg  \\\n",
              "1213   Ioniq  2018  18970    Automatic    14886   Hybrid  135.0  256.8   \n",
              "2088   Ioniq  2019  19995    Automatic     7386   Hybrid  135.0  256.8   \n",
              "2215   Ioniq  2018  18999    Automatic    12045   Hybrid  135.0  256.8   \n",
              "\n",
              "      engineSize  \n",
              "1213         1.6  \n",
              "2088         1.6  \n",
              "2215         1.6  "
            ]
          },
          "execution_count": 49,
          "metadata": {},
          "output_type": "execute_result"
        }
      ],
      "source": [
        "df[(df['model'].str.contains('Ioniq')) & (df['mpg'] == 256.8)]"
      ]
    },
    {
      "cell_type": "code",
      "execution_count": 50,
      "metadata": {
        "colab": {
          "base_uri": "https://localhost:8080/"
        },
        "id": "zFjxrCyFoW6Q",
        "outputId": "10777781-af5d-4571-f934-9e1e49f8ae48"
      },
      "outputs": [
        {
          "data": {
            "text/plain": [
              "1213    256.8\n",
              "2088    256.8\n",
              "2215    256.8\n",
              "Name: mpg, dtype: float64"
            ]
          },
          "execution_count": 50,
          "metadata": {},
          "output_type": "execute_result"
        }
      ],
      "source": [
        "df[(df['model'].str.contains('Ioniq')) & (df['mpg'] == 256.8)]['mpg']"
      ]
    },
    {
      "cell_type": "code",
      "execution_count": 51,
      "metadata": {
        "id": "550mgkhQn4bX"
      },
      "outputs": [],
      "source": [
        "temp_mask = (df['model'].str.contains('Ioniq')) & (df['mpg'] == 256.8)"
      ]
    },
    {
      "cell_type": "code",
      "execution_count": 52,
      "metadata": {
        "id": "Sl23isdFn4Wn"
      },
      "outputs": [],
      "source": [
        "df.loc[temp_mask, 'mpg'] = 78.5"
      ]
    },
    {
      "cell_type": "code",
      "execution_count": 53,
      "metadata": {
        "id": "7vbbtinsn4S_"
      },
      "outputs": [],
      "source": [
        "temp_mask1 = ((df['model'].str.contains('Ioniq')) & (df['mpg'] == 1.1) & (df['year'] == 2019))\n",
        "temp_mask2 = ((df['model'].str.contains('Ioniq')) & (df['mpg'] == 1.1) & (df['year'] == 2020))"
      ]
    },
    {
      "cell_type": "code",
      "execution_count": 54,
      "metadata": {
        "id": "DB_jjMk3owwb"
      },
      "outputs": [],
      "source": [
        "df.loc[temp_mask1, 'mpg'] = 78.5\n",
        "df.loc[temp_mask2, 'mpg'] = 62.8"
      ]
    },
    {
      "cell_type": "code",
      "execution_count": 55,
      "metadata": {
        "colab": {
          "base_uri": "https://localhost:8080/"
        },
        "id": "4CiDptg0m7zg",
        "outputId": "9ac78507-9058-40eb-d2ac-500db7455427"
      },
      "outputs": [
        {
          "data": {
            "text/plain": [
              "60.1    503\n",
              "61.7    383\n",
              "57.6    316\n",
              "78.5    218\n",
              "57.7    200\n",
              "44.1    189\n",
              "34.9    171\n",
              "44.8    157\n",
              "50.4    142\n",
              "46.3    139\n",
              "52.3    132\n",
              "47.9    129\n",
              "58.9    126\n",
              "47.1    109\n",
              "55.4    108\n",
              "56.5    100\n",
              "61.4     92\n",
              "48.7     78\n",
              "36.2     71\n",
              "53.3     71\n",
              "39.2     71\n",
              "62.8     69\n",
              "49.6     65\n",
              "34.0     61\n",
              "43.5     61\n",
              "54.3     60\n",
              "42.8     59\n",
              "41.5     59\n",
              "45.6     57\n",
              "51.4     55\n",
              "39.8     51\n",
              "65.7     50\n",
              "74.3     47\n",
              "37.7     42\n",
              "31.7     41\n",
              "42.2     39\n",
              "35.3     36\n",
              "28.0     32\n",
              "72.4     32\n",
              "67.3     26\n",
              "64.2     23\n",
              "38.7     21\n",
              "33.6     20\n",
              "43.6     17\n",
              "35.8     16\n",
              "68.9     12\n",
              "37.2     10\n",
              "40.4      5\n",
              "78.4      5\n",
              "40.9      4\n",
              "46.0      4\n",
              "34.5      3\n",
              "32.8      2\n",
              "70.6      1\n",
              "38.2      1\n",
              "30.4      1\n",
              "Name: mpg, dtype: int64"
            ]
          },
          "execution_count": 55,
          "metadata": {},
          "output_type": "execute_result"
        }
      ],
      "source": [
        "# 이상치 없음\n",
        "df['mpg'].value_counts()"
      ]
    },
    {
      "cell_type": "markdown",
      "metadata": {
        "id": "0zL8WqPmpz9f"
      },
      "source": [
        "# 6. 범주형 데이터 자료 변환"
      ]
    },
    {
      "cell_type": "markdown",
      "metadata": {
        "id": "SIWcdjc26LGZ"
      },
      "source": [
        "모델에 넣기 위해서는 model, transmission, fuelType의 범주형 데이터를 숫자형 데이터로 변경해주어야 한다. 그 방법으로\n",
        "1. price에 따른 임의의 점수로 변경한다. ex) 가격이 높은 I10을 10으로 가격이 낮은 다른 모델을 0으로 인코딩한다\n",
        "2. one-hot encoding:  fuelType은 총 4가지가 존재하는데 이 fuelType 4가지(manual automatic other semi-auto)로 나눠 각각에 0과 1을 할당한다\n",
        "3. 또는 범주형 데이터를 모델에 사용하지 않을 수 있다.\n",
        "\n",
        "* 이 방법중 1번을 택할 예정이다."
      ]
    },
    {
      "cell_type": "markdown",
      "metadata": {
        "id": "4-iHv16XtHUy"
      },
      "source": [
        "#### 차종(model)"
      ]
    },
    {
      "cell_type": "code",
      "execution_count": 56,
      "metadata": {
        "colab": {
          "base_uri": "https://localhost:8080/",
          "height": 582
        },
        "id": "nTVfZYzdp9tX",
        "outputId": "06129ca0-3e4c-47e2-f1c3-91d4affd35a7"
      },
      "outputs": [
        {
          "data": {
            "text/html": [
              "<div>\n",
              "<style scoped>\n",
              "    .dataframe tbody tr th:only-of-type {\n",
              "        vertical-align: middle;\n",
              "    }\n",
              "\n",
              "    .dataframe tbody tr th {\n",
              "        vertical-align: top;\n",
              "    }\n",
              "\n",
              "    .dataframe thead th {\n",
              "        text-align: right;\n",
              "    }\n",
              "</style>\n",
              "<table border=\"1\" class=\"dataframe\">\n",
              "  <thead>\n",
              "    <tr style=\"text-align: right;\">\n",
              "      <th></th>\n",
              "      <th>price</th>\n",
              "    </tr>\n",
              "    <tr>\n",
              "      <th>model</th>\n",
              "      <th></th>\n",
              "    </tr>\n",
              "  </thead>\n",
              "  <tbody>\n",
              "    <tr>\n",
              "      <th>Santa Fe</th>\n",
              "      <td>24274.440329</td>\n",
              "    </tr>\n",
              "    <tr>\n",
              "      <th>Ioniq</th>\n",
              "      <td>18181.379032</td>\n",
              "    </tr>\n",
              "    <tr>\n",
              "      <th>I800</th>\n",
              "      <td>16663.263158</td>\n",
              "    </tr>\n",
              "    <tr>\n",
              "      <th>Tucson</th>\n",
              "      <td>15769.978740</td>\n",
              "    </tr>\n",
              "    <tr>\n",
              "      <th>Kona</th>\n",
              "      <td>15634.257764</td>\n",
              "    </tr>\n",
              "    <tr>\n",
              "      <th>I30</th>\n",
              "      <td>12550.097902</td>\n",
              "    </tr>\n",
              "    <tr>\n",
              "      <th>I40</th>\n",
              "      <td>10657.714286</td>\n",
              "    </tr>\n",
              "    <tr>\n",
              "      <th>I20</th>\n",
              "      <td>8848.288421</td>\n",
              "    </tr>\n",
              "    <tr>\n",
              "      <th>IX20</th>\n",
              "      <td>8833.731343</td>\n",
              "    </tr>\n",
              "    <tr>\n",
              "      <th>IX35</th>\n",
              "      <td>8265.582609</td>\n",
              "    </tr>\n",
              "    <tr>\n",
              "      <th>I10</th>\n",
              "      <td>7643.043145</td>\n",
              "    </tr>\n",
              "    <tr>\n",
              "      <th>Veloster</th>\n",
              "      <td>7031.666667</td>\n",
              "    </tr>\n",
              "    <tr>\n",
              "      <th>Terracan</th>\n",
              "      <td>3092.500000</td>\n",
              "    </tr>\n",
              "    <tr>\n",
              "      <th>Getz</th>\n",
              "      <td>1927.500000</td>\n",
              "    </tr>\n",
              "    <tr>\n",
              "      <th>Amica</th>\n",
              "      <td>1750.000000</td>\n",
              "    </tr>\n",
              "    <tr>\n",
              "      <th>Accent</th>\n",
              "      <td>1295.000000</td>\n",
              "    </tr>\n",
              "  </tbody>\n",
              "</table>\n",
              "</div>"
            ],
            "text/plain": [
              "                  price\n",
              "model                  \n",
              " Santa Fe  24274.440329\n",
              " Ioniq     18181.379032\n",
              " I800      16663.263158\n",
              " Tucson    15769.978740\n",
              " Kona      15634.257764\n",
              " I30       12550.097902\n",
              " I40       10657.714286\n",
              " I20        8848.288421\n",
              " IX20       8833.731343\n",
              " IX35       8265.582609\n",
              " I10        7643.043145\n",
              " Veloster   7031.666667\n",
              " Terracan   3092.500000\n",
              " Getz       1927.500000\n",
              " Amica      1750.000000\n",
              " Accent     1295.000000"
            ]
          },
          "execution_count": 56,
          "metadata": {},
          "output_type": "execute_result"
        }
      ],
      "source": [
        "# 차종 평균 가격대에 따른 변환\n",
        "df.groupby('model')['price'].mean().to_frame('price').sort_values(by='price', ascending=False)"
      ]
    },
    {
      "cell_type": "code",
      "execution_count": 57,
      "metadata": {
        "colab": {
          "base_uri": "https://localhost:8080/"
        },
        "id": "QQ4QONaLGoLD",
        "outputId": "ad28a16c-c5d3-496f-cecc-ff39b375686d"
      },
      "outputs": [
        {
          "name": "stdout",
          "output_type": "stream",
          "text": [
            " I20\n"
          ]
        }
      ],
      "source": [
        "print(df['model'][0])"
      ]
    },
    {
      "cell_type": "code",
      "execution_count": 58,
      "metadata": {
        "id": "1Rg4w0dUsaNp"
      },
      "outputs": [],
      "source": [
        "# 모델명 앞 공백 지워주기\n",
        "model_name = []\n",
        "for i in df['model']:\n",
        "    model_name.append(i.strip())"
      ]
    },
    {
      "cell_type": "code",
      "execution_count": 59,
      "metadata": {
        "id": "I8IN3ZO2saFK"
      },
      "outputs": [],
      "source": [
        "df = df.assign(model=model_name)"
      ]
    },
    {
      "cell_type": "code",
      "execution_count": 60,
      "metadata": {
        "colab": {
          "base_uri": "https://localhost:8080/"
        },
        "id": "t-8Flw4RsZ_j",
        "outputId": "c0758979-d5b6-48d7-db64-989508d6b27f"
      },
      "outputs": [
        {
          "data": {
            "text/plain": [
              "0            I20\n",
              "1         Tucson\n",
              "2         Tucson\n",
              "3            I10\n",
              "4           IX35\n",
              "          ...   \n",
              "4854    Santa Fe\n",
              "4856         I40\n",
              "4857         I10\n",
              "4858      Tucson\n",
              "4859      Tucson\n",
              "Name: model, Length: 4592, dtype: object"
            ]
          },
          "execution_count": 60,
          "metadata": {},
          "output_type": "execute_result"
        }
      ],
      "source": [
        "df['model']"
      ]
    },
    {
      "cell_type": "markdown",
      "metadata": {
        "id": "ZlgOpVbntYeM"
      },
      "source": [
        "차종의 평균가격이 높은 순으로 15에서 1씩 낮춰서 점수 할당"
      ]
    },
    {
      "cell_type": "code",
      "execution_count": 61,
      "metadata": {
        "colab": {
          "base_uri": "https://localhost:8080/"
        },
        "id": "cbKSfPX1p9q3",
        "outputId": "0ca45957-5e33-433c-daa2-ae69a1626c79"
      },
      "outputs": [
        {
          "data": {
            "text/plain": [
              "0        7\n",
              "1       12\n",
              "2       12\n",
              "3        5\n",
              "4        6\n",
              "        ..\n",
              "4854    15\n",
              "4856     9\n",
              "4857     5\n",
              "4858    12\n",
              "4859    12\n",
              "Name: model, Length: 4592, dtype: int64"
            ]
          },
          "execution_count": 61,
          "metadata": {},
          "output_type": "execute_result"
        }
      ],
      "source": [
        "df['model'] = df['model'].map({'Santa Fe':15, 'Ioniq':14, 'I800':13, 'Tucson':12, 'Kona':11, 'I30':10, 'I40':9, 'IX20':8,\n",
        "                                         'I20':7, 'IX35':6, 'I10':5, 'Veloster':4, 'Terracan':3, 'Getz':2, 'Amica':1, 'Accent':0})\n",
        "\n",
        "df['model']"
      ]
    },
    {
      "cell_type": "markdown",
      "metadata": {
        "id": "24yk6Whep9j2"
      },
      "source": [
        "#### 변속기(transmission)"
      ]
    },
    {
      "cell_type": "markdown",
      "metadata": {
        "id": "arKdrsITth0Z"
      },
      "source": [
        "변속기에 따른 평균가격이 높은 순으로 3에서 1씩 낮춰서 점수 할당"
      ]
    },
    {
      "cell_type": "code",
      "execution_count": 62,
      "metadata": {
        "colab": {
          "base_uri": "https://localhost:8080/",
          "height": 206
        },
        "id": "N0nmlYLrp9hh",
        "outputId": "1e17ef49-a6ee-43bc-c269-552774c1fa37"
      },
      "outputs": [
        {
          "data": {
            "text/html": [
              "<div>\n",
              "<style scoped>\n",
              "    .dataframe tbody tr th:only-of-type {\n",
              "        vertical-align: middle;\n",
              "    }\n",
              "\n",
              "    .dataframe tbody tr th {\n",
              "        vertical-align: top;\n",
              "    }\n",
              "\n",
              "    .dataframe thead th {\n",
              "        text-align: right;\n",
              "    }\n",
              "</style>\n",
              "<table border=\"1\" class=\"dataframe\">\n",
              "  <thead>\n",
              "    <tr style=\"text-align: right;\">\n",
              "      <th></th>\n",
              "      <th>price</th>\n",
              "    </tr>\n",
              "    <tr>\n",
              "      <th>transmission</th>\n",
              "      <th></th>\n",
              "    </tr>\n",
              "  </thead>\n",
              "  <tbody>\n",
              "    <tr>\n",
              "      <th>Semi-Auto</th>\n",
              "      <td>19071.190813</td>\n",
              "    </tr>\n",
              "    <tr>\n",
              "      <th>Other</th>\n",
              "      <td>16995.000000</td>\n",
              "    </tr>\n",
              "    <tr>\n",
              "      <th>Automatic</th>\n",
              "      <td>16244.019108</td>\n",
              "    </tr>\n",
              "    <tr>\n",
              "      <th>Manual</th>\n",
              "      <td>11172.139241</td>\n",
              "    </tr>\n",
              "  </tbody>\n",
              "</table>\n",
              "</div>"
            ],
            "text/plain": [
              "                     price\n",
              "transmission              \n",
              "Semi-Auto     19071.190813\n",
              "Other         16995.000000\n",
              "Automatic     16244.019108\n",
              "Manual        11172.139241"
            ]
          },
          "execution_count": 62,
          "metadata": {},
          "output_type": "execute_result"
        }
      ],
      "source": [
        "df.groupby('transmission')['price'].mean().to_frame('price').sort_values(by='price', ascending=False)"
      ]
    },
    {
      "cell_type": "code",
      "execution_count": 63,
      "metadata": {
        "id": "tda1_f9cp9ep"
      },
      "outputs": [],
      "source": [
        "df['transmission'] = df['transmission'].map({'Semi-Auto':3, 'Automatic':2, 'Other':1, 'Manual':0})"
      ]
    },
    {
      "cell_type": "markdown",
      "metadata": {
        "id": "Spk3l3KCtq9g"
      },
      "source": [
        "#### 연료타입(fuelType)"
      ]
    },
    {
      "cell_type": "markdown",
      "metadata": {
        "id": "o9YJcgiMtvFK"
      },
      "source": [
        "연료타입에 따른 평균가격이 높은 순으로 3에서 1씩 낮춰서 점수 할당"
      ]
    },
    {
      "cell_type": "code",
      "execution_count": 64,
      "metadata": {
        "colab": {
          "base_uri": "https://localhost:8080/",
          "height": 206
        },
        "id": "9xDjop-8p9bh",
        "outputId": "d8b116e0-b757-490f-c4eb-4817685dd9ff"
      },
      "outputs": [
        {
          "data": {
            "text/html": [
              "<div>\n",
              "<style scoped>\n",
              "    .dataframe tbody tr th:only-of-type {\n",
              "        vertical-align: middle;\n",
              "    }\n",
              "\n",
              "    .dataframe tbody tr th {\n",
              "        vertical-align: top;\n",
              "    }\n",
              "\n",
              "    .dataframe thead th {\n",
              "        text-align: right;\n",
              "    }\n",
              "</style>\n",
              "<table border=\"1\" class=\"dataframe\">\n",
              "  <thead>\n",
              "    <tr style=\"text-align: right;\">\n",
              "      <th></th>\n",
              "      <th>price</th>\n",
              "    </tr>\n",
              "    <tr>\n",
              "      <th>fuelType</th>\n",
              "      <th></th>\n",
              "    </tr>\n",
              "  </thead>\n",
              "  <tbody>\n",
              "    <tr>\n",
              "      <th>Hybrid</th>\n",
              "      <td>19456.118211</td>\n",
              "    </tr>\n",
              "    <tr>\n",
              "      <th>Diesel</th>\n",
              "      <td>15084.049458</td>\n",
              "    </tr>\n",
              "    <tr>\n",
              "      <th>Other</th>\n",
              "      <td>12800.000000</td>\n",
              "    </tr>\n",
              "    <tr>\n",
              "      <th>Petrol</th>\n",
              "      <td>10919.938615</td>\n",
              "    </tr>\n",
              "  </tbody>\n",
              "</table>\n",
              "</div>"
            ],
            "text/plain": [
              "                 price\n",
              "fuelType              \n",
              "Hybrid    19456.118211\n",
              "Diesel    15084.049458\n",
              "Other     12800.000000\n",
              "Petrol    10919.938615"
            ]
          },
          "execution_count": 64,
          "metadata": {},
          "output_type": "execute_result"
        }
      ],
      "source": [
        "df.groupby('fuelType')['price'].mean().to_frame('price').sort_values(by='price', ascending=False)"
      ]
    },
    {
      "cell_type": "code",
      "execution_count": 65,
      "metadata": {
        "id": "BvtTreBqtzbW"
      },
      "outputs": [],
      "source": [
        "df['fuelType'] = df['fuelType'].map({'Hybrid':3, 'Diesel':2, 'Other':1, 'Petrol':0})"
      ]
    },
    {
      "cell_type": "code",
      "execution_count": 66,
      "metadata": {
        "colab": {
          "base_uri": "https://localhost:8080/",
          "height": 424
        },
        "id": "j00wzWp_tzXI",
        "outputId": "ecea0614-3739-430e-e18e-6253bf3cc243"
      },
      "outputs": [
        {
          "data": {
            "text/html": [
              "<div>\n",
              "<style scoped>\n",
              "    .dataframe tbody tr th:only-of-type {\n",
              "        vertical-align: middle;\n",
              "    }\n",
              "\n",
              "    .dataframe tbody tr th {\n",
              "        vertical-align: top;\n",
              "    }\n",
              "\n",
              "    .dataframe thead th {\n",
              "        text-align: right;\n",
              "    }\n",
              "</style>\n",
              "<table border=\"1\" class=\"dataframe\">\n",
              "  <thead>\n",
              "    <tr style=\"text-align: right;\">\n",
              "      <th></th>\n",
              "      <th>model</th>\n",
              "      <th>year</th>\n",
              "      <th>price</th>\n",
              "      <th>transmission</th>\n",
              "      <th>mileage</th>\n",
              "      <th>fuelType</th>\n",
              "      <th>tax</th>\n",
              "      <th>mpg</th>\n",
              "      <th>engineSize</th>\n",
              "    </tr>\n",
              "  </thead>\n",
              "  <tbody>\n",
              "    <tr>\n",
              "      <th>0</th>\n",
              "      <td>7</td>\n",
              "      <td>2017</td>\n",
              "      <td>7999</td>\n",
              "      <td>0</td>\n",
              "      <td>17307</td>\n",
              "      <td>0</td>\n",
              "      <td>145.0</td>\n",
              "      <td>58.9</td>\n",
              "      <td>1.2</td>\n",
              "    </tr>\n",
              "    <tr>\n",
              "      <th>1</th>\n",
              "      <td>12</td>\n",
              "      <td>2016</td>\n",
              "      <td>14499</td>\n",
              "      <td>2</td>\n",
              "      <td>25233</td>\n",
              "      <td>2</td>\n",
              "      <td>235.0</td>\n",
              "      <td>43.5</td>\n",
              "      <td>2.0</td>\n",
              "    </tr>\n",
              "    <tr>\n",
              "      <th>2</th>\n",
              "      <td>12</td>\n",
              "      <td>2016</td>\n",
              "      <td>11399</td>\n",
              "      <td>0</td>\n",
              "      <td>37877</td>\n",
              "      <td>2</td>\n",
              "      <td>30.0</td>\n",
              "      <td>61.7</td>\n",
              "      <td>1.7</td>\n",
              "    </tr>\n",
              "    <tr>\n",
              "      <th>3</th>\n",
              "      <td>5</td>\n",
              "      <td>2016</td>\n",
              "      <td>6499</td>\n",
              "      <td>0</td>\n",
              "      <td>23789</td>\n",
              "      <td>0</td>\n",
              "      <td>20.0</td>\n",
              "      <td>60.1</td>\n",
              "      <td>1.0</td>\n",
              "    </tr>\n",
              "    <tr>\n",
              "      <th>4</th>\n",
              "      <td>6</td>\n",
              "      <td>2015</td>\n",
              "      <td>10199</td>\n",
              "      <td>0</td>\n",
              "      <td>33177</td>\n",
              "      <td>2</td>\n",
              "      <td>160.0</td>\n",
              "      <td>51.4</td>\n",
              "      <td>2.0</td>\n",
              "    </tr>\n",
              "    <tr>\n",
              "      <th>...</th>\n",
              "      <td>...</td>\n",
              "      <td>...</td>\n",
              "      <td>...</td>\n",
              "      <td>...</td>\n",
              "      <td>...</td>\n",
              "      <td>...</td>\n",
              "      <td>...</td>\n",
              "      <td>...</td>\n",
              "      <td>...</td>\n",
              "    </tr>\n",
              "    <tr>\n",
              "      <th>4854</th>\n",
              "      <td>15</td>\n",
              "      <td>2019</td>\n",
              "      <td>29995</td>\n",
              "      <td>3</td>\n",
              "      <td>1567</td>\n",
              "      <td>2</td>\n",
              "      <td>145.0</td>\n",
              "      <td>39.8</td>\n",
              "      <td>2.2</td>\n",
              "    </tr>\n",
              "    <tr>\n",
              "      <th>4856</th>\n",
              "      <td>9</td>\n",
              "      <td>2015</td>\n",
              "      <td>7830</td>\n",
              "      <td>0</td>\n",
              "      <td>59508</td>\n",
              "      <td>2</td>\n",
              "      <td>30.0</td>\n",
              "      <td>65.7</td>\n",
              "      <td>1.7</td>\n",
              "    </tr>\n",
              "    <tr>\n",
              "      <th>4857</th>\n",
              "      <td>5</td>\n",
              "      <td>2017</td>\n",
              "      <td>6830</td>\n",
              "      <td>0</td>\n",
              "      <td>13810</td>\n",
              "      <td>0</td>\n",
              "      <td>20.0</td>\n",
              "      <td>60.1</td>\n",
              "      <td>1.0</td>\n",
              "    </tr>\n",
              "    <tr>\n",
              "      <th>4858</th>\n",
              "      <td>12</td>\n",
              "      <td>2018</td>\n",
              "      <td>13994</td>\n",
              "      <td>0</td>\n",
              "      <td>23313</td>\n",
              "      <td>0</td>\n",
              "      <td>145.0</td>\n",
              "      <td>44.8</td>\n",
              "      <td>1.6</td>\n",
              "    </tr>\n",
              "    <tr>\n",
              "      <th>4859</th>\n",
              "      <td>12</td>\n",
              "      <td>2016</td>\n",
              "      <td>15999</td>\n",
              "      <td>2</td>\n",
              "      <td>11472</td>\n",
              "      <td>2</td>\n",
              "      <td>125.0</td>\n",
              "      <td>57.6</td>\n",
              "      <td>1.7</td>\n",
              "    </tr>\n",
              "  </tbody>\n",
              "</table>\n",
              "<p>4592 rows × 9 columns</p>\n",
              "</div>"
            ],
            "text/plain": [
              "      model  year  price  transmission  mileage  fuelType    tax   mpg  \\\n",
              "0         7  2017   7999             0    17307         0  145.0  58.9   \n",
              "1        12  2016  14499             2    25233         2  235.0  43.5   \n",
              "2        12  2016  11399             0    37877         2   30.0  61.7   \n",
              "3         5  2016   6499             0    23789         0   20.0  60.1   \n",
              "4         6  2015  10199             0    33177         2  160.0  51.4   \n",
              "...     ...   ...    ...           ...      ...       ...    ...   ...   \n",
              "4854     15  2019  29995             3     1567         2  145.0  39.8   \n",
              "4856      9  2015   7830             0    59508         2   30.0  65.7   \n",
              "4857      5  2017   6830             0    13810         0   20.0  60.1   \n",
              "4858     12  2018  13994             0    23313         0  145.0  44.8   \n",
              "4859     12  2016  15999             2    11472         2  125.0  57.6   \n",
              "\n",
              "      engineSize  \n",
              "0            1.2  \n",
              "1            2.0  \n",
              "2            1.7  \n",
              "3            1.0  \n",
              "4            2.0  \n",
              "...          ...  \n",
              "4854         2.2  \n",
              "4856         1.7  \n",
              "4857         1.0  \n",
              "4858         1.6  \n",
              "4859         1.7  \n",
              "\n",
              "[4592 rows x 9 columns]"
            ]
          },
          "execution_count": 66,
          "metadata": {},
          "output_type": "execute_result"
        }
      ],
      "source": [
        "df"
      ]
    },
    {
      "cell_type": "code",
      "execution_count": 67,
      "metadata": {
        "id": "endHUUof6bjU"
      },
      "outputs": [],
      "source": [
        "# 다음 학습을 위해 전처리 진행한 데이터 저장\n",
        "df.to_csv('hyundi_preprocessed.csv')"
      ]
    },
    {
      "cell_type": "code",
      "execution_count": null,
      "metadata": {},
      "outputs": [],
      "source": []
    }
  ],
  "metadata": {
    "colab": {
      "provenance": []
    },
    "kernelspec": {
      "display_name": "Python 3",
      "name": "python3"
    },
    "language_info": {
      "codemirror_mode": {
        "name": "ipython",
        "version": 3
      },
      "file_extension": ".py",
      "mimetype": "text/x-python",
      "name": "python",
      "nbconvert_exporter": "python",
      "pygments_lexer": "ipython3",
      "version": "3.9.7"
    }
  },
  "nbformat": 4,
  "nbformat_minor": 0
}
