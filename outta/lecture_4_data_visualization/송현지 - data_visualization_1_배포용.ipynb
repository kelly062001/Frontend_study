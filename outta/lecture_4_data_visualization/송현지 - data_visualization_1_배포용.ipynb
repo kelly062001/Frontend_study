{
 "cells": [
  {
   "cell_type": "markdown",
   "id": "46c51ec9",
   "metadata": {},
   "source": [
    "# matplotlib"
   ]
  },
  {
   "cell_type": "markdown",
   "id": "879f41f3",
   "metadata": {},
   "source": [
    "**matplotlib**란?\n",
    "\n",
    "- 파이썬에서 데이터를 2-D 차트(chart)나 플롯(plot)으로 그려주는 파이썬 라이브러리로 가장 많이 사용하는 데이타 시각화(Data Visualization) 툴이다.\n",
    "- 선 그래프, 막대 그래프, 원 그래프, 히스토그램, 박스 그래프, 산점도 등을 포함한 다양한 차트와 플롯 스타일을 지원한다. \n",
    "- [matplotlib.org](https://matplotlib.org)의 [갤러리 웹페이지](https://matplotlib.org/stable/gallery/index.html)에서 다양한 샘플 도표를 볼 수 있다."
   ]
  },
  {
   "cell_type": "markdown",
   "id": "c76fab41",
   "metadata": {},
   "source": [
    "# matplotlib 설치 및 불러오기"
   ]
  },
  {
   "cell_type": "code",
   "execution_count": 1,
   "id": "65bd232c",
   "metadata": {},
   "outputs": [
    {
     "name": "stdout",
     "output_type": "stream",
     "text": [
      "Requirement already satisfied: matplotlib in c:\\programdata\\anaconda3\\lib\\site-packages (3.4.3)\n",
      "Collecting matplotlib\n",
      "  Downloading matplotlib-3.7.2-cp39-cp39-win_amd64.whl (7.5 MB)\n",
      "Requirement already satisfied: numpy in c:\\programdata\\anaconda3\\lib\\site-packages (1.20.3)\n",
      "Collecting numpy\n",
      "  Downloading numpy-1.25.1-cp39-cp39-win_amd64.whl (15.1 MB)\n",
      "Requirement already satisfied: seaborn in c:\\programdata\\anaconda3\\lib\\site-packages (0.11.2)\n",
      "Collecting seaborn\n",
      "  Downloading seaborn-0.12.2-py3-none-any.whl (293 kB)\n",
      "Requirement already satisfied: python-dateutil>=2.7 in c:\\programdata\\anaconda3\\lib\\site-packages (from matplotlib) (2.8.2)"
     ]
    },
    {
     "name": "stderr",
     "output_type": "stream",
     "text": [
      "ERROR: Could not install packages due to an OSError: [WinError 5] 액세스가 거부되었습니다: 'c:\\\\programdata\\\\anaconda3\\\\lib\\\\site-packages\\\\numpy-1.20.3.dist-info\\\\direct_url.json'\n",
      "Consider using the `--user` option or check the permissions.\n",
      "\n"
     ]
    },
    {
     "name": "stdout",
     "output_type": "stream",
     "text": [
      "\n",
      "Requirement already satisfied: cycler>=0.10 in c:\\programdata\\anaconda3\\lib\\site-packages (from matplotlib) (0.10.0)\n",
      "Requirement already satisfied: kiwisolver>=1.0.1 in c:\\programdata\\anaconda3\\lib\\site-packages (from matplotlib) (1.3.1)\n",
      "Collecting contourpy>=1.0.1\n",
      "  Downloading contourpy-1.1.0-cp39-cp39-win_amd64.whl (429 kB)\n",
      "Requirement already satisfied: pillow>=6.2.0 in c:\\programdata\\anaconda3\\lib\\site-packages (from matplotlib) (8.4.0)\n",
      "Collecting importlib-resources>=3.2.0\n",
      "  Downloading importlib_resources-6.0.0-py3-none-any.whl (31 kB)\n",
      "Requirement already satisfied: packaging>=20.0 in c:\\programdata\\anaconda3\\lib\\site-packages (from matplotlib) (21.0)\n",
      "Requirement already satisfied: fonttools>=4.22.0 in c:\\programdata\\anaconda3\\lib\\site-packages (from matplotlib) (4.25.0)\n",
      "Requirement already satisfied: pyparsing<3.1,>=2.3.1 in c:\\programdata\\anaconda3\\lib\\site-packages (from matplotlib) (3.0.4)\n",
      "Requirement already satisfied: pandas>=0.25 in c:\\programdata\\anaconda3\\lib\\site-packages (from seaborn) (1.3.4)\n",
      "Requirement already satisfied: six in c:\\programdata\\anaconda3\\lib\\site-packages (from cycler>=0.10->matplotlib) (1.16.0)\n",
      "Requirement already satisfied: zipp>=3.1.0 in c:\\programdata\\anaconda3\\lib\\site-packages (from importlib-resources>=3.2.0->matplotlib) (3.6.0)\n",
      "Requirement already satisfied: pytz>=2017.3 in c:\\programdata\\anaconda3\\lib\\site-packages (from pandas>=0.25->seaborn) (2021.3)\n",
      "Installing collected packages: numpy, importlib-resources, contourpy, matplotlib, seaborn\n",
      "  Attempting uninstall: numpy\n",
      "    Found existing installation: numpy 1.20.3\n",
      "    Uninstalling numpy-1.20.3:\n"
     ]
    }
   ],
   "source": [
    "!python -m pip install --upgrade matplotlib numpy seaborn\n",
    "# !pip install --upgrade matplotlib numpy seaborn"
   ]
  },
  {
   "cell_type": "code",
   "execution_count": 2,
   "id": "42c3e5ea",
   "metadata": {},
   "outputs": [
    {
     "name": "stdout",
     "output_type": "stream",
     "text": [
      "Matplotlib version... 3.4.3\n",
      "NumPy version........ 1.20.3\n",
      "Seaborn version........ 0.11.2\n"
     ]
    }
   ],
   "source": [
    "# 버전 확인하기\n",
    "import matplotlib, numpy, seaborn\n",
    "print('Matplotlib version...', matplotlib.__version__)\n",
    "print('NumPy version........', numpy.__version__)\n",
    "print('Seaborn version........', seaborn.__version__)"
   ]
  },
  {
   "cell_type": "code",
   "execution_count": 3,
   "id": "dd756cea",
   "metadata": {},
   "outputs": [],
   "source": [
    "import numpy as np\n",
    "from matplotlib import pyplot as plt\n",
    "import seaborn as sns"
   ]
  },
  {
   "cell_type": "code",
   "execution_count": 5,
   "id": "fd81910a",
   "metadata": {},
   "outputs": [],
   "source": [
    "# for Jupyter notebook # 한글폰트 설치\n",
    "import platform                \n",
    "\n",
    "from matplotlib import font_manager, rc\n",
    "plt.rcParams['axes.unicode_minus']= False\n",
    "\n",
    "if platform.system() == 'Darwin': # 맥os 사용자의 경우에\n",
    "    rc('font', family = 'AppleGothic')\n",
    "    \n",
    "elif platform.system() == 'Windows': # 윈도우 사용자의 경우에\n",
    "    path = 'c:/Windows/Fonts/malgun.ttf'\n",
    "    font_name = font_manager.FontProperties(fname=path).get_name()\n",
    "    rc('font', family=font_name)"
   ]
  },
  {
   "cell_type": "markdown",
   "id": "32afcba0",
   "metadata": {},
   "source": [
    "# 기본 도표 작성하기"
   ]
  },
  {
   "cell_type": "markdown",
   "id": "f8bcf324",
   "metadata": {},
   "source": [
    "선 그래프는 연속적인 직선이나 곡선으로 데이터 사이의 관계를 나타내는 도표다.\n",
    "\n",
    "선 그래프를 그리기 위해서는 matplotlib.pyplot의 **plot(*x, y*)** 를 사용한다. \n",
    "- ***x***, ***y*** 는 각각 **x**축과 **y**축이 된다.\n",
    "\n",
    "[matplotlib.pyplot.plot](https://matplotlib.org/api/_as_gen/matplotlib.pyplot.plot.html#matplotlib.pyplot.plot)\n",
    "- Plot ***y*** versus ***x*** as lines and/or markers.\n",
    "- matplotlib.pyplot.**plot**(_\\*args, scalex=True, scaley=True, data=None, \\**kwargs_)\n",
    "    - By default, each line is assigned a different style specified by a 'style cycle'. The ***fmt*** and line property parameters are only necessary if you want explicit deviations from these defaults. Alternatively, you can also change the style cycle using the 'axes.prop_cycle' rcParam."
   ]
  },
  {
   "cell_type": "code",
   "execution_count": 6,
   "id": "5b558989",
   "metadata": {},
   "outputs": [
    {
     "data": {
      "image/png": "[encoded data removed]",
      "text/plain": [
       "<Figure size 432x288 with 1 Axes>"
      ]
     },
     "metadata": {
      "needs_background": "light"
     },
     "output_type": "display_data"
    }
   ],
   "source": [
    "# x 축은 1, 2, 3이고 y 축은 110, 130, 120인 선 그래프\n",
    "plt.plot([1, 2, 3], [110, 130, 120])\n",
    "plt.show();"
   ]
  },
  {
   "cell_type": "code",
   "execution_count": 7,
   "id": "a9c3c246",
   "metadata": {},
   "outputs": [
    {
     "data": {
      "image/png": "[encoded data removed]",
      "text/plain": [
       "<Figure size 432x288 with 1 Axes>"
      ]
     },
     "metadata": {
      "needs_background": "light"
     },
     "output_type": "display_data"
    }
   ],
   "source": [
    "# x 축은 1, 2, ... 9이고 y 축은 x * 3인 선 그래프\n",
    "x = numpy.arange(1,10)\n",
    "y = x * 3\n",
    "\n",
    "plt.plot(x, y)\n",
    "plt.show();"
   ]
  },
  {
   "cell_type": "markdown",
   "id": "636d071a",
   "metadata": {},
   "source": [
    "# 그래프의 여러 요소 변경"
   ]
  },
  {
   "cell_type": "markdown",
   "id": "ea3b4c32",
   "metadata": {},
   "source": [
    "## 선의 색상 변경"
   ]
  },
  {
   "cell_type": "markdown",
   "id": "883a95ab",
   "metadata": {},
   "source": [
    "기본 색상은 파란색이지만 다른 색상으로 변경할 수 있다.\n",
    "- matplotlib.pyplot의 **plot** 메소드 세 번째 전달인자로 컬러 색상을 지정할 수 있다.\n",
    "- 예) plot(x, y, **'r'**)은 색상을 빨강색으로 변경한다.\n",
    "- 이외 다른 색상은 아래 링크에서 확인할 수 있다.\n",
    "    + https://matplotlib.org/3.1.0/gallery/color/named_colors.html"
   ]
  },
  {
   "cell_type": "code",
   "execution_count": 12,
   "id": "3fe378e6",
   "metadata": {},
   "outputs": [
    {
     "data": {
      "image/png": "[encoded data removed]",
      "text/plain": [
       "<Figure size 432x288 with 1 Axes>"
      ]
     },
     "metadata": {
      "needs_background": "light"
     },
     "output_type": "display_data"
    }
   ],
   "source": [
    "# 선 색이 빨간색(red)인 선 그래프\n",
    "x = numpy.arange(1, 10)\n",
    "y = x * 3\n",
    "\n",
    "## type your code ##\n",
    "plt.plot(x, y, 'r')\n",
    "\n",
    "plt.show();"
   ]
  },
  {
   "cell_type": "markdown",
   "id": "e89b9b85",
   "metadata": {},
   "source": [
    "## 선 마커 변경"
   ]
  },
  {
   "cell_type": "markdown",
   "id": "45ef07c9",
   "metadata": {},
   "source": [
    "기본 선은 직선이지만 마커(marker)를 설정해 데이터의 위치를 표시할 수 있다.\n",
    "- 앞서 색상을 변경한 것과 같이 **plot()** 의 세 번째 전달인자로 마커의 종류를 지정해주면 된다.\n",
    "- 색상과 마커의 종류를 같이 지정하기 위해서는 세 번째 전달인자로 마커의 종류 다음에 색상을 지정해주면 된다.\n",
    "- 예) plot(x, y, **'og'**)는 선 모양을 원으로 색깔을 초록색으로 변경한다.\n",
    "- 이외 다른 선 모양의 마커는 아래 링크에서 확인할 수 있다.\n",
    "    + https://matplotlib.org/3.1.1/api/markers_api.html"
   ]
  },
  {
   "cell_type": "code",
   "execution_count": 13,
   "id": "97f5f2eb",
   "metadata": {},
   "outputs": [
    {
     "data": {
      "image/png": "[encoded data removed]",
      "text/plain": [
       "<Figure size 432x288 with 1 Axes>"
      ]
     },
     "metadata": {
      "needs_background": "light"
     },
     "output_type": "display_data"
    }
   ],
   "source": [
    "# 마커가 원형(circle)이고 색깔이 초록색(green)인 선 그래프\n",
    "x = numpy.arange(1, 10)\n",
    "y = x * 3\n",
    "\n",
    "## type your code ##\n",
    "plt.plot(x,y,'og') \n",
    "plt.show();"
   ]
  },
  {
   "cell_type": "markdown",
   "id": "2e97a6bf",
   "metadata": {},
   "source": [
    "## 선 스타일 변경"
   ]
  },
  {
   "cell_type": "markdown",
   "id": "632f39f4",
   "metadata": {},
   "source": [
    "선 스타일에는 실선(solid), 대시선(dashed), 점선(dotted), 대시-점선(dash-dit) 이 있다. \n",
    "- 지정 문자열은 다음과 같다.\n",
    "\n",
    "| 선 스타일 문자열 | 의미 |\n",
    "|-|-|\n",
    "| **-** |  solid line style\n",
    "| **--** |  dashed line style\n",
    "| **-.** |  dash-dot line style\n",
    "| **:** |  dotted line style"
   ]
  },
  {
   "cell_type": "code",
   "execution_count": 16,
   "id": "6fd2dbe3",
   "metadata": {},
   "outputs": [
    {
     "data": {
      "image/png": "[encoded data removed]",
      "text/plain": [
       "<Figure size 432x288 with 1 Axes>"
      ]
     },
     "metadata": {
      "needs_background": "light"
     },
     "output_type": "display_data"
    }
   ],
   "source": [
    "# 마커가 원형(circle)이고 색깔이 빨간색(red)이고 선 스타일이 dotted line style인 선 그래프\n",
    "x = numpy.arange(1, 10)\n",
    "y = x * 3\n",
    "\n",
    "## type your code ##\n",
    "plt.plot(x,y,'or:')\n",
    "plt.show();"
   ]
  },
  {
   "cell_type": "code",
   "execution_count": 17,
   "id": "136c45a8",
   "metadata": {},
   "outputs": [
    {
     "data": {
      "image/png": "[encoded data removed]",
      "text/plain": [
       "<Figure size 432x288 with 1 Axes>"
      ]
     },
     "metadata": {
      "needs_background": "light"
     },
     "output_type": "display_data"
    }
   ],
   "source": [
    "# 다양한 조작\n",
    "# 파라미터를 변경해가며 그래프를 확인해보세요!\n",
    "x = numpy.arange(1, 10)\n",
    "y = x * 3\n",
    "\n",
    "plt.plot(x, y, c='b', lw=2, ls=':', \n",
    "            marker='s', ms=10, mec='r', mew=3, mfc='c')\n",
    "plt.show();"
   ]
  },
  {
   "cell_type": "markdown",
   "id": "a9339d4c",
   "metadata": {},
   "source": [
    "## 제목 및 라벨"
   ]
  },
  {
   "cell_type": "markdown",
   "id": "780a47ce",
   "metadata": {},
   "source": [
    "도표의 제목이나 X, Y 축 라벨을 붙이려면 **title**('제목'), **xlabel**('x축이름'), **ylabel**('y축이름')을 사용한다."
   ]
  },
  {
   "cell_type": "code",
   "execution_count": 20,
   "id": "44b6c213",
   "metadata": {},
   "outputs": [
    {
     "data": {
      "image/png": "[encoded data removed]",
      "text/plain": [
       "<Figure size 432x288 with 1 Axes>"
      ]
     },
     "metadata": {
      "needs_background": "light"
     },
     "output_type": "display_data"
    }
   ],
   "source": [
    "x = ['Q1', 'Q2', 'Q3', 'Q4']\n",
    "y = [70000000, 77000000, 83000000, 81000000]\n",
    "\n",
    "# title, xlabel, ylabel 설정\n",
    "## type your code ##\n",
    "plt.title('Report')\n",
    "plt.xlabel('Quarter')\n",
    "plt.ylabel('Sales')\n",
    "\n",
    "plt.plot(x,y)\n",
    "plt.show();"
   ]
  },
  {
   "cell_type": "markdown",
   "id": "5167760c",
   "metadata": {},
   "source": [
    "## 도표 구간의 확대 및 축소"
   ]
  },
  {
   "cell_type": "markdown",
   "id": "5b70848d",
   "metadata": {},
   "source": [
    "도표는 입력한 *x*, *y* 값의 최소부터 최대의 구간으로 지정된다. 이 구간을 키우거나 줄이려면 *x*, *y*의 구간을 따로 지정하면 된다.\n",
    "- *x* 축은 **xlim**(최소, 최대), *y* 축은 **ylim**(최소, 최대)을 사용한다."
   ]
  },
  {
   "cell_type": "code",
   "execution_count": 19,
   "id": "e4ff77a4",
   "metadata": {},
   "outputs": [
    {
     "data": {
      "image/png": "[encoded data removed]",
      "text/plain": [
       "<Figure size 432x288 with 1 Axes>"
      ]
     },
     "metadata": {
      "needs_background": "light"
     },
     "output_type": "display_data"
    }
   ],
   "source": [
    "# 기본 구간\n",
    "x = numpy.arange(1, 10)\n",
    "y = x ** 2\n",
    "\n",
    "plt.plot(x, y)\n",
    "plt.show();"
   ]
  },
  {
   "cell_type": "code",
   "execution_count": 24,
   "id": "7a7dfd15",
   "metadata": {},
   "outputs": [
    {
     "data": {
      "image/png": "[encoded data removed]",
      "text/plain": [
       "<Figure size 432x288 with 1 Axes>"
      ]
     },
     "metadata": {
      "needs_background": "light"
     },
     "output_type": "display_data"
    }
   ],
   "source": [
    "# x축을 1~5, y축을 3~20으로 확대\n",
    "x = numpy.arange(1, 10)\n",
    "y = x ** 2\n",
    "\n",
    "plt.title('zoom in')\n",
    "plt.xlabel('x axis')\n",
    "plt.ylabel('y axis')\n",
    "\n",
    "## type your code ##\n",
    "plt.xlim(1,5)\n",
    "plt.ylim(3,20)\n",
    "\n",
    "plt.plot(x, y)\n",
    "plt.show();"
   ]
  },
  {
   "cell_type": "code",
   "execution_count": 26,
   "id": "ff2b7c98",
   "metadata": {},
   "outputs": [
    {
     "data": {
      "image/png": "[encoded data removed]",
      "text/plain": [
       "<Figure size 432x288 with 1 Axes>"
      ]
     },
     "metadata": {
      "needs_background": "light"
     },
     "output_type": "display_data"
    }
   ],
   "source": [
    "# x축을 1~20, y축을 3~200으로 축소\n",
    "x = numpy.arange(1, 10)\n",
    "y = x ** 2 + 10\n",
    "plt.title('zoom out')\n",
    "plt.xlabel('x axis')\n",
    "plt.ylabel('y axis')\n",
    "\n",
    "## type your code ##\n",
    "plt.xlim(1,20)\n",
    "plt.ylim(3,200)\n",
    "\n",
    "plt.plot(x,y)\n",
    "plt.show();"
   ]
  },
  {
   "cell_type": "markdown",
   "id": "f9386fe6",
   "metadata": {},
   "source": [
    "## 틱(tick) 설정 "
   ]
  },
  {
   "cell_type": "markdown",
   "id": "1089ddfe",
   "metadata": {},
   "source": [
    "틱의 위치나 틱 라벨은 Matplotlib가 자동으로 정해주지만 만약 수동으로 설정하고 싶다면 **xticks** 명령이나 **yticks** 메소드를 사용한다.\n",
    "\n",
    "참고)\n",
    "- **틱(tick)** : 도표에서 축상의 위치 표시 지점\n",
    "- **틱 라벨(tick label)** : 틱에 써진 숫자 혹은 글자"
   ]
  },
  {
   "cell_type": "code",
   "execution_count": 27,
   "id": "d182d953",
   "metadata": {},
   "outputs": [
    {
     "data": {
      "image/png": "[encoded data removed]",
      "text/plain": [
       "<Figure size 432x288 with 1 Axes>"
      ]
     },
     "metadata": {
      "needs_background": "light"
     },
     "output_type": "display_data"
    }
   ],
   "source": [
    "x = np.linspace(-np.pi, np.pi, 256)\n",
    "c = np.cos(x)\n",
    "\n",
    "plt.title('Cosine Function')\n",
    "\n",
    "# y축의 틱과 틱 라벨은 -1, 0, 1로 설정\n",
    "# x축의 틱과 틱 라벨은 -np.pi, -np.pi/2, 0, np.pi/2, np.pi로 설정\n",
    "## type your code ##\n",
    "\n",
    "plt.yticks([-1,0,1])\n",
    "plt.xticks([-np.pi, -np.pi/2, 0, np.pi/2, np.pi])\n",
    "plt.plot(x,c)\n",
    "plt.show();"
   ]
  },
  {
   "cell_type": "markdown",
   "id": "8df19eb4",
   "metadata": {},
   "source": [
    "## 범례(legend)"
   ]
  },
  {
   "cell_type": "markdown",
   "id": "262b6df4",
   "metadata": {},
   "source": [
    "도표에서 여러 개의 선을 동시에 그릴 때, 각 선을 구분하기 위해 선마다 라벨을 달고 각 라벨의 이름을 보여줄 수 있는데 이를 범례(legend)라고 한다. 범례는 선 그래프 뿐 아니라 막대 그래프, 원 그래프 등 다양한 그래프에서 사용될 수 있다.\n",
    "- 범례를 사용하려면 **plot**의 매개변수 ***label*** 에 선 이름을 지정하고 **legend**(*loc*='위치') 메소드를 호출하면 범례를 도표 상에 그려준다\n",
    "- 범례의 위치는 아래 링크를 참고하면 된다.\n",
    "    - https://matplotlib.org/stable/api/_as_gen/matplotlib.pyplot.legend.html\n",
    "    \n",
    "[matplotlib.pyplot.legend](https://matplotlib.org/stable/api/_as_gen/matplotlib.pyplot.legend.html)\n",
    "- Place a legend on the axes.\n",
    "- matplotlib.pyplot.**legend**(_\\*args, \\**kwargs_)"
   ]
  },
  {
   "cell_type": "markdown",
   "id": "e6630433",
   "metadata": {},
   "source": [
    "도표에 여러 개의 선을 추가하려면 **plot** 메소드를 **show** 메소드 전에 여러 번 호출한다. 다음 예는 두 개의 선을 그린 후, 좌측 상단에 범례를 표현한 것이다.\n",
    "\n",
    "좌측 상단은 upper left, 우측 상단은 upper right, 좌측 하단은 lower left, 우측 하단은 lower right, 가운데는 center"
   ]
  },
  {
   "cell_type": "code",
   "execution_count": 30,
   "id": "9c852fa4",
   "metadata": {},
   "outputs": [
    {
     "data": {
      "image/png": "[encoded data removed]",
      "text/plain": [
       "<Figure size 432x288 with 1 Axes>"
      ]
     },
     "metadata": {
      "needs_background": "light"
     },
     "output_type": "display_data"
    }
   ],
   "source": [
    "x = np.arange(1, 10, 0.1)\n",
    "y1 = x * 0.3\n",
    "y2 = np.sin(x)\n",
    "\n",
    "## type your code ##\n",
    "plt.title('Legend example')\n",
    "plt.xlabel('x axis')\n",
    "plt.ylabel('y axis')\n",
    "\n",
    "plt.plot(x,y1,'g',label='linear')\n",
    "plt.plot(x,y2,'r',label='non-linear')\n",
    "\n",
    "plt.legend(loc='upper left')\n",
    "plt.show();"
   ]
  },
  {
   "cell_type": "code",
   "execution_count": 32,
   "id": "c34aa048",
   "metadata": {},
   "outputs": [
    {
     "data": {
      "image/png": "[encoded data removed]",
      "text/plain": [
       "<Figure size 432x288 with 1 Axes>"
      ]
     },
     "metadata": {
      "needs_background": "light"
     },
     "output_type": "display_data"
    }
   ],
   "source": [
    "# 또 다른 범례 설정 방법\n",
    "# legend(['선1범례', '선2범례', ...])\n",
    "x = np.arange(1, 10, 0.1)\n",
    "y1 = x * 0.3\n",
    "y2 = np.sin(x)\n",
    "\n",
    "## type your code ##\n",
    "plt.title('Legend example')\n",
    "plt.xlabel('x axis')\n",
    "plt.ylabel('y axis')\n",
    "\n",
    "plt.plot(x,y1,'g')\n",
    "plt.plot(x,y2,'r')\n",
    "\n",
    "plt.legend(['linear','non-linear'], loc='upper right')\n",
    "\n",
    "\n",
    "\n",
    "plt.show();"
   ]
  },
  {
   "cell_type": "markdown",
   "id": "e5cb3adf",
   "metadata": {},
   "source": [
    "## 주석(annotation)"
   ]
  },
  {
   "cell_type": "markdown",
   "id": "3ca9c3b6",
   "metadata": {},
   "source": [
    "도표의 특정 좌표를 가리키는 화살표를 그린 후, 그 화살표에 문자열을 출력하는 기능이다. \n",
    "- **annotate** 메소드를 **annotate(*'text', xy, xytext, arrowprops*)** 형식으로 사용하면 된다.\n",
    "    + ***'text'*** 는 주석에 표시하는 문자열이고,   \n",
    "    + ***xy*** 는 화살표가 가리키는 점의 위치,  \n",
    "    + ***xytext*** 는 문자열을 출력할 위치,  \n",
    "    + ***arrowprops*** 는 화살표의 속성으로 스타일, 색상 등을 정의한다.\n",
    "- 주석과 화살표에 대해 더 자세한 정보는 아래의 링크를 참고하면 된다.\n",
    "    + https://matplotlib.org/3.1.1/api/_as_gen/matplotlib.pyplot.annotate.html\n",
    "    \n",
    "[matplotlib.pyplot.annotate](https://matplotlib.org/3.1.1/api/_as_gen/matplotlib.pyplot.annotate.html)\n",
    "- Annotate the point xy with text text.\n",
    "- matplotlib.pyplot.**annotate**(_s, xy, \\*args, \\**kwargs_)\n",
    "    - In the simplest form, the text is placed at ***xy***.\n",
    "    - Optionally, the text can be displayed in another position ***xytext***. \n",
    "        - An arrow pointing from the text to the annotated point ***xy*** can then be added by defining ***arrowprops***."
   ]
  },
  {
   "cell_type": "code",
   "execution_count": 33,
   "id": "6f994b5a",
   "metadata": {},
   "outputs": [
    {
     "data": {
      "image/png": "[encoded data removed]",
      "text/plain": [
       "<Figure size 432x288 with 1 Axes>"
      ]
     },
     "metadata": {
      "needs_background": "light"
     },
     "output_type": "display_data"
    }
   ],
   "source": [
    "# 초록색 화살표와 주석을 설정한다.\n",
    "x = np.arange(1, 10)\n",
    "y = x * 3\n",
    "\n",
    "plt.title('Annotation Sample')\n",
    "plt.ylabel('y axis')\n",
    "plt.xlabel('x axis')\n",
    "\n",
    "## type your code ##\n",
    "plt.annotate('start',\n",
    "             xy=(1.1,3),xytext=(2,5),\n",
    "             arrowprops={'color':'green'})\n",
    "plt.plot(x,y)\n",
    "plt.show();"
   ]
  },
  {
   "cell_type": "markdown",
   "id": "52518ddb",
   "metadata": {},
   "source": [
    "## 연습문제 1-1\n",
    "\n",
    "우선 우리가 사용할 dataset은 seaborn에서 제공하는 titanic dataset이다. titanic dataset에서 우리는 탑승 좌석 클래스(pclass)에 따른 평균 요금(fare)의 분포가 궁금하여 선 그래프를 그려보고자 한다. 아래의 과정에 따라 titanic dataset에서 pclass, fare 간의 선 그래프를 그려보자.\n",
    "\n",
    "조건은 다음과 같다.\n",
    "- title은 \"좌석 클래스에 따른 평균 요금\"이다.\n",
    "- x축 라벨은 \"좌석 클래스\"이다.\n",
    "- y축 라벨은 \"평균 요금\"이다.\n",
    "- x tick는 1, 2, 3으로 설정한다.\n",
    "- 선 색상은 초록색(green), marker는 원(circle), line style은 dashed-line-style로 설정한다."
   ]
  },
  {
   "cell_type": "code",
   "execution_count": 34,
   "id": "24a6fa33",
   "metadata": {},
   "outputs": [
    {
     "data": {
      "text/html": [
       "<div>\n",
       "<style scoped>\n",
       "    .dataframe tbody tr th:only-of-type {\n",
       "        vertical-align: middle;\n",
       "    }\n",
       "\n",
       "    .dataframe tbody tr th {\n",
       "        vertical-align: top;\n",
       "    }\n",
       "\n",
       "    .dataframe thead th {\n",
       "        text-align: right;\n",
       "    }\n",
       "</style>\n",
       "<table border=\"1\" class=\"dataframe\">\n",
       "  <thead>\n",
       "    <tr style=\"text-align: right;\">\n",
       "      <th></th>\n",
       "      <th>survived</th>\n",
       "      <th>pclass</th>\n",
       "      <th>sex</th>\n",
       "      <th>age</th>\n",
       "      <th>sibsp</th>\n",
       "      <th>parch</th>\n",
       "      <th>fare</th>\n",
       "      <th>embarked</th>\n",
       "      <th>class</th>\n",
       "      <th>who</th>\n",
       "      <th>adult_male</th>\n",
       "      <th>deck</th>\n",
       "      <th>embark_town</th>\n",
       "      <th>alive</th>\n",
       "      <th>alone</th>\n",
       "    </tr>\n",
       "  </thead>\n",
       "  <tbody>\n",
       "    <tr>\n",
       "      <th>0</th>\n",
       "      <td>0</td>\n",
       "      <td>3</td>\n",
       "      <td>male</td>\n",
       "      <td>22.0</td>\n",
       "      <td>1</td>\n",
       "      <td>0</td>\n",
       "      <td>7.2500</td>\n",
       "      <td>S</td>\n",
       "      <td>Third</td>\n",
       "      <td>man</td>\n",
       "      <td>True</td>\n",
       "      <td>NaN</td>\n",
       "      <td>Southampton</td>\n",
       "      <td>no</td>\n",
       "      <td>False</td>\n",
       "    </tr>\n",
       "    <tr>\n",
       "      <th>1</th>\n",
       "      <td>1</td>\n",
       "      <td>1</td>\n",
       "      <td>female</td>\n",
       "      <td>38.0</td>\n",
       "      <td>1</td>\n",
       "      <td>0</td>\n",
       "      <td>71.2833</td>\n",
       "      <td>C</td>\n",
       "      <td>First</td>\n",
       "      <td>woman</td>\n",
       "      <td>False</td>\n",
       "      <td>C</td>\n",
       "      <td>Cherbourg</td>\n",
       "      <td>yes</td>\n",
       "      <td>False</td>\n",
       "    </tr>\n",
       "    <tr>\n",
       "      <th>2</th>\n",
       "      <td>1</td>\n",
       "      <td>3</td>\n",
       "      <td>female</td>\n",
       "      <td>26.0</td>\n",
       "      <td>0</td>\n",
       "      <td>0</td>\n",
       "      <td>7.9250</td>\n",
       "      <td>S</td>\n",
       "      <td>Third</td>\n",
       "      <td>woman</td>\n",
       "      <td>False</td>\n",
       "      <td>NaN</td>\n",
       "      <td>Southampton</td>\n",
       "      <td>yes</td>\n",
       "      <td>True</td>\n",
       "    </tr>\n",
       "    <tr>\n",
       "      <th>3</th>\n",
       "      <td>1</td>\n",
       "      <td>1</td>\n",
       "      <td>female</td>\n",
       "      <td>35.0</td>\n",
       "      <td>1</td>\n",
       "      <td>0</td>\n",
       "      <td>53.1000</td>\n",
       "      <td>S</td>\n",
       "      <td>First</td>\n",
       "      <td>woman</td>\n",
       "      <td>False</td>\n",
       "      <td>C</td>\n",
       "      <td>Southampton</td>\n",
       "      <td>yes</td>\n",
       "      <td>False</td>\n",
       "    </tr>\n",
       "    <tr>\n",
       "      <th>4</th>\n",
       "      <td>0</td>\n",
       "      <td>3</td>\n",
       "      <td>male</td>\n",
       "      <td>35.0</td>\n",
       "      <td>0</td>\n",
       "      <td>0</td>\n",
       "      <td>8.0500</td>\n",
       "      <td>S</td>\n",
       "      <td>Third</td>\n",
       "      <td>man</td>\n",
       "      <td>True</td>\n",
       "      <td>NaN</td>\n",
       "      <td>Southampton</td>\n",
       "      <td>no</td>\n",
       "      <td>True</td>\n",
       "    </tr>\n",
       "  </tbody>\n",
       "</table>\n",
       "</div>"
      ],
      "text/plain": [
       "   survived  pclass     sex   age  sibsp  parch     fare embarked  class  \\\n",
       "0         0       3    male  22.0      1      0   7.2500        S  Third   \n",
       "1         1       1  female  38.0      1      0  71.2833        C  First   \n",
       "2         1       3  female  26.0      0      0   7.9250        S  Third   \n",
       "3         1       1  female  35.0      1      0  53.1000        S  First   \n",
       "4         0       3    male  35.0      0      0   8.0500        S  Third   \n",
       "\n",
       "     who  adult_male deck  embark_town alive  alone  \n",
       "0    man        True  NaN  Southampton    no  False  \n",
       "1  woman       False    C    Cherbourg   yes  False  \n",
       "2  woman       False  NaN  Southampton   yes   True  \n",
       "3  woman       False    C  Southampton   yes  False  \n",
       "4    man        True  NaN  Southampton    no   True  "
      ]
     },
     "execution_count": 34,
     "metadata": {},
     "output_type": "execute_result"
    }
   ],
   "source": [
    "# loading dataset\n",
    "# 결과로 출력되는 5개의 행은 titanic dataset에서 상위 5개 데이터를 추출한 것이다.\n",
    "# 이를 통해 titanic dataset이 어떻게 구성되어 있는지 알 수 있다.\n",
    "# 우리가 관심있는 column은 pclass, fare이다.\n",
    "titanic = sns.load_dataset('titanic')\n",
    "titanic.head()"
   ]
  },
  {
   "cell_type": "code",
   "execution_count": 35,
   "id": "5e7914b6",
   "metadata": {},
   "outputs": [
    {
     "data": {
      "text/plain": [
       "pclass\n",
       "1    84.154687\n",
       "2    20.662183\n",
       "3    13.675550\n",
       "Name: fare, dtype: float64"
      ]
     },
     "execution_count": 35,
     "metadata": {},
     "output_type": "execute_result"
    }
   ],
   "source": [
    "# titanic dataset에서 pclass에 따른 평균 요금을 groupby를 이용하여 계산한다.\n",
    "# 결과는 pclass (1~3)에 따른 평균 요금이다.\n",
    "group_titanic = titanic.groupby(['pclass']).mean()['fare']\n",
    "group_titanic"
   ]
  },
  {
   "cell_type": "code",
   "execution_count": 36,
   "id": "242ea6f4",
   "metadata": {},
   "outputs": [],
   "source": [
    "# x는 pclass, y는 평균 fare이다.\n",
    "x = group_titanic.index\n",
    "y = group_titanic"
   ]
  },
  {
   "cell_type": "code",
   "execution_count": 40,
   "id": "067fb983",
   "metadata": {},
   "outputs": [
    {
     "data": {
      "image/png": "[encoded data removed]",
      "text/plain": [
       "<Figure size 576x360 with 1 Axes>"
      ]
     },
     "metadata": {
      "needs_background": "light"
     },
     "output_type": "display_data"
    }
   ],
   "source": [
    "plt.figure(figsize=(8, 5))\n",
    "\n",
    "## type your code ##\n",
    "plt.title('좌석 클래스에 따른 평균 요금') # 타이틀 입력\n",
    "plt.xlabel('좌석 클래스') # x label 입력\n",
    "plt.ylabel('평균 요금') # y label 입력\n",
    "\n",
    "plt.xticks([1, 2, 3]) # x ticks 입력\n",
    "\n",
    "\n",
    "# line graph 그리기 #\n",
    "plt.plot(x,y,'og-.')\n",
    "plt.show();"
   ]
  },
  {
   "cell_type": "markdown",
   "id": "551b5eb3",
   "metadata": {},
   "source": [
    "## 연습문제 1-2\n",
    "\n",
    "이번에는 위에서 그린 선 그래프의 구체적인 값도 그래프에 표시하고자 한다. 즉, 좌석 클래스 1, 2, 3 각각의 평균 요금을 선 그래프에서 각 점 위에 표시하고자 한다. 아래의 과정에 따라 annotation을 해보자.\n",
    "\n",
    "조건은 다음과 같다.\n",
    "- title은 \"좌석 클래스에 따른 평균 요금\"이다.\n",
    "- x축 라벨은 \"좌석 클래스\"이다.\n",
    "- y축 라벨은 \"평균 요금\"이다.\n",
    "- x tick는 1, 2, 3으로 설정한다.\n",
    "- annotation을 잘림 없이 보기 위하여 ylim을 0, 100으로 설정한다.\n",
    "- marker 색상은 청록색(cyan), marker는 원(circle), line은 없앤다.\n",
    "- 평균 fare는 소수점 둘째 자리에서 반올림한다.\n",
    "- 각 점의 위에 평균 fare가 표시되도록 위치를 적절히 조정한다."
   ]
  },
  {
   "cell_type": "code",
   "execution_count": 100,
   "id": "65ea230d",
   "metadata": {},
   "outputs": [
    {
     "data": {
      "image/png": "[encoded data removed]",
      "text/plain": [
       "<Figure size 576x360 with 1 Axes>"
      ]
     },
     "metadata": {
      "needs_background": "light"
     },
     "output_type": "display_data"
    }
   ],
   "source": [
    "plt.figure(figsize=(8, 5))\n",
    "\n",
    "## type your code ##\n",
    "plt.title('좌석 클래스에 따른 평균 요금') # 타이틀 입력\n",
    "plt.xlabel('좌석 클래스') # x label 입력\n",
    "plt.ylabel('평균 요금') # y label 입력\n",
    "\n",
    "plt.xticks([1, 2, 3]) # x ticks 입력\n",
    "plt.ylim(0,100) # y lim 입력\n",
    "\n",
    "# line graph 그리기 #\n",
    "plt.plot(x,y,'oc')\n",
    "\n",
    "# annotation\n",
    "for idx, value in enumerate(y):\n",
    "    value = round(value, 2)\n",
    "    plt.annotate(f'{value}', xy=(y.index[idx],y.values[idx]+2),xytext=(idx+1.1,value+10), arrowprops={'color':'green'}) # 적절한 위치에 value가 그려지도록 위치 조정\n",
    "\n",
    "\n",
    "plt.show();"
   ]
  },
  {
   "cell_type": "markdown",
   "id": "2e921de1",
   "metadata": {},
   "source": [
    "## 연습문제 1-3\n",
    "\n",
    "이번에는 역시 seaborn에서 제공하는 titanic dataset을 이용하여, 좌석 클래스(pclass)에 따른 평균 요금(fare)과 평균 나이(age)를 한 그래프에 내에서 보고자 한다. 아래의 과정에 따라 titanic dataset에서 pclass에 따른 fare, age의 선 그래프를 그려보자.\n",
    "\n",
    "조건은 다음과 같다.\n",
    "- title은 \"좌석 클래스에 따른 평균 요금과 평균 나이\"이다.\n",
    "- x축 라벨은 \"좌석 클래스\"이다.\n",
    "- y축 라벨은 \"평균 요금 및 평균 나이\"이다.\n",
    "- x tick는 1, 2, 3으로 설정한다.\n",
    "- fare 선의 색상은 빨간색(red), marker는 triangle_up, line style은 solid-line-style로 설정한다.\n",
    "- age 선의 색상은 파란색(blue), marker는 square, line style은 solid-line-style로 설정한다.\n",
    "- 범례는 fare 선은 \"평균 요금\", age 선은 \"평균 나이\"로 설정하며, 그래프의 우상단에 위치하게 한다."
   ]
  },
  {
   "cell_type": "code",
   "execution_count": 101,
   "id": "d85795e8",
   "metadata": {},
   "outputs": [
    {
     "data": {
      "text/html": [
       "<div>\n",
       "<style scoped>\n",
       "    .dataframe tbody tr th:only-of-type {\n",
       "        vertical-align: middle;\n",
       "    }\n",
       "\n",
       "    .dataframe tbody tr th {\n",
       "        vertical-align: top;\n",
       "    }\n",
       "\n",
       "    .dataframe thead th {\n",
       "        text-align: right;\n",
       "    }\n",
       "</style>\n",
       "<table border=\"1\" class=\"dataframe\">\n",
       "  <thead>\n",
       "    <tr style=\"text-align: right;\">\n",
       "      <th></th>\n",
       "      <th>fare</th>\n",
       "      <th>age</th>\n",
       "    </tr>\n",
       "    <tr>\n",
       "      <th>pclass</th>\n",
       "      <th></th>\n",
       "      <th></th>\n",
       "    </tr>\n",
       "  </thead>\n",
       "  <tbody>\n",
       "    <tr>\n",
       "      <th>1</th>\n",
       "      <td>84.154687</td>\n",
       "      <td>38.233441</td>\n",
       "    </tr>\n",
       "    <tr>\n",
       "      <th>2</th>\n",
       "      <td>20.662183</td>\n",
       "      <td>29.877630</td>\n",
       "    </tr>\n",
       "    <tr>\n",
       "      <th>3</th>\n",
       "      <td>13.675550</td>\n",
       "      <td>25.140620</td>\n",
       "    </tr>\n",
       "  </tbody>\n",
       "</table>\n",
       "</div>"
      ],
      "text/plain": [
       "             fare        age\n",
       "pclass                      \n",
       "1       84.154687  38.233441\n",
       "2       20.662183  29.877630\n",
       "3       13.675550  25.140620"
      ]
     },
     "execution_count": 101,
     "metadata": {},
     "output_type": "execute_result"
    }
   ],
   "source": [
    "# titanic dataset에서 pclass에 따른 평균 요금과 평균 나이를 groupby를 이용하여 계산한다.\n",
    "# 결과는 pclass (1~3)에 따른 평균 요금과 평균 나이이다.\n",
    "group_titanic = titanic.groupby(['pclass']).mean()[['fare', 'age']]\n",
    "group_titanic"
   ]
  },
  {
   "cell_type": "code",
   "execution_count": 102,
   "id": "b0c92a5d",
   "metadata": {},
   "outputs": [],
   "source": [
    "# x는 pclass, y1은 평균 fare, y2는 평균 age이다.\n",
    "x = group_titanic.index\n",
    "y1 = group_titanic.fare\n",
    "y2 = group_titanic.age"
   ]
  },
  {
   "cell_type": "code",
   "execution_count": 105,
   "id": "6d7c583d",
   "metadata": {},
   "outputs": [
    {
     "data": {
      "image/png": "[encoded data removed]",
      "text/plain": [
       "<Figure size 576x360 with 1 Axes>"
      ]
     },
     "metadata": {
      "needs_background": "light"
     },
     "output_type": "display_data"
    }
   ],
   "source": [
    "plt.figure(figsize=(8, 5))\n",
    "\n",
    "## type your code ##\n",
    "# title, xlabel, ylabel 설정 #\n",
    "plt.title('좌석 클래스에 따른 평균 요금과 평균 나이') # 타이틀 입력\n",
    "plt.xlabel('좌석 클래스') # x label 입력\n",
    "plt.ylabel('평균 요금 및 평균 나이') # y label 입력\n",
    "# xticks 설정 #\n",
    "plt.xticks([1, 2, 3]) # x ticks 입력\n",
    "\n",
    "# line graph 2개 그리기 #\n",
    "plt.plot(x,y1, color='red', marker='^', linestyle='-', label='Fare')\n",
    "plt.plot(x,y2,color='blue', marker='s', linestyle='-', label='Age')\n",
    "\n",
    "plt.legend(['평균 요금','평균 나이'], loc='upper right')\n",
    "plt.show();"
   ]
  },
  {
   "cell_type": "markdown",
   "id": "794bb116",
   "metadata": {},
   "source": [
    "# 도표의 구성"
   ]
  },
  {
   "cell_type": "markdown",
   "id": "ab232b68",
   "metadata": {},
   "source": [
    "Matplotlib이 그리는 도표는 **Figure** 객체, **Axes** 객체, **Axis** 객체 등으로 구성된다. \n",
    "- **Figure** 객체는 한 개 이상의 **Axes** 객체를 포함하고, **Axes** 객체는 다시 두 개 이상의 **Axis** 객체를 포함한다. \n",
    "    + **Figure**는 그림이 그려지는 **캔버스**나 **종이**를 뜻한다.\n",
    "    + **Axes**는 하나의 **도표**를 뜻한다.\n",
    "    + **Axis**는 가로 축이나 세로 축 등의 **축**을 뜻한다."
   ]
  },
  {
   "cell_type": "markdown",
   "id": "3380ec80",
   "metadata": {},
   "source": [
    "## Figure 객체"
   ]
  },
  {
   "cell_type": "markdown",
   "id": "7667f970",
   "metadata": {},
   "source": [
    "모든 도표는 **Figure** 객체에 포함되어 있다. \n",
    "- **Figure** 객체는 **matplotlib.figure.Figure** 클래스의 인스턴스다. \n",
    "- 기본적으로 하나의 **Figure**는 하나의 아이디 숫자와 윈도우(Window)를 가진다. (inline plot은 예외)\n",
    "- 주피터 노트북에서는 윈도우 객체가 생성되지 않지만 파이썬을 독립 실행하면 하나의 **Figure**당 하나의 윈도우를 별도로 가진다. \n",
    "- Figure 객체에 대한 자세한 설명은 다음 웹사이트를 참조한다.\n",
    "    + https://matplotlib.org/stable/api/figure_api.html\n",
    "- 그림의 크기는 매개변수 **figsize**로 설정한다."
   ]
  },
  {
   "cell_type": "code",
   "execution_count": 109,
   "id": "f16b38b9",
   "metadata": {},
   "outputs": [
    {
     "data": {
      "image/png": "[encoded data removed]",
      "text/plain": [
       "<Figure size 720x144 with 1 Axes>"
      ]
     },
     "metadata": {
      "needs_background": "light"
     },
     "output_type": "display_data"
    }
   ],
   "source": [
    "plt.figure(figsize=(10, 2))\n",
    "plt.plot(np.random.randn(100))\n",
    "plt.show();"
   ]
  },
  {
   "cell_type": "markdown",
   "id": "bed84e75",
   "metadata": {},
   "source": [
    "## Axes 객체"
   ]
  },
  {
   "cell_type": "markdown",
   "id": "6536b601",
   "metadata": {},
   "source": [
    "때로는 다음과 같이 하나의 윈도우(**Figure**) 안에 여러 개의 플롯을 배열 형태로 보여야하는 경우도 있다. **Figure** 안에 있는 각각의 플롯은 **Axes** 라고 불리는 객체에 속한다. \n",
    "- **Axes** 객체에 대한 자세한 설명은 다음 웹사이트를 참조한다.\n",
    "    + https://matplotlib.org/stable/api/axes_api.html\n",
    "\n",
    "**Figure** 안에 **Axes**를 생성하려면 원래 **subplot** 메소드를 사용하여 명시적으로 **Axes** 객체를 얻어야 한다. 그러나 **plot** 메소드를 바로 사용해도 자동으로 **Axes**를 생성해 준다."
   ]
  },
  {
   "cell_type": "markdown",
   "id": "c79eeff2",
   "metadata": {},
   "source": [
    "## 서브플롯"
   ]
  },
  {
   "cell_type": "markdown",
   "id": "dd3b3ffc",
   "metadata": {},
   "source": [
    "한 번에 여러 개의 도표를 그릴 경우 서브플롯을 사용한다. **subplot**은 그리드(grid) 형태의 **Axes** 객체들을 생성하는데 **Figure**는 행렬(matrix)이고 **Axes**는 행렬의 원소라고 생각하면 된다. \n",
    "- 서브플롯은 도표가 그려질 위치를 격자형으로 지정하는데, **subplot(*nrow, ncol, pos*)** 형식으로 호출하여 사용한다.\n",
    "    + ***nrow***, ***ncol*** 은 도표를 그릴 평면의 크기를 지정한다.\n",
    "        - 예) ***1, 2***는 1줄(세로)과 2칸(가로)으로 이루어진 도표 평면을 설정한다.\n",
    "    + ***pos*** 는 어느 평면에 도표를 그릴지 지정하는데, 위에서부터 시작해서 좌측에서 우측으로, 그리고 아래 방향으로 1, 2, 3, 4, 5, ... 번호 순으로 그린다.\n",
    "    \n",
    "[matplotlib.pyplot.subplot](https://matplotlib.org/3.1.1/api/_as_gen/matplotlib.pyplot.subplot.html#matplotlib.pyplot.subplot)   \n",
    "- Add a subplot to the current figure.\n",
    "- matplotlib.pyplot.**subplot**(_\\*args, \\**kwargs_)"
   ]
  },
  {
   "cell_type": "code",
   "execution_count": 114,
   "id": "b4b14188",
   "metadata": {},
   "outputs": [
    {
     "data": {
      "image/png": "[encoded data removed]",
      "text/plain": [
       "<Figure size 432x288 with 2 Axes>"
      ]
     },
     "metadata": {
      "needs_background": "light"
     },
     "output_type": "display_data"
    }
   ],
   "source": [
    "x = np.arange(1, 10)\n",
    "y1 = x * 3\n",
    "y2 = x * 4\n",
    "\n",
    "## type your code ##\n",
    "plt.subplot(1,2,1,title='subplot 1')\n",
    "plt.plot(x,y1,'or')\n",
    "\n",
    "plt.subplot(1,2,2,title='subplot 2')\n",
    "plt.plot(x,y2,'g')\n",
    "\n",
    "plt.show();"
   ]
  },
  {
   "cell_type": "code",
   "execution_count": 116,
   "id": "accaebce",
   "metadata": {},
   "outputs": [
    {
     "data": {
      "image/png": "[encoded data removed]",
      "text/plain": [
       "<Figure size 432x288 with 2 Axes>"
      ]
     },
     "metadata": {
      "needs_background": "light"
     },
     "output_type": "display_data"
    }
   ],
   "source": [
    "# 위치를 바꾸어, 첫번째 그래프를 1행 1열에, 두번째 그래프를 2행 1열에 위치시켜보자.\n",
    "x = np.arange(1, 10)\n",
    "y1 = x * 3\n",
    "y2 = x * 4\n",
    "\n",
    "## type your code ##\n",
    "plt.subplot(2,1,1,title='subplot 1')\n",
    "plt.plot(x,y1)\n",
    "\n",
    "plt.subplot(2,1,2,title='subplot 2')\n",
    "plt.plot(x,y2)\n",
    "\n",
    "plt.tight_layout() # 그냥 그래프를 그리면 두 그래프가 겹칠 수 있다. 이를 방지하기 위한 코드\n",
    "\n",
    "plt.show();"
   ]
  },
  {
   "cell_type": "markdown",
   "id": "028e2cb6",
   "metadata": {},
   "source": [
    "## 서브플롯과 전체 도표의 제목 설정"
   ]
  },
  {
   "cell_type": "markdown",
   "id": "4e02fd68",
   "metadata": {},
   "source": [
    "pyplot.**suptitle** 메소드를 사용하면 된다. pyplot.**title** 메소드는 **axes**의 제목을 설정할 때 사용하는 메소드다. 즉, 전체 도표 안에 있는 **각각의 서브플롯에 제목을 설정**한다고 생각하면 된다. 따라서 하나의 도표만 그린다면 pyplot.**title** 메소드를 사용하는게 일반적이다. 하지만 여러 개의 도표를 그리고 이 전체 도표를 대표하는 제목을 작성할 필요가 있을 때 pyplot.**suptitle** 메소드를 사용한다. \n",
    "\n",
    "**suptitle**을 작성하려면 **suptitle** 메소드를  **suptitle(_t, \\*\\*kwargs_)** 형식으로 사용하면 된다.\n",
    "- ***t*** 는 도표의 제목 텍스트를 입력한다.\n",
    "- ***x*** 는 제목 텍스트의 x좌표를 입력한다. 기본값은 **0.5**로 제목 텍스트는 도표의 x좌표상에서 중앙에 위치한다. 숫자가 작을수록 제목 텍스트는 왼쪽에 위치한다.\n",
    "- ***y*** 는 제목 텍스트의 y좌표를 입력한다. 기본값은 **0.98**로 제목 텍스트는 도표의 y좌표상에서 가장 위에 위치한다. 숫자가 작을수록 제목 텍스트는 아래에 위치한다.\n",
    "- 더 자세한 내용은 아래의 링크에서 확인할 수 있다.\n",
    "    + https://matplotlib.org/3.1.3/api/_as_gen/matplotlib.pyplot.suptitle.html\n",
    "\n",
    "[matplotlib.pyplot.suptitle](https://matplotlib.org/3.1.3/api/_as_gen/matplotlib.pyplot.suptitle.html)\n",
    "- Add a centered title to the figure.\n",
    "- matplotlib.pyplot.**suptitle**(_t, \\*\\*kwargs_)"
   ]
  },
  {
   "cell_type": "code",
   "execution_count": 117,
   "id": "0b8ac79c",
   "metadata": {},
   "outputs": [
    {
     "data": {
      "image/png": "[encoded data removed]",
      "text/plain": [
       "<Figure size 432x288 with 2 Axes>"
      ]
     },
     "metadata": {
      "needs_background": "light"
     },
     "output_type": "display_data"
    }
   ],
   "source": [
    "# 1줄 2칸의 서브플롯을 설정한다.\n",
    "x = np.arange(1, 10)\n",
    "y1 = x * 3\n",
    "y2 = x * 4\n",
    "\n",
    "## type your code ##\n",
    "plt.subplot(1,2,1,title='subplot 1')\n",
    "plt.plot(x,y1,'r')\n",
    "\n",
    "plt.subplot(1,2,2,title='subplot 2')\n",
    "plt.plot(x,y2,'g')\n",
    "\n",
    "plt.suptitle('two subplots')\n",
    "\n",
    "plt.show();"
   ]
  },
  {
   "cell_type": "markdown",
   "id": "ff236377",
   "metadata": {},
   "source": [
    "## 연습문제 2-1\n",
    "\n",
    "이번 연습문제 역시 titanic dataset을 이용할 것이다. 이번에는 승객들의 승선지(embarked)에 따른 평균 나이(age)와 평균 요금(fare)을 보고자 한다. 참고로 승객들의 승선지는 S, C, Q라는 value로 나와 있는데, 이는 각각 Southampton, Cherbourg, Queenstown를 의미한다.\n",
    "\n",
    "조건은 다음과 같다.\n",
    "- figsize는 8, 6으로 설정한다.\n",
    "- 전체 title은 \"승선지 별 정보\"이다.\n",
    "- 두 그래프를 2행 1열의 평면에 그린다.\n",
    "- 첫 번째 그래프는 승선지 별 평균 요금으로, 1행 1열에 그린다.\n",
    "- 첫 번째 그래프의 title은 \"승선지에 따른 평균 요금\"이다.\n",
    "- 첫 번째 그래프의 선의 색상은 파란색(blue), marker는 triangle_up, line style은 dotted-line-style이다.\n",
    "- 두 번째 그래프는 승선지 별 평균 나이로, 2행 1열에 그린다.\n",
    "- 두 번째 그래프의 title은 \"승선지에 따른 평균 나이\"이다.\n",
    "- 두 번째 그래프의 선의 색상은 빨간색(red), marker는 square, line style은 dotted-line-style이다."
   ]
  },
  {
   "cell_type": "code",
   "execution_count": null,
   "id": "cdd0fcfc",
   "metadata": {},
   "outputs": [],
   "source": [
    "# titanic dataset에서 embarked에 따른 평균 요금과 평균 나이를 groupby를 이용하여 계산한다.\n",
    "# 결과는 embarked (S, C, Q)에 따른 평균 요금과 평균 나이이다.\n",
    "group_titanic = titanic.groupby(['embarked']).mean()[['fare', 'age']]\n",
    "group_titanic"
   ]
  },
  {
   "cell_type": "code",
   "execution_count": null,
   "id": "39dca309",
   "metadata": {},
   "outputs": [],
   "source": [
    "# x는 embarked, y1은 평균 fare, y2는 평균 age이다.\n",
    "x = group_titanic.index\n",
    "y1 = group_titanic.fare\n",
    "y2 = group_titanic.age"
   ]
  },
  {
   "cell_type": "code",
   "execution_count": 122,
   "id": "ba832ef0",
   "metadata": {},
   "outputs": [
    {
     "data": {
      "image/png": "[encoded data removed]",
      "text/plain": [
       "<Figure size 576x432 with 2 Axes>"
      ]
     },
     "metadata": {
      "needs_background": "light"
     },
     "output_type": "display_data"
    }
   ],
   "source": [
    "plt.figure(figsize=(8, 6))\n",
    "\n",
    "## type your code ##\n",
    "plt.subplot(2,1,1,title='승선지에 따른 평균 요금') # subplot 위치와 title 설정\n",
    "plt.plot(x,y1,color='blue', marker='^', linestyle=':') # line graph 1 그리기\n",
    "\n",
    "\n",
    "plt.subplot(2,1,2,title='승선지에 따른 평균 나이') # subplot 위치와 title 설정\n",
    "plt.plot(x,y2,color='red', marker='s', linestyle=':') # line graph 2 그리기\n",
    "\n",
    "# 전체 title 설정 #\n",
    "plt.suptitle('승선지 별 정보')\n",
    "\n",
    "plt.tight_layout()\n",
    "plt.show();"
   ]
  },
  {
   "cell_type": "markdown",
   "id": "ce680d63",
   "metadata": {},
   "source": [
    "# 다양한 도표"
   ]
  },
  {
   "cell_type": "markdown",
   "id": "f6c0b22d",
   "metadata": {},
   "source": [
    "## 막대 그래프"
   ]
  },
  {
   "cell_type": "markdown",
   "id": "88f8b30d",
   "metadata": {},
   "source": [
    "막대 그래프 데이터 값에 비례하여 높이와 길이를 지닌 직사각형 막대로 범주형 데이터를 표현하는 도표다.\n",
    "\n",
    "막대 그래프를 작성하려면 **bar** 메소드를 주로 **bar(_x, height, width=0.8, bottom=None , align='center'_)** 형식으로 사용하면 된다.\n",
    "- ***x*** 는 표현하고자 하는 막대들,  \n",
    "- ***height*** 은 이 막대들의 높이,  \n",
    "- ***width*** 는 막대의 너비,  \n",
    "- ***bottom*** 은 막대 시작 점의 *y* 좌표,  \n",
    "- ***align*** 은 막대가 *x* 축 값의 중앙에 오도록 하거나('center') 모서리로 가도록('edge') 설정한다.\n",
    "- 이외에도 색상이나 레이블 등을 설정할 수 있는데 아래의 링크에서 더 자세한 명령어 들을 확인할 수 있다.\n",
    "    + https://matplotlib.org/api/_as_gen/matplotlib.pyplot.bar.html#matplotlib.pyplot.bar\n",
    "    \n",
    "[matplotlib.pyplot.bar](https://matplotlib.org/api/_as_gen/matplotlib.pyplot.bar.html#matplotlib.pyplot.bar)    \n",
    "- Make a bar plot.\n",
    "- matplotlib.pyplot.**bar**(_x, height, width=0.8, bottom=None, \\*, align='center', data=None, \\**kwargs_)\n",
    "    - The bars are positioned at ***x*** with the given alignment. Their dimensions are given by ***width*** and ***height***. The vertical baseline is ***bottom*** (default 0).\n",
    "    - Each of ***x***, ***height***, ***width***, and ***bottom*** may either be a scalar applying to all bars, or it may be a sequence of length N providing a separate value for each bar."
   ]
  },
  {
   "cell_type": "code",
   "execution_count": null,
   "id": "103a0427",
   "metadata": {},
   "outputs": [],
   "source": [
    "x = np.arange(3)\n",
    "years = ['2018', '2019', '2020']\n",
    "values = [100, 400, 900]\n",
    "\n",
    "## type your code ##\n",
    "\n",
    "plt.show()"
   ]
  },
  {
   "cell_type": "code",
   "execution_count": null,
   "id": "1a39bf7b",
   "metadata": {},
   "outputs": [],
   "source": [
    "# multiple bar charts\n",
    "# width를 통해 막대의 너비를 조정할 수 있다.\n",
    "x = np.arange(3)\n",
    "years = ['2018', '2019', '2020']\n",
    "values_1 = [100, 400, 900]\n",
    "values_2 = [200, 300, 500]\n",
    "\n",
    "## type your code ##\n",
    "\n",
    "plt.show()"
   ]
  },
  {
   "cell_type": "markdown",
   "id": "f591de8e",
   "metadata": {},
   "source": [
    "**barh**를 사용하면 수평 막대 그래프를 그릴 수 있다.\n",
    "\n",
    "그리고 **bar**와 **barh**의 매개변수인 ***xerr***나 ***yerr***로 에러 바(error bar)를 추가할 수 있고, ***alpha***로 투명도를 지정할 수 있다.(**0**이면 완전 투명, **1**이면 완전 불투명)\n",
    "\n",
    "cf) 에러 바 (오차막대)\n",
    "- 오차막대는 실험과학의 그래프에서 하나의 실험 결과값에 대해 하나의 표준편차의 범위를 나타내는 데 이용된다. 오차 막대는 두 값의 차이가 통계학적으로 유의수준 내에 있는지 시각적으로 나타낸다. 또 자료가 주어진 함수와 통계학적으로 얼마나 잘 맞는지 보여준다."
   ]
  },
  {
   "cell_type": "code",
   "execution_count": null,
   "id": "0f7184ec",
   "metadata": {},
   "outputs": [],
   "source": [
    "y = np.arange(3)\n",
    "years = ['2018', '2019', '2020']\n",
    "\n",
    "np.random.seed(5)\n",
    "values = 3 + 10 * np.random.rand(len(years))\n",
    "error = np.random.rand(len(years))\n",
    "\n",
    "## type your code ##\n",
    "\n",
    "plt.show()"
   ]
  },
  {
   "cell_type": "code",
   "execution_count": null,
   "id": "211614df",
   "metadata": {},
   "outputs": [],
   "source": [
    "# multiple barh charts\n",
    "# height을 통해 막대의 높이를 조정할 수 있다.\n",
    "y = np.arange(3)\n",
    "years = ['2018', '2019', '2020']\n",
    "\n",
    "np.random.seed(5)\n",
    "values_1 = 3 + 10 * np.random.rand(len(years))\n",
    "values_2 = 15 + 5 * np.random.rand(len(years))\n",
    "error = np.random.rand(len(years))\n",
    "\n",
    "## type your code ##\n",
    "\n",
    "plt.show()"
   ]
  },
  {
   "cell_type": "markdown",
   "id": "4ed7f04b",
   "metadata": {},
   "source": [
    "## 누적 막대 그래프"
   ]
  },
  {
   "cell_type": "markdown",
   "id": "c81cb63c",
   "metadata": {},
   "source": [
    "누적(stacked) 막대 그래프는 막대를 사용하여 데이터 범주 간 비교를 표시하지만 전체를 부분으로 나눠 비교할 수 있는 도표다. 도표의 각 막대는 전체를 나타내고 막대의 세그먼트는 전체의 일부분이나 범주를 나타낸다.\n",
    "\n",
    "누적 막대 그래프는 총계를 표시하고 각 범주 값이 어떻게 총계의 부분으로 나눠지는지 한 눈에 확인할 수 있어 편리하다.\n",
    "\n",
    "**bar** 메소드로 여러 개의 바를 생성하여 누적 막대 그래프를 그릴 수 있다. 예를 들어, 두 개의 범주가 있을 때 **bar** 메소드로 두 개의 막대를 생성하면 되는데 아래에 오는 값으로 먼저 막대를 생성한 후, 그 위에 오는 값으로 막대를 생성할 때 매개변수 ***bottom*** 의 전달인자로 아래에 오는 막대의 값을 지정하면 된다. "
   ]
  },
  {
   "cell_type": "code",
   "execution_count": null,
   "id": "3d7b2838",
   "metadata": {},
   "outputs": [],
   "source": [
    "# 3개의 반의 남녀 평균 퀴즈 점수\n",
    "men_means = 20, 35, 30\n",
    "women_means = 28, 32, 22\n",
    "\n",
    "x_labels = ['Classroom 1', 'Classroom 2', 'Classroom 3']\n",
    "x = np.arange(len(x_labels))\n",
    "width = 0.35\n",
    "\n",
    "## type your code ##\n",
    "\n",
    "plt.show();"
   ]
  },
  {
   "cell_type": "code",
   "execution_count": null,
   "id": "a6f7c4be",
   "metadata": {},
   "outputs": [],
   "source": [
    "# 연령대에 따른 선호하는 교통수단을 100% 누적 막대 그래프로 설정\n",
    "\n",
    "# y축 값으로 각 범주의 합이 10이다.\n",
    "car    =  2, 5, 1\n",
    "bus    =  3, 3, 4\n",
    "subway = 5, 2, 5\n",
    "\n",
    "# 누적 값을 계산\n",
    "sum_of_car_bus = np.add(car, bus)\n",
    "sum_of_car_bus_subway = np.add(sum_of_car_bus, subway)\n",
    "\n",
    "# x축 라벨과 눈금 \n",
    "x_labels = '청소년', '중장년', '노년'\n",
    "x = range(len(x_labels))\n",
    "\n",
    "## type your code ##\n",
    "\n",
    "plt.show();"
   ]
  },
  {
   "cell_type": "markdown",
   "id": "de0ae1c4",
   "metadata": {},
   "source": [
    "## 연습문제 3-1\n",
    "\n",
    "이번에는 titanic dataset에서 승객들의 생존 여부(survived)에 따른 인원수를 보고자 한다. 참고로 승객들의 생존 여부는 0이면 사망, 1이면 생존이다.\n",
    "\n",
    "조건은 다음과 같다.\n",
    "- title은 \"생존자, 사망자 수\"이다.\n",
    "- 수평 막대 그래프로 그린다.\n",
    "- 막대의 height은 0.5로 설정한다.\n",
    "- y ticks는 0은 '사망', 1은 '생존'으로 설정한다."
   ]
  },
  {
   "cell_type": "code",
   "execution_count": null,
   "id": "af2cc940",
   "metadata": {},
   "outputs": [],
   "source": [
    "# titanic dataset에서 survived에 따른 인원 수를 groupby를 이용하여 계산한다.\n",
    "# 결과는 survived(0, 1)에 따른 인원 수이다.\n",
    "group_titanic = titanic.groupby(['survived']).count()['pclass']\n",
    "group_titanic"
   ]
  },
  {
   "cell_type": "code",
   "execution_count": null,
   "id": "6d09d893",
   "metadata": {},
   "outputs": [],
   "source": [
    "# y는 생존 여부(survived), x는 인원 수이다.\n",
    "y = group_titanic.index\n",
    "x = group_titanic"
   ]
  },
  {
   "cell_type": "code",
   "execution_count": null,
   "id": "6745f0ec",
   "metadata": {},
   "outputs": [],
   "source": [
    "## type your code ##\n",
    "plt.title(# type #) # title 설정\n",
    "\n",
    "plt.yticks(# type #) # y ticks 설정\n",
    "    \n",
    "# 수평 막대 그래프 그리기 #\n",
    "\n",
    "plt.show()"
   ]
  },
  {
   "cell_type": "markdown",
   "id": "a885d253",
   "metadata": {},
   "source": [
    "## 연습문제 3-2\n",
    "\n",
    "이번에는 titanic dataset에서 승객들의 생존 여부(survived)에 따른 인원수를 성별(sex)에 따라 나누어 보고자 한다. 아래의 과정을 따라 코드를 작성해보자.\n",
    "\n",
    "조건은 다음과 같다.\n",
    "- title은 \"성별에 따른 생존자와 사망자 수\"이다.\n",
    "- 세로 막대 그래프로 그린다.\n",
    "- 막대의 width은 0.3으로 설정한다.\n",
    "- 남성의 생존/사망 그래프와 여성의 생존/사망 그래프를 그리면 된다.\n",
    "- 범례는 \"남성\"과 \"여성\"으로 설정하면 된다.\n",
    "- x ticks는 0은 '사망', 1은 '생존'으로 설정한다."
   ]
  },
  {
   "cell_type": "code",
   "execution_count": null,
   "id": "45aef817",
   "metadata": {},
   "outputs": [],
   "source": [
    "# titanic dataset에서 survived와 sex에 따른 인원 수를 groupby를 이용하여 계산한다.\n",
    "group_titanic = titanic.groupby(['survived', 'sex']).count()['pclass']\n",
    "group_titanic"
   ]
  },
  {
   "cell_type": "code",
   "execution_count": null,
   "id": "c74a3fd9",
   "metadata": {},
   "outputs": [],
   "source": [
    "# x는 생존 여부(survived), female_cnt는 여성의 생존, 사망자 수, male_cnt는 남성의 생존, 사망자 수이다.\n",
    "x = np.arange(len(set(i[0] for i in group_titanic.index)))\n",
    "\n",
    "female_cnt = group_titanic[[(0, 'female'), (1, 'female')]]\n",
    "male_cnt = group_titanic[[(0, 'male'), (1, 'male')]]"
   ]
  },
  {
   "cell_type": "code",
   "execution_count": null,
   "id": "5bcab7a9",
   "metadata": {},
   "outputs": [],
   "source": [
    "gap = 0.3 # 막대의 width\n",
    "\n",
    "## type your code ##\n",
    "plt.title(# type #) # title 설정\n",
    "\n",
    "male_bar = plt.bar(# type #) # 남성의 생존/사망 그래프 그리기\n",
    "female_bar = plt.bar(# type #) # 여성의 생존/사망 그래프 그리기\n",
    "\n",
    "plt.legend(# type #) # 범례 설정\n",
    "\n",
    "plt.xticks(# type #) # x ticks 설정\n",
    "\n",
    "plt.show();"
   ]
  },
  {
   "cell_type": "markdown",
   "id": "276ffb5c",
   "metadata": {},
   "source": [
    "## 연습문제 3-3\n",
    "\n",
    "이번에는 3-2에서 사용했던 승객들의 생존 여부(survived)에 따른 인원수를 성별(sex)에 따라 나누어 보는 그래프를 누적 막대 그래프로 그려보려고 한다. 아래의 과정을 따라 코드를 작성해보자.\n",
    "\n",
    "조건은 다음과 같다.\n",
    "- title은 \"성별에 따른 생존자와 사망자 수 누적 막대 그래프\"이다.\n",
    "- 세로 누적 막대 그래프로 그린다.\n",
    "- 막대의 width은 0.5으로 설정한다.\n",
    "- 남성의 생존/사망 그래프를 먼저 그리고, 여성의 생존/사망 그래프는 bottom에 남성의 생존/사망자 수를 누적하여 그리면 된다.\n",
    "- 범례는 \"남성\"과 \"여성\"으로 설정하면 된다.\n",
    "- x ticks는 0은 '사망', 1은 '생존'으로 설정한다."
   ]
  },
  {
   "cell_type": "code",
   "execution_count": null,
   "id": "87736967",
   "metadata": {},
   "outputs": [],
   "source": [
    "gap = 0.5 # 막대의 width\n",
    "\n",
    "## type your code ##\n",
    "plt.title(# type #) # title 설정\n",
    "    \n",
    "male_bar = plt.bar(# type #) # 남성의 생존/사망 그래프 그리기\n",
    "female_bar = plt.bar(# type #) # 여성의 생존/사망 그래프 그리기 (누적으로!)\n",
    "\n",
    "plt.legend(# type #) # 범례 설정\n",
    "\n",
    "plt.xticks(# type #) # x ticks 설정\n",
    "\n",
    "plt.show();"
   ]
  },
  {
   "cell_type": "markdown",
   "id": "74e5a293",
   "metadata": {},
   "source": [
    "## 원 그래프"
   ]
  },
  {
   "cell_type": "markdown",
   "id": "04344b72",
   "metadata": {},
   "source": [
    "원 그래프는 전체에 대한 각 부분의 비율을 부채꼴 모양으로 나타낸 그래프이며, 각 부분의 비율을 한 눈에 볼 수 있다는 장점이 있다.\n",
    "\n",
    "원 그래프를 작성하려면 **pie** 메소드를 주로 **pie(*x, explode, labels=None, autopct=None, shadow=False, startangle=None*)** 형식으로 사용하면 된다.\n",
    "- ***x*** 는 부채꼴(wedge) 크기,  \n",
    "- ***explode*** 는 원 그래프에서 특정 부채꼴만 떼어내어 강조할 때,  \n",
    "- ***labels*** 는 각 부채꼴의 라벨,  \n",
    "- ***autopct*** 는 해당 항목이 전체의 몇 퍼센트인지 값 표시를 해줘야 할 때,  \n",
    "- ***shadow*** 는 원 아래에 그림자가 생기도록 설정하고,  \n",
    "- ***startangle*** 은 원 그래프의 시작을 설정한 각도만큼 x 축에서 시계 반대 방향으로 회전한다.\n",
    "- 더 자세한 내용은 아래의 링크에서 확인할 수 있다.\n",
    "    + https://matplotlib.org/3.1.1/api/_as_gen/matplotlib.pyplot.pie.html\n",
    "\n",
    "    \n",
    "원 그래프를 그릴 때는 윈의 형태를 유지할 수 있도록 다음 명령을 실행해야 한다.\n",
    "```python\n",
    "pyplot.axis('equal')\n",
    "```\n",
    "\n",
    "참고로 부채꼴이 그려지는 순서는 **시계 역방향**이다. 그리고 **axis('equal')** 로 설정하면 Equal aspect ratio를 사용하여 그려지는 도표의 x축과 y축의 길이 비율이 같도록 설정할 수 있다. 즉, 원 그래프의 데이터나 설정 등에 따라 그려지는 파이가 원이 아닌 타원의 형태로 그려질 수 있는데 x축과 y축의 길이 비율이 같게 하여 원형으로 그려지도록 한다. \n",
    "\n",
    "[matplotlib.pyplot.pie](https://matplotlib.org/3.1.1/api/_as_gen/matplotlib.pyplot.pie.html)\n",
    "- Plot a pie chart.\n",
    "- matplotlib.pyplot.**pie**(_x, explode=None, labels=None, colors=None, autopct=None, pctdistance=0.6, shadow=False, labeldistance=1.1, startangle=None, radius=None, counterclock=True, wedgeprops=None, textprops=None, center=(0, 0), frame=False, rotatelabels=False, \\*, data=None_)\n",
    "    - Make a pie chart of array ***x***. The fractional area of each wedge is given by **x/sum(x)**. If **sum(x) < 1**, then the values of ***x*** give the fractional area directly and the array will not be normalized. The resulting pie will have an empty wedge of **size 1 - sum(x)**.\n",
    "    - The wedges are plotted counterclockwise, by default starting from the x-axis."
   ]
  },
  {
   "cell_type": "code",
   "execution_count": null,
   "id": "2ef123da",
   "metadata": {},
   "outputs": [],
   "source": [
    "ratio = [34, 32, 16, 18]\n",
    "labels = ['Apple', 'Banana', 'Melon', 'Grapes']\n",
    "\n",
    "## type your code ##\n",
    "\n",
    "plt.show();"
   ]
  },
  {
   "cell_type": "markdown",
   "id": "c2a6a967",
   "metadata": {},
   "source": [
    "## 연습문제 3-4\n",
    "\n",
    "이번에는 titanic dataset에서 좌석 클래스에 따른 사람 수를 원 그래프로 나타내고자 한다. 아래의 과정에 따라 코드를 작성해보자.\n",
    "\n",
    "조건은 다음과 같다.\n",
    "- explode를 통하여 2번 좌석 클래스를 0.1만큼 떼어내어 강조한다.\n",
    "- 원 아래에 그림자가 생기도록 한다."
   ]
  },
  {
   "cell_type": "code",
   "execution_count": null,
   "id": "51bd58a4",
   "metadata": {},
   "outputs": [],
   "source": [
    "# titanic dataset에서 pclass 따른 인원 수를 groupby를 이용하여 계산한다.\n",
    "group_titanic = titanic.groupby(['pclass']).count()['survived']\n",
    "group_titanic"
   ]
  },
  {
   "cell_type": "code",
   "execution_count": null,
   "id": "4190f236",
   "metadata": {},
   "outputs": [],
   "source": [
    "# ratio는 전체 data중 각 그룹이 차지하는 비율을 의미한다.\n",
    "# labels는 pclass(1, 2, 3)\n",
    "ratio = group_titanic / len(titanic) * 100\n",
    "labels = group_titanic.index\n",
    "ratio"
   ]
  },
  {
   "cell_type": "code",
   "execution_count": null,
   "id": "bacd23a3",
   "metadata": {},
   "outputs": [],
   "source": [
    "explode = [0, 0.1, 0] # pie graph의 explode\n",
    "\n",
    "## type your code ##\n",
    "# pie graph 그리기 # \n",
    "\n",
    "plt.show();"
   ]
  },
  {
   "cell_type": "markdown",
   "id": "670ab7d5",
   "metadata": {},
   "source": [
    "## 히스토그램"
   ]
  },
  {
   "cell_type": "markdown",
   "id": "6dbf1d0f",
   "metadata": {},
   "source": [
    "히스토그램은 도수분포표를 시각적으로 표현한 막대 그래프다. 즉, 특정 구간에 속하는 자료의 개수를 나타내는 빈도표(frequency table)인 도수분포표를 시각화한 도형으로 비교할 양이나 수치에 대한 구간별 빈도수를 막대 모양의 도형으로 나타낸 그래프다.\n",
    "\n",
    "히스토그램을 작성하려면 **hist()** 메소드를 주로 __hist(_x, bins=None, density=None, weights=None, cumulative=False, histtype='bar', orientation='vertical', rwidth=None, color=None, **kwargs_)__ 형식으로 사용하면 된다.\n",
    "- ***x*** 는 입력되는 데이터 값,  \n",
    "- ***bins*** 는 구간 수, 즉 도형에 들어갈 막대 개수,  \n",
    "- ***density*** 는 확률 밀도를 설정하기 위한 가중치 데이터 정규화. 절대적 수치가 아니라 상대적 비율을 보여준다.  \n",
    "- ***weights*** 는 각 *x* 값에서의 가중치 데이터로 히스토그램에서 y축이라 볼 수 있다.  \n",
    "- ***cumulative*** 는 **bool** 자료형을 입력받는데 **True**이면 *x* 방향으로 진행할수록 가중치 데이터가 축적되어 그래프를 그리며 해당 값을 반환한다. \n",
    "- ***histtype*** 에는 'bar', 'barstacked', 'step', 'stepfilled' 등이 있는데,\n",
    "    + 'bar'는 전통적인 형태의 막대 히스토그램(기본값),  \n",
    "    + 'barstacked'는 누적 막대 히스토그램,  \n",
    "    + 'step'은 안이 비어 있는 선 히스토그램  \n",
    "    + 'stepfilled'는 안이 차 있는 선 히스토그램을 그려준다. \n",
    "    + 아래 링크에서 더 자세한 내용을 확인할 수 있다.\n",
    "        - https://matplotlib.org/3.1.1/gallery/statistics/histogram_histtypes.html#sphx-glr-gallery-statistics-histogram-histtypes-py\n",
    "- ***orientation*** 은 막대가 그려지는 방향을 설정하는데 'horizontal'과 'vertical'이 있다. \n",
    "    + 'vertical'은 세로로 그려주며(기본값)\n",
    "    + 'horizontal'은 가로로 그려준다.\n",
    "- ***rwidth*** 는 막대의 상대적인 크기다. 단, ***histtype*** 이 'step'이나 'stepfilled'면 ***rwidth*** 값은 무시한다.\n",
    "- ***color*** 는 막대의 색깔을 지정한다. 지정하지 않으면 기본값이 적용된다.\n",
    "- ***facecolor*** 는 막대의 색깔을 통일하여 지정한다. ***facecolor*** 를 설정하면, 입력되는 데이터 값 ***x***가 다차원 리스트일 경우 ***color*** 로 일일이 지정하지 않고 전체 막대들의 색상을 한번에 설정할 수 있다.\n",
    "    + 히스토그램의 데이터가 한 개가 아니고 여러 개면 막대의 color를 선택할 때는 각 데이터마다 하나씩 색상을 설정해야 한다. 예를 들어, 1차원 리스트 3개를 리스트로 담고 있는 2차원 리스트의 데이터가 있다면 색상을 설정할 때 **color=['g', 'g', 'g']** 와 같이 작성해야 한다. 만약 여러 개의 데이터를 하나의 색깔로 지정하려면 키워드 매개변수 중 ***facecolor*** 를 사용해서 색깔을 설정하면 여러 데이터로 그려지는 전체 막대들의 색상을 통일할 수 있다. 즉, 색상을 설정할 때 **facecolor='g'** 로 하면 모든 막대의 색상을 초록색으로 통일할 수 있다. 이 ***facecolor*** 매개변수는 어떤 메소드의 변수로 사용되냐에 따라 막대, 축, 그래프의 배경 색상 등을 설정할 수 있다. 더 자세한 내용은 아래의 링크에서 확인할 수 있다.\n",
    "        - https://matplotlib.org/api/_as_gen/matplotlib.patches.Patch.html#matplotlib.patches.Patch.set_facecolor\n",
    "- ***alpha*** 는 막대의 투명도를 설정한다. **0~1** 사이의 값을 가지며 **0**에 가까울수록 투명, **1**에 가까울수록 불투명한 막대가 생성된다.\n",
    "- 더 자세한 내용은 아래의 링크에서 확인할 수 있다.\n",
    "    + https://matplotlib.org/3.1.1/api/_as_gen/matplotlib.pyplot.hist.html \n",
    "    \n",
    "[matplotlib.pyplot.hist](https://matplotlib.org/3.1.1/api/_as_gen/matplotlib.pyplot.hist.html)    \n",
    "- Plot a histogram.\n",
    "- matplotlib.pyplot.**hist**(_x, bins=None, range=None, density=None, weights=None, cumulative=False, bottom=None, histtype='bar', align='mid', orientation='vertical', rwidth=None, log=False, color=None, label=None, stacked=False, normed=None, \\*, data=None, \\**kwargs_)\n",
    "    - Compute and draw the histogram of ***x***. The return value is a tuple **(n, bins, patches)** or **([n0, n1, ...], bins, [patches0, patches1,...])** if the input contains multiple data. See the documentation of the ***weights*** parameter to draw a histogram of already-binned data.\n",
    "    - Multiple data can be provided via ***x*** as a list of datasets of potentially different length **([x0, x1, ...])**, or as a 2-D ndarray in which each column is a dataset. Note that the ndarray form is transposed relative to the list form."
   ]
  },
  {
   "cell_type": "code",
   "execution_count": null,
   "id": "0c8774da",
   "metadata": {},
   "outputs": [],
   "source": [
    "# 몸무게 data의 histogram\n",
    "weight = [68, 81, 64, 56, 78, 74, 61, 77, 66, 68, 59, 71,\n",
    "          80, 59, 67, 81, 69, 73, 69, 74, 70, 65]\n",
    "\n",
    "## type your code ##\n",
    "\n",
    "plt.show();"
   ]
  },
  {
   "cell_type": "code",
   "execution_count": null,
   "id": "99e954cc",
   "metadata": {},
   "outputs": [],
   "source": [
    "# 키 data의 histogram\n",
    "height = [\n",
    "    140, 146, 154, 156, 156, 158, 160, 161, 162, 163, 164, 165, \n",
    "    170, 171, 172, 172, 173, 174, 177, 179, 180, 181, 185, 188, 190\n",
    "]\n",
    "\n",
    "## type your code ##\n",
    "\n",
    "plt.show();"
   ]
  },
  {
   "cell_type": "markdown",
   "id": "1de09316",
   "metadata": {},
   "source": [
    "## 박스 그래프 (boxplot)"
   ]
  },
  {
   "cell_type": "markdown",
   "id": "3aca0c66",
   "metadata": {},
   "source": [
    "박스 그래프는 데이터의 분포를 시각적으로 표현한 박스 모양의 그래프다. 데이터의 범위, 중앙값과 이상치를 빠르게 확인할 수 있는 장점이 있다.\n",
    "\n",
    "박스 그래프를 작성하려면 **boxplot** 메소드를 주로 **boxplot(*x, notch=None, sym=None, vert=None, labels=None*)** 형식으로 사용하면 된다.\n",
    "- ***x*** 는 입력되는 데이터 값이다.  \n",
    "- ***notch*** 는 ***bool*** 자료형을 입력받으며 **True**면 잘록한 박스 그래프(notched box plot)를 그려 중앙값의 신뢰 구간을 표현한다. \n",
    "- ***sym*** 는 문자열을 입력받아 박스 그래프에서 이상치들을 어떤 모양으로 표시할지 설정한다. \n",
    "    + 기본값으로 'o' 모양이 설정되어 있으며 이상치를 표시하지 않기 위해서는 **sym=''**로 설정하면 된다.  \n",
    "- ***vert*** 는 ***bool*** 자료형을 입력받으며 **True**면 박스 그래프를 세로로, **False**이면 가로로 작성한다. \n",
    "    + 기본값은 **True**다.  \n",
    "- ***labels*** 는 박스를 라벨링할 때 사용된다. \n",
    "    + ***labels*** 의 길이는 입력되는 데이터 ***x*** 의 차원과 같아야 한다.\n",
    "- 더 자세한 내용은 아래의 링크에서 확인할 수 있다.\n",
    "    + https://matplotlib.org/api/_as_gen/matplotlib.pyplot.boxplot.html\n",
    "\n",
    "[matplotlib.pyplot.boxplot](https://matplotlib.org/api/_as_gen/matplotlib.pyplot.boxplot.html)\n",
    "- Make a box and whisker plot.\n",
    "- matplotlib.pyplot.**boxplot**(*x, notch=None, sym=None, vert=None, whis=None, positions=None, widths=None, patch_artist=None, bootstrap=None, usermedians=None, conf_intervals=None, meanline=None, showmeans=None, showcaps=None, showbox=None, showfliers=None, boxprops=None, labels=None, flierprops=None, medianprops=None, meanprops=None, capprops=None, whiskerprops=None, manage_ticks=True, autorange=False, zorder=None, data=None*)\n",
    "    - Make a box and whisker plot for each column of ***x*** or each vector in sequence ***x***. \n",
    "    - The box extends from the lower to upper quartile values of the data, with a line at the median. \n",
    "    - The whiskers extend from the box to show the range of the data. Flier points are those past the end of the whiskers.\n",
    "    \n",
    "[matplotlib.pyplot.grid](https://matplotlib.org/api/_as_gen/matplotlib.pyplot.grid.html#matplotlib.pyplot.grid)\n",
    "- Configure the grid lines."
   ]
  },
  {
   "cell_type": "code",
   "execution_count": null,
   "id": "b865bbd6",
   "metadata": {},
   "outputs": [],
   "source": [
    "data_a = np.random.normal(0, 2.0, 1000)\n",
    "data_b = np.random.normal(-3.0, 1.5, 500)\n",
    "data_c = np.random.normal(1.2, 1.5, 1500)\n",
    "\n",
    "## type your code ##\n",
    "\n",
    "plt.show();"
   ]
  },
  {
   "cell_type": "code",
   "execution_count": null,
   "id": "6049b297",
   "metadata": {},
   "outputs": [],
   "source": [
    "# 두 남자 그룹의 몸무게를 박스 그래프로 설정\n",
    "male1_weights = [\n",
    "    53, 59, 66, 67, 68, 70, 73, 74, 75, 78, \n",
    "    81, 82, 85, 90, 90, 91, 120, 130\n",
    "]\n",
    "\n",
    "male2_weights = [\n",
    "    58, 61, 64, 67, 68, 71, 75, 77, 79,\n",
    "    83, 84, 85, 89, 91, 93, 94, 121, 127\n",
    "]\n",
    "\n",
    "## type your code ##\n",
    "\n",
    "plt.show();"
   ]
  },
  {
   "cell_type": "markdown",
   "id": "d8d6c894",
   "metadata": {},
   "source": [
    "## 산점도"
   ]
  },
  {
   "cell_type": "markdown",
   "id": "a2722863",
   "metadata": {},
   "source": [
    "산점도는 두 변수 간의 관계를 좌표평면 상에 점으로 나타내는 그래프이다.\n",
    "\n",
    "산점도를 작성하려면 **scatter** 메소드를 주로 **scatter(*x, y, s=None, c=None, marker=None, alpha=None*)** 형식으로 사용하면 된다.\n",
    "- ***x*** 와 ***y*** 는 입력되는 데이터 값이다.  \n",
    "- ***s*** 는 마커의 크기를 설정한다.   \n",
    "- ***c*** 는 마커의 색상을 설정한다.  \n",
    "- ***marker*** 는 마커의 모양을 설정한다. \n",
    "- 마커의 모양에는 'o', 'v', '*' 등이 있다.  \n",
    "- ***alpha*** 는 마커의 투명도를 설정한다. \n",
    "    + **0~1** 사이의 값을 가지며 **0**에 가까울수록 투명, \n",
    "    + **1**에 가까울수록 불투명한 마커가 생성된다.\n",
    "- 더 자세한 내용은 아래의 링크에서 확인할 수 있다.\n",
    "    + https://matplotlib.org/api/_as_gen/matplotlib.pyplot.scatter.html\n",
    "\n",
    "[matplotlib.pyplot.scatter](https://matplotlib.org/api/_as_gen/matplotlib.pyplot.scatter.html)\n",
    "- Make a scatter plot.\n",
    "- matplotlib.pyplot.**scatter**(_x, y, s=None, c=None, marker=None, cmap=None, norm=None, vmin=None, vmax=None, alpha=None, linewidths=None, verts=None, edgecolors=None, \\*, plotnonfinite=False, data=None, \\**kwargs_)\n",
    "    - A scatter plot of ***y*** vs ***x*** with varying marker size and/or color."
   ]
  },
  {
   "cell_type": "code",
   "execution_count": null,
   "id": "1497a58b",
   "metadata": {},
   "outputs": [],
   "source": [
    "np.random.seed(0)\n",
    "\n",
    "n = 50\n",
    "x = np.random.rand(n)\n",
    "y = np.random.rand(n)\n",
    "\n",
    "## type your code ##\n",
    "\n",
    "plt.show();"
   ]
  },
  {
   "cell_type": "code",
   "execution_count": null,
   "id": "dbbd9071",
   "metadata": {},
   "outputs": [],
   "source": [
    "# 성인 남성들의 나이와 몸무게 데이터를 산점도로 설정한다.\n",
    "age = [\n",
    "    20, 20, 21, 22, 23, 24, 25, 26, 27, 28, 29,\n",
    "    30, 33, 37, 38, 39, 40, 40, 40, 40, 40, 40, 41, 41, 41\n",
    "]\n",
    "weight = [\n",
    "    78, 65, 54, 59, 67, 80, 90, 83, 100, 64, 75,\n",
    "    89, 89, 66, 68, 75, 79, 93, 88, 78, 83, 89, 78, 71, 82\n",
    "]\n",
    "\n",
    "## type your code ##\n",
    "\n",
    "plt.show();"
   ]
  },
  {
   "cell_type": "markdown",
   "id": "a083d10d",
   "metadata": {},
   "source": [
    "## 연습문제 3-5\n",
    "\n",
    "이번에는 titanic dataset에서 embarked type별 요금(fare)의 분포를 알아보고자 한다. 즉, 세가지 embarked type S, C, Q에 대해, 각각의 fare의 boxplot을 그리면 된다. 아래의 과정에 따라 코드를 작성해보자.\n",
    "\n",
    "조건은 다음과 같다.\n",
    "- title은 \"embarked type에 따른 요금의 boxplot\"이다.\n",
    "- ylabel은 \"요금\"이다.\n",
    "- embarked type에 따른 boxplot을 그린다.\n",
    "- xticks는 S, C, Q로 설정해야 한다."
   ]
  },
  {
   "cell_type": "code",
   "execution_count": null,
   "id": "580e9ab2",
   "metadata": {},
   "outputs": [],
   "source": [
    "# embarked type에 따른 df 분류\n",
    "embarked_S = titanic[titanic['embarked']=='S']\n",
    "embarked_C = titanic[titanic['embarked']=='C']\n",
    "embarked_Q = titanic[titanic['embarked']=='Q']\n",
    "\n",
    "# x는 embarked type name, y1~y3는 각각 embarked type이 S, C, Q일 때의 fare\n",
    "x = ['S', 'C', 'Q']\n",
    "y1 = embarked_S['fare']\n",
    "y2 = embarked_C['fare']\n",
    "y3 = embarked_Q['fare']"
   ]
  },
  {
   "cell_type": "code",
   "execution_count": null,
   "id": "4b48c79c",
   "metadata": {},
   "outputs": [],
   "source": [
    "plt.figure(figsize=(8, 5))\n",
    "\n",
    "## type your code ##\n",
    "plt.title(# type #) # title 설정\n",
    "plt.ylabel(# type #) # y label 설정\n",
    "    \n",
    "# box plot 그리기 #\n",
    "\n",
    "plt.xticks(# type #) # x ticks 설정\n",
    "\n",
    "plt.show();"
   ]
  },
  {
   "cell_type": "markdown",
   "id": "5a21ba82",
   "metadata": {},
   "source": [
    "## 연습문제 3-6\n",
    "\n",
    "이번에는 titanic dataset 전체에 대해 요금(fare)과 나이(age) 사이의 산점도를 그려보고자 한다. 아래의 과정에 따라 코드를 작성해보자.\n",
    "\n",
    "조건은 다음과 같다.\n",
    "- title은 \"요금과 나이 간의 산점도\"이다.\n",
    "- xlabel은 \"요금\", ylabel은 \"나이\"이다.\n",
    "- scatter plot에서 x축이 요금, y축이 나이이며, marker의 색상은 초록색(green), marker의 사이즈는 10, marker type은 square로 설정한다."
   ]
  },
  {
   "cell_type": "code",
   "execution_count": null,
   "id": "0aa026d6",
   "metadata": {},
   "outputs": [],
   "source": [
    "# 요금(fare)과 나이(age) 변수 선언\n",
    "fare = titanic.fare\n",
    "age = titanic.age"
   ]
  },
  {
   "cell_type": "code",
   "execution_count": null,
   "id": "0b7fd969",
   "metadata": {},
   "outputs": [],
   "source": [
    "plt.figure(figsize=(10, 7))\n",
    "\n",
    "## type your code ##\n",
    "# title, xlabel, ylabel 설정 #\n",
    "\n",
    "# 산점도 그리기 #\n",
    "\n",
    "plt.show();"
   ]
  },
  {
   "cell_type": "markdown",
   "id": "86b486e9",
   "metadata": {},
   "source": [
    "<img src='https://t3.ftcdn.net/jpg/02/92/36/76/360_F_292367633_TwzHFo2XLSSbcihgxESm2sKcQ0NlwrIG.jpg' alt=\"The end\" />"
   ]
  }
 ],
 "metadata": {
  "kernelspec": {
   "display_name": "Python 3 (ipykernel)",
   "language": "python",
   "name": "python3"
  },
  "language_info": {
   "codemirror_mode": {
    "name": "ipython",
    "version": 3
   },
   "file_extension": ".py",
   "mimetype": "text/x-python",
   "name": "python",
   "nbconvert_exporter": "python",
   "pygments_lexer": "ipython3",
   "version": "3.9.7"
  }
 },
 "nbformat": 4,
 "nbformat_minor": 5
}
