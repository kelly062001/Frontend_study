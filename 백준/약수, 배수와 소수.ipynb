{
 "cells": [
  {
   "cell_type": "code",
   "execution_count": null,
   "metadata": {},
   "outputs": [],
   "source": [
    "\n",
    "while (True):\n",
    "    i,j=map(int, input().split())\n",
    "    if i>j :\n",
    "        if i%j==0:\n",
    "            print('multiple')\n",
    "        else:\n",
    "            print('neither')\n",
    "    elif i==j and (i!=0 and j!=0):\n",
    "        print('factor')\n",
    "    else:\n",
    "        if j%i==0:\n",
    "            print('factor')\n",
    "        else:\n",
    "            print('neither')\n",
    "    \n",
    "    if i==0 and j ==0:\n",
    "        break\n",
    "\n"
   ]
  },
  {
   "cell_type": "code",
   "execution_count": 26,
   "metadata": {},
   "outputs": [
    {
     "name": "stdout",
     "output_type": "stream",
     "text": [
      "-1\n"
     ]
    }
   ],
   "source": [
    "m= int(input())\n",
    "n= int(input())\n",
    "\n",
    "prime_list=[]\n",
    "\n",
    "for i in range(m,n+1):\n",
    "    prime_num=0\n",
    "    for j in range(1,i+1):\n",
    "        if i%j==0:\n",
    "            prime_num+=1\n",
    "    if prime_num==2:\n",
    "        prime_list.append(i)\n",
    "            \n",
    "\n",
    "if len(prime_list)==0:\n",
    "    print(-1)\n",
    "else:\n",
    "    prime_sum=0\n",
    "    for i in range (len(prime_list)):\n",
    "        prime_sum+=prime_list[i]\n",
    "    print(prime_sum)\n",
    "    print(min(prime_list))"
   ]
  },
  {
   "cell_type": "code",
   "execution_count": null,
   "metadata": {},
   "outputs": [],
   "source": []
  },
  {
   "cell_type": "code",
   "execution_count": null,
   "metadata": {},
   "outputs": [],
   "source": []
  }
 ],
 "metadata": {
  "kernelspec": {
   "display_name": "base",
   "language": "python",
   "name": "python3"
  },
  "language_info": {
   "codemirror_mode": {
    "name": "ipython",
    "version": 3
   },
   "file_extension": ".py",
   "mimetype": "text/x-python",
   "name": "python",
   "nbconvert_exporter": "python",
   "pygments_lexer": "ipython3",
   "version": "3.9.7"
  },
  "orig_nbformat": 4
 },
 "nbformat": 4,
 "nbformat_minor": 2
}
