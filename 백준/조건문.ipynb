{
 "cells": [
  {
   "cell_type": "code",
   "execution_count": 4,
   "id": "f9bf72f7",
   "metadata": {},
   "outputs": [
    {
     "ename": "ValueError",
     "evalue": "not enough values to unpack (expected 2, got 0)",
     "output_type": "error",
     "traceback": [
      "\u001b[1;31m---------------------------------------------------------------------------\u001b[0m",
      "\u001b[1;31mValueError\u001b[0m                                Traceback (most recent call last)",
      "\u001b[1;32m~\\AppData\\Local\\Temp/ipykernel_30864/3400376881.py\u001b[0m in \u001b[0;36m<module>\u001b[1;34m\u001b[0m\n\u001b[1;32m----> 1\u001b[1;33m \u001b[0ma\u001b[0m\u001b[1;33m,\u001b[0m\u001b[0mb\u001b[0m \u001b[1;33m=\u001b[0m \u001b[0mmap\u001b[0m\u001b[1;33m(\u001b[0m\u001b[0mint\u001b[0m\u001b[1;33m,\u001b[0m \u001b[0minput\u001b[0m\u001b[1;33m(\u001b[0m\u001b[1;33m)\u001b[0m\u001b[1;33m.\u001b[0m\u001b[0msplit\u001b[0m\u001b[1;33m(\u001b[0m\u001b[1;33m)\u001b[0m\u001b[1;33m)\u001b[0m\u001b[1;33m\u001b[0m\u001b[1;33m\u001b[0m\u001b[0m\n\u001b[0m\u001b[0;32m      2\u001b[0m \u001b[1;32mif\u001b[0m \u001b[0ma\u001b[0m\u001b[1;33m>\u001b[0m\u001b[0mb\u001b[0m\u001b[1;33m:\u001b[0m\u001b[1;33m\u001b[0m\u001b[1;33m\u001b[0m\u001b[0m\n\u001b[0;32m      3\u001b[0m     \u001b[0mprint\u001b[0m\u001b[1;33m(\u001b[0m\u001b[1;34m'>'\u001b[0m\u001b[1;33m)\u001b[0m\u001b[1;33m\u001b[0m\u001b[1;33m\u001b[0m\u001b[0m\n\u001b[0;32m      4\u001b[0m \u001b[1;32melif\u001b[0m \u001b[0ma\u001b[0m\u001b[1;33m<\u001b[0m\u001b[0mb\u001b[0m\u001b[1;33m:\u001b[0m\u001b[1;33m\u001b[0m\u001b[1;33m\u001b[0m\u001b[0m\n\u001b[0;32m      5\u001b[0m     \u001b[0mprint\u001b[0m\u001b[1;33m(\u001b[0m\u001b[1;34m'<'\u001b[0m\u001b[1;33m)\u001b[0m\u001b[1;33m\u001b[0m\u001b[1;33m\u001b[0m\u001b[0m\n",
      "\u001b[1;31mValueError\u001b[0m: not enough values to unpack (expected 2, got 0)"
     ]
    }
   ],
   "source": [
    "a,b = map(int, input().split())\n",
    "if a>b:\n",
    "    print('>')\n",
    "elif a<b:\n",
    "    print('<')\n",
    "else:\n",
    "    print('==')"
   ]
  },
  {
   "cell_type": "code",
   "execution_count": 2,
   "id": "c026e0d0",
   "metadata": {},
   "outputs": [
    {
     "name": "stdout",
     "output_type": "stream",
     "text": [
      "68\n",
      "D\n"
     ]
    }
   ],
   "source": [
    "a=int(input())\n",
    "if a>=90 and a<=100:\n",
    "    print('A')\n",
    "elif a>=80 and a<=89:\n",
    "    print('B')\n",
    "elif a>=70 and a<=79:\n",
    "    print('C')\n",
    "elif a>=60 and a<=69:\n",
    "    print('D')\n",
    "else:\n",
    "    print('F')\n"
   ]
  },
  {
   "cell_type": "code",
   "execution_count": 7,
   "id": "09c3fa5b",
   "metadata": {},
   "outputs": [
    {
     "name": "stdout",
     "output_type": "stream",
     "text": [
      "1900\n",
      "0\n"
     ]
    }
   ],
   "source": [
    "a=int(input())\n",
    "if ((a%4==0)and(a%100!=0)or(a%400==0)):\n",
    "    print('1')\n",
    "else:\n",
    "    print('0')"
   ]
  },
  {
   "cell_type": "code",
   "execution_count": 9,
   "id": "949d5cb7",
   "metadata": {},
   "outputs": [
    {
     "name": "stdout",
     "output_type": "stream",
     "text": [
      "9\n",
      "-13\n",
      "4\n"
     ]
    }
   ],
   "source": [
    "x=int(input())\n",
    "y=int(input())\n",
    "\n",
    "if x*y>0:\n",
    "    if x>0:\n",
    "        print('1')\n",
    "    else:\n",
    "        print('3')\n",
    "else:\n",
    "    if x<0:\n",
    "        print('2')\n",
    "    else:\n",
    "        print('4')\n",
    "    "
   ]
  },
  {
   "cell_type": "code",
   "execution_count": 20,
   "id": "440f2d50",
   "metadata": {},
   "outputs": [
    {
     "name": "stdout",
     "output_type": "stream",
     "text": [
      "1 15\n",
      "0 30\n"
     ]
    }
   ],
   "source": [
    "h, m = map(int, input().split())\n",
    "if m >= 45:\n",
    "    m-=45\n",
    "    print(h,m)\n",
    "else:\n",
    "    if h==0:\n",
    "        h=23\n",
    "        m+=15\n",
    "    else:\n",
    "        h=h-1\n",
    "        m+=15\n",
    "    print(h,m)"
   ]
  },
  {
   "cell_type": "code",
   "execution_count": 14,
   "id": "324e29b9",
   "metadata": {},
   "outputs": [
    {
     "name": "stdout",
     "output_type": "stream",
     "text": [
      "14 50\n"
     ]
    }
   ],
   "source": [
    "h, m = map(int, input().split())\n",
    "c= int(input())\n",
    "c_hour= int(c/60)\n",
    "c_min=c%60\n",
    "\n",
    "if m+c_min >=60:\n",
    "    h=h+1+c_hour\n",
    "    if h >=24:\n",
    "        h-=24\n",
    "    m=m+c_min-60\n",
    "else:\n",
    "    h=h+c_hour\n",
    "    if h >=24:\n",
    "        h-=24\n",
    "    m=m+c_min\n",
    "\n",
    "\n",
    "print(h,m)"
   ]
  },
  {
   "cell_type": "code",
   "execution_count": 28,
   "id": "3eb424e6",
   "metadata": {},
   "outputs": [
    {
     "name": "stdout",
     "output_type": "stream",
     "text": [
      "[2, 5, 6]\n",
      "600\n"
     ]
    }
   ],
   "source": [
    "nums=list(map(int, input().split()))\n",
    "nums.sort()\n",
    "print(nums)\n",
    "if nums[0]==nums[1] and nums[1]==nums[2]:\n",
    "    print(10000+nums[1]*1000)\n",
    "elif nums[0]<nums[1] and nums[1]<nums[2]:\n",
    "    print(nums[2]*100)\n",
    "else:\n",
    "    if nums[0]==nums[1]:\n",
    "        print(1000+nums[0]*100)\n",
    "    else:\n",
    "        print(1000+nums[1]*100)"
   ]
  },
  {
   "cell_type": "code",
   "execution_count": null,
   "id": "bcf20192",
   "metadata": {},
   "outputs": [],
   "source": []
  },
  {
   "cell_type": "code",
   "execution_count": null,
   "id": "b3ddbf5b",
   "metadata": {},
   "outputs": [],
   "source": []
  }
 ],
 "metadata": {
  "kernelspec": {
   "display_name": "Python 3 (ipykernel)",
   "language": "python",
   "name": "python3"
  },
  "language_info": {
   "codemirror_mode": {
    "name": "ipython",
    "version": 3
   },
   "file_extension": ".py",
   "mimetype": "text/x-python",
   "name": "python",
   "nbconvert_exporter": "python",
   "pygments_lexer": "ipython3",
   "version": "3.9.7"
  }
 },
 "nbformat": 4,
 "nbformat_minor": 5
}
