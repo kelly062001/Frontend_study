{
 "cells": [
  {
   "cell_type": "code",
   "execution_count": 1,
   "id": "f9bf72f7",
   "metadata": {},
   "outputs": [
    {
     "name": "stdout",
     "output_type": "stream",
     "text": [
      "3 4\n",
      "<\n"
     ]
    }
   ],
   "source": [
    "a,b = map(int, input().split())\n",
    "if a>b:\n",
    "    print('>')\n",
    "elif a<b:\n",
    "    print('<')\n",
    "else:\n",
    "    print('==')"
   ]
  },
  {
   "cell_type": "code",
   "execution_count": 2,
   "id": "c026e0d0",
   "metadata": {},
   "outputs": [
    {
     "name": "stdout",
     "output_type": "stream",
     "text": [
      "68\n",
      "D\n"
     ]
    }
   ],
   "source": [
    "a=int(input())\n",
    "if a>=90 and a<=100:\n",
    "    print('A')\n",
    "elif a>=80 and a<=89:\n",
    "    print('B')\n",
    "elif a>=70 and a<=79:\n",
    "    print('C')\n",
    "elif a>=60 and a<=69:\n",
    "    print('D')\n",
    "else:\n",
    "    print('F')\n"
   ]
  },
  {
   "cell_type": "code",
   "execution_count": 7,
   "id": "09c3fa5b",
   "metadata": {},
   "outputs": [
    {
     "name": "stdout",
     "output_type": "stream",
     "text": [
      "1900\n",
      "0\n"
     ]
    }
   ],
   "source": [
    "a=int(input())\n",
    "if ((a%4==0)and(a%100!=0)or(a%400==0)):\n",
    "    print('1')\n",
    "else:\n",
    "    print('0')"
   ]
  },
  {
   "cell_type": "code",
   "execution_count": 9,
   "id": "949d5cb7",
   "metadata": {},
   "outputs": [
    {
     "name": "stdout",
     "output_type": "stream",
     "text": [
      "9\n",
      "-13\n",
      "4\n"
     ]
    }
   ],
   "source": [
    "x=int(input())\n",
    "y=int(input())\n",
    "\n",
    "if x*y>0:\n",
    "    if x>0:\n",
    "        print('1')\n",
    "    else:\n",
    "        print('3')\n",
    "else:\n",
    "    if x<0:\n",
    "        print('2')\n",
    "    else:\n",
    "        print('4')\n",
    "    "
   ]
  },
  {
   "cell_type": "code",
   "execution_count": 20,
   "id": "440f2d50",
   "metadata": {},
   "outputs": [
    {
     "name": "stdout",
     "output_type": "stream",
     "text": [
      "1 15\n",
      "0 30\n"
     ]
    }
   ],
   "source": [
    "h, m = map(int, input().split())\n",
    "if m >= 45:\n",
    "    m-=45\n",
    "    print(h,m)\n",
    "else:\n",
    "    if h==0:\n",
    "        h=23\n",
    "        m+=15\n",
    "    else:\n",
    "        h=h-1\n",
    "        m+=15\n",
    "    print(h,m)"
   ]
  },
  {
   "cell_type": "code",
   "execution_count": 5,
   "id": "2edf4630",
   "metadata": {},
   "outputs": [
    {
     "name": "stdout",
     "output_type": "stream",
     "text": [
      "23 48\n",
      "25\n",
      "0 13\n"
     ]
    }
   ],
   "source": [
    "h, m = map(int, input().split())\n",
    "c= int(input())\n",
    "c_hour= int(c/60)\n",
    "c_min=c%60\n",
    "\n",
    "if m+c_min >=60:\n",
    "    h=h+1+c_hour\n",
    "    if h >=24:\n",
    "        h-=24\n",
    "    m=m+c_min-60\n",
    "else:\n",
    "    h=h+c_hour\n",
    "    if h >=24:\n",
    "        h-=24\n",
    "    m=m+c_min\n",
    "\n",
    "\n",
    "print(h,m)"
   ]
  },
  {
   "cell_type": "code",
   "execution_count": null,
   "id": "06bcaa53",
   "metadata": {},
   "outputs": [],
   "source": []
  }
 ],
 "metadata": {
  "kernelspec": {
   "display_name": "Python 3 (ipykernel)",
   "language": "python",
   "name": "python3"
  },
  "language_info": {
   "codemirror_mode": {
    "name": "ipython",
    "version": 3
   },
   "file_extension": ".py",
   "mimetype": "text/x-python",
   "name": "python",
   "nbconvert_exporter": "python",
   "pygments_lexer": "ipython3",
   "version": "3.9.7"
  }
 },
 "nbformat": 4,
 "nbformat_minor": 5
}
