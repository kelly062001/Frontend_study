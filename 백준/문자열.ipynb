{
 "cells": [
  {
   "cell_type": "code",
   "execution_count": 1,
   "metadata": {},
   "outputs": [
    {
     "name": "stdout",
     "output_type": "stream",
     "text": [
      "r\n"
     ]
    }
   ],
   "source": [
    "s=list(input())\n",
    "i=int(input())\n",
    "\n",
    "print(s[i-1])"
   ]
  },
  {
   "cell_type": "code",
   "execution_count": 2,
   "metadata": {},
   "outputs": [
    {
     "name": "stdout",
     "output_type": "stream",
     "text": [
      "9\n"
     ]
    }
   ],
   "source": [
    "s=list(input())\n",
    "print(len(s))"
   ]
  },
  {
   "cell_type": "code",
   "execution_count": 10,
   "metadata": {},
   "outputs": [
    {
     "name": "stdout",
     "output_type": "stream",
     "text": [
      "AE\n",
      "00\n",
      "av\n"
     ]
    }
   ],
   "source": [
    "t=int(input())\n",
    "\n",
    "for i in range(t):\n",
    "    someword=list(input())\n",
    "    print(someword[0]+someword[-1], end=\"\")\n",
    "    print()"
   ]
  },
  {
   "cell_type": "code",
   "execution_count": 22,
   "metadata": {},
   "outputs": [
    {
     "name": "stdout",
     "output_type": "stream",
     "text": [
      "122\n"
     ]
    }
   ],
   "source": [
    "a=input()\n",
    "\n",
    "print(ord(a))"
   ]
  },
  {
   "cell_type": "code",
   "execution_count": 21,
   "metadata": {},
   "outputs": [
    {
     "name": "stdout",
     "output_type": "stream",
     "text": [
      "7\n"
     ]
    }
   ],
   "source": [
    "n=int(input())\n",
    "num_list=list(input())\n",
    "num_sum=0\n",
    "for i in range(n):\n",
    "    num_sum=num_sum+int(num_list[i])\n",
    "    \n",
    "print(num_sum)"
   ]
  },
  {
   "cell_type": "code",
   "execution_count": 25,
   "metadata": {},
   "outputs": [
    {
     "name": "stdout",
     "output_type": "stream",
     "text": [
      "1 -1 -1 -1 -1 4 -1 -1 -1 2 0 -1 -1 -1 -1 -1 -1 -1 3 -1 -1 -1 -1 -1 -1 -1 "
     ]
    }
   ],
   "source": [
    "s=list(input())\n",
    "\n",
    "for i in range(97,123 ):\n",
    "    try:\n",
    "        s_index=s.index(chr(i))\n",
    "        print(s_index, end=\" \")\n",
    "    except:\n",
    "        print(-1, end=\" \")"
   ]
  },
  {
   "cell_type": "code",
   "execution_count": 30,
   "metadata": {},
   "outputs": [
    {
     "name": "stdout",
     "output_type": "stream",
     "text": [
      "AAABBBCCC\n",
      "/////HHHHHTTTTTPPPPP\n"
     ]
    }
   ],
   "source": [
    "t=int(input())\n",
    "for i in range(t):\n",
    "    a,b=map(str,input().split())\n",
    "    a=int(a)\n",
    "    b_len=len(b)\n",
    "    for j in range(b_len):\n",
    "        print(b[j]*a, end=\"\")\n",
    "    print()\n",
    "\n"
   ]
  },
  {
   "cell_type": "code",
   "execution_count": 12,
   "metadata": {},
   "outputs": [
    {
     "ename": "IndexError",
     "evalue": "list index out of range",
     "output_type": "error",
     "traceback": [
      "\u001b[1;31m---------------------------------------------------------------------------\u001b[0m",
      "\u001b[1;31mIndexError\u001b[0m                                Traceback (most recent call last)",
      "\u001b[1;32m~\\AppData\\Local\\Temp/ipykernel_43900/673413532.py\u001b[0m in \u001b[0;36m<module>\u001b[1;34m\u001b[0m\n\u001b[0;32m      6\u001b[0m     \u001b[1;32mwhile\u001b[0m \u001b[1;33m(\u001b[0m\u001b[1;32mTrue\u001b[0m\u001b[1;33m)\u001b[0m\u001b[1;33m:\u001b[0m\u001b[1;33m\u001b[0m\u001b[1;33m\u001b[0m\u001b[0m\n\u001b[0;32m      7\u001b[0m         \u001b[0mi\u001b[0m\u001b[1;33m+=\u001b[0m\u001b[1;36m1\u001b[0m\u001b[1;33m\u001b[0m\u001b[1;33m\u001b[0m\u001b[0m\n\u001b[1;32m----> 8\u001b[1;33m         \u001b[1;32mif\u001b[0m \u001b[1;33m(\u001b[0m\u001b[0ms\u001b[0m\u001b[1;33m[\u001b[0m\u001b[0mi\u001b[0m\u001b[1;33m]\u001b[0m\u001b[1;33m>\u001b[0m\u001b[1;34m'A'\u001b[0m \u001b[1;32mand\u001b[0m \u001b[0ms\u001b[0m\u001b[1;33m[\u001b[0m\u001b[0mi\u001b[0m\u001b[1;33m]\u001b[0m\u001b[1;33m<\u001b[0m\u001b[1;34m'Z'\u001b[0m\u001b[1;33m)\u001b[0m \u001b[1;32mor\u001b[0m \u001b[1;33m(\u001b[0m\u001b[0ms\u001b[0m\u001b[1;33m[\u001b[0m\u001b[0mi\u001b[0m\u001b[1;33m]\u001b[0m\u001b[1;33m>\u001b[0m\u001b[1;34m'a'\u001b[0m \u001b[1;32mand\u001b[0m \u001b[0ms\u001b[0m\u001b[1;33m[\u001b[0m\u001b[0mi\u001b[0m\u001b[1;33m]\u001b[0m\u001b[1;33m<\u001b[0m\u001b[1;34m'z'\u001b[0m\u001b[1;33m)\u001b[0m\u001b[1;33m:\u001b[0m\u001b[1;33m\u001b[0m\u001b[1;33m\u001b[0m\u001b[0m\n\u001b[0m\u001b[0;32m      9\u001b[0m             \u001b[0mfirst_char\u001b[0m\u001b[1;33m=\u001b[0m\u001b[0mi\u001b[0m\u001b[1;33m\u001b[0m\u001b[1;33m\u001b[0m\u001b[0m\n\u001b[0;32m     10\u001b[0m             \u001b[1;32mbreak\u001b[0m\u001b[1;33m\u001b[0m\u001b[1;33m\u001b[0m\u001b[0m\n",
      "\u001b[1;31mIndexError\u001b[0m: list index out of range"
     ]
    }
   ],
   "source": [
    "s=list(input())\n",
    "i=0\n",
    "if s==' ':\n",
    "    print('0')\n",
    "else:\n",
    "    while (True):\n",
    "        i+=1\n",
    "        if (s[i]>'A' and s[i]<'Z') or (s[i]>'a' and s[i]<'z'):\n",
    "            first_char=i\n",
    "            break\n",
    "        \n",
    "    for i in range(len(s)-1,-1,-1):\n",
    "        if (s[i]>'A' and s[i]<'Z') or (s[i]>'a' and s[i]<'z'):\n",
    "            last_char=i\n",
    "            break\n",
    "    \n",
    "s=s[first_char:last_char+1]\n",
    "\n",
    "answer=0\n",
    "for i in range(len(s)):\n",
    "    if s[i]==' ':\n",
    "        answer+=1\n",
    "print(answer+1)\n"
   ]
  },
  {
   "cell_type": "code",
   "execution_count": 21,
   "metadata": {},
   "outputs": [
    {
     "name": "stdout",
     "output_type": "stream",
     "text": [
      "0\n"
     ]
    }
   ],
   "source": [
    "s=list(map(str,input().split()))\n",
    "print(len(s))"
   ]
  },
  {
   "cell_type": "code",
   "execution_count": 26,
   "metadata": {},
   "outputs": [
    {
     "name": "stdout",
     "output_type": "stream",
     "text": [
      "734 893\n",
      "437\n"
     ]
    }
   ],
   "source": [
    "a,b=map(str,input().split())\n",
    "a=a[::-1]\n",
    "b=b[::-1]\n",
    "print(max(a,b))"
   ]
  },
  {
   "cell_type": "code",
   "execution_count": 38,
   "metadata": {},
   "outputs": [
    {
     "name": "stdout",
     "output_type": "stream",
     "text": [
      "33\n"
     ]
    }
   ],
   "source": [
    "s=list(input())\n",
    "\n",
    "for i in range(len(s)):\n",
    "    if s[i]>=chr(65)and s[i]<=chr(67):\n",
    "        s[i]=2\n",
    "    elif s[i]>=chr(68)and s[i]<=chr(70):\n",
    "        s[i]=3\n",
    "    elif s[i]>=chr(71)and s[i]<=chr(73):\n",
    "        s[i]=4\n",
    "    elif s[i]>=chr(74)and s[i]<=chr(76):\n",
    "        s[i]=5\n",
    "    elif s[i]>=chr(77)and s[i]<=chr(79):\n",
    "        s[i]=6\n",
    "    elif s[i]>=chr(80)and s[i]<=chr(83):\n",
    "        s[i]=7\n",
    "    elif s[i]>=chr(84)and s[i]<=chr(86):\n",
    "        s[i]=8\n",
    "    else:\n",
    "        s[i]=9\n",
    "    \n",
    "print(sum(s)+len(s))"
   ]
  },
  {
   "cell_type": "code",
   "execution_count": 39,
   "metadata": {},
   "outputs": [
    {
     "name": "stdout",
     "output_type": "stream",
     "text": [
      "Hello\n",
      "Baekjoon\n",
      "Online Judge\n",
      "\n",
      "\n",
      "\n"
     ]
    }
   ],
   "source": [
    "while (True):\n",
    "    try:\n",
    "        s=input()\n",
    "        print(s)\n",
    "    except:\n",
    "        break\n",
    "\n",
    "\n"
   ]
  },
  {
   "cell_type": "code",
   "execution_count": 45,
   "metadata": {},
   "outputs": [
    {
     "name": "stdout",
     "output_type": "stream",
     "text": [
      "-1 0 0 1 0 7 "
     ]
    }
   ],
   "source": [
    "s=list(map(int,input().split()))\n",
    "new_list=[]\n",
    "nomal=[1,1,2,2,2,8]\n",
    "\n",
    "for i in range(6):\n",
    "    a=nomal[i]-s[i]\n",
    "    new_list.append(a)\n",
    "for i in range(6):\n",
    "    print(new_list[i],end=\" \")\n"
   ]
  },
  {
   "cell_type": "code",
   "execution_count": 55,
   "metadata": {},
   "outputs": [
    {
     "name": "stdout",
     "output_type": "stream",
     "text": [
      "    *\n",
      "   ***\n",
      "  *****\n",
      " *******\n",
      "*********\n",
      " *******\n",
      "  *****\n",
      "   ***\n",
      "    *\n"
     ]
    }
   ],
   "source": [
    "n=int(input())\n",
    "\n",
    "for i in range(n):\n",
    "    print(\" \"*(n-i-1),end=\"\")\n",
    "    print('*'*(2*i+1))\n",
    "for i in range(n-2,-1,-1):\n",
    "    print(\" \"*(n-i-1),end=\"\")\n",
    "    print('*'*(2*i+1))"
   ]
  },
  {
   "cell_type": "code",
   "execution_count": 58,
   "metadata": {},
   "outputs": [
    {
     "name": "stdout",
     "output_type": "stream",
     "text": [
      "5 4 3 2 1 "
     ]
    }
   ],
   "source": [
    "n=5\n",
    "for i in [*range(1,n+1)]+[*range(n,0,-1)]:\n",
    "    print(i,end=\" \")"
   ]
  },
  {
   "cell_type": "code",
   "execution_count": 59,
   "metadata": {},
   "outputs": [
    {
     "name": "stdout",
     "output_type": "stream",
     "text": [
      "1\n"
     ]
    }
   ],
   "source": [
    "s=list(input())\n",
    "\n",
    "new_s=s[::-1]\n",
    "\n",
    "if s==new_s:\n",
    "    print(1)\n",
    "else:\n",
    "    print(0)"
   ]
  },
  {
   "cell_type": "code",
   "execution_count": 88,
   "metadata": {},
   "outputs": [
    {
     "name": "stdout",
     "output_type": "stream",
     "text": [
      "Z\n"
     ]
    }
   ],
   "source": [
    "s=input()\n",
    "s=s.upper()\n",
    "s=list(s)\n",
    "alphabet_list=[0]*26\n",
    "\n",
    "for i in range(len(s)):\n",
    "    for j in range(ord('A'),ord('Z')+1):\n",
    "        if s[i]==chr(j):\n",
    "            alphabet_list[j-65]+=1\n",
    "max_alphabet=[]\n",
    "for i in range(26):\n",
    "    if alphabet_list[i]==max(alphabet_list):\n",
    "        max_alphabet.append(alphabet_list[i])\n",
    "if len(max_alphabet)==1:\n",
    "    k=alphabet_list.index(max(alphabet_list))\n",
    "    print(chr(k+65))\n",
    "else:\n",
    "    print('?')\n"
   ]
  },
  {
   "cell_type": "code",
   "execution_count": null,
   "metadata": {},
   "outputs": [],
   "source": [
    "s=input()\n",
    "alphabet_list=['č', 'ć', 'dž','đ','lj','nj','š','ž']\n",
    "alphabet_num={}\n",
    "for i in range(ord('A'),ord('Z')+1):\n",
    "    "
   ]
  }
 ],
 "metadata": {
  "kernelspec": {
   "display_name": "base",
   "language": "python",
   "name": "python3"
  },
  "language_info": {
   "codemirror_mode": {
    "name": "ipython",
    "version": 3
   },
   "file_extension": ".py",
   "mimetype": "text/x-python",
   "name": "python",
   "nbconvert_exporter": "python",
   "pygments_lexer": "ipython3",
   "version": "3.9.7"
  },
  "orig_nbformat": 4
 },
 "nbformat": 4,
 "nbformat_minor": 2
}
